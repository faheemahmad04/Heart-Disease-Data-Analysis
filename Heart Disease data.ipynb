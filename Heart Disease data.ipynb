{
 "cells": [
  {
   "cell_type": "code",
   "execution_count": 48,
   "metadata": {},
   "outputs": [],
   "source": [
    "import pandas as pd\n",
    "import numpy as np\n",
    "import matplotlib.pyplot as plt\n",
    "import seaborn as sns"
   ]
  },
  {
   "cell_type": "code",
   "execution_count": 49,
   "metadata": {},
   "outputs": [
    {
     "data": {
      "text/html": [
       "<div>\n",
       "<style scoped>\n",
       "    .dataframe tbody tr th:only-of-type {\n",
       "        vertical-align: middle;\n",
       "    }\n",
       "\n",
       "    .dataframe tbody tr th {\n",
       "        vertical-align: top;\n",
       "    }\n",
       "\n",
       "    .dataframe thead th {\n",
       "        text-align: right;\n",
       "    }\n",
       "</style>\n",
       "<table border=\"1\" class=\"dataframe\">\n",
       "  <thead>\n",
       "    <tr style=\"text-align: right;\">\n",
       "      <th></th>\n",
       "      <th>Age</th>\n",
       "      <th>Sex</th>\n",
       "      <th>Chest Pain</th>\n",
       "      <th>Resting BPs</th>\n",
       "      <th>Cholestoral</th>\n",
       "      <th>Fasting Blood Sugar</th>\n",
       "      <th>Resting ECG</th>\n",
       "      <th>Mx Heart Rate</th>\n",
       "      <th>Exercise Induced Angina</th>\n",
       "      <th>Oldpeak</th>\n",
       "      <th>Slope of the peak exercise ST segment</th>\n",
       "      <th>No. of Major Vessels Coloured by Flourosopy</th>\n",
       "      <th>Thallium Stress Test</th>\n",
       "      <th>Target</th>\n",
       "    </tr>\n",
       "  </thead>\n",
       "  <tbody>\n",
       "    <tr>\n",
       "      <th>0</th>\n",
       "      <td>52</td>\n",
       "      <td>1</td>\n",
       "      <td>0</td>\n",
       "      <td>125</td>\n",
       "      <td>212</td>\n",
       "      <td>0</td>\n",
       "      <td>1</td>\n",
       "      <td>168</td>\n",
       "      <td>0</td>\n",
       "      <td>1.0</td>\n",
       "      <td>2</td>\n",
       "      <td>2</td>\n",
       "      <td>3</td>\n",
       "      <td>0</td>\n",
       "    </tr>\n",
       "    <tr>\n",
       "      <th>1</th>\n",
       "      <td>53</td>\n",
       "      <td>1</td>\n",
       "      <td>0</td>\n",
       "      <td>140</td>\n",
       "      <td>203</td>\n",
       "      <td>1</td>\n",
       "      <td>0</td>\n",
       "      <td>155</td>\n",
       "      <td>1</td>\n",
       "      <td>3.1</td>\n",
       "      <td>0</td>\n",
       "      <td>0</td>\n",
       "      <td>3</td>\n",
       "      <td>0</td>\n",
       "    </tr>\n",
       "    <tr>\n",
       "      <th>2</th>\n",
       "      <td>70</td>\n",
       "      <td>1</td>\n",
       "      <td>0</td>\n",
       "      <td>145</td>\n",
       "      <td>174</td>\n",
       "      <td>0</td>\n",
       "      <td>1</td>\n",
       "      <td>125</td>\n",
       "      <td>1</td>\n",
       "      <td>2.6</td>\n",
       "      <td>0</td>\n",
       "      <td>0</td>\n",
       "      <td>3</td>\n",
       "      <td>0</td>\n",
       "    </tr>\n",
       "    <tr>\n",
       "      <th>3</th>\n",
       "      <td>61</td>\n",
       "      <td>1</td>\n",
       "      <td>0</td>\n",
       "      <td>148</td>\n",
       "      <td>203</td>\n",
       "      <td>0</td>\n",
       "      <td>1</td>\n",
       "      <td>161</td>\n",
       "      <td>0</td>\n",
       "      <td>0.0</td>\n",
       "      <td>2</td>\n",
       "      <td>1</td>\n",
       "      <td>3</td>\n",
       "      <td>0</td>\n",
       "    </tr>\n",
       "    <tr>\n",
       "      <th>4</th>\n",
       "      <td>62</td>\n",
       "      <td>0</td>\n",
       "      <td>0</td>\n",
       "      <td>138</td>\n",
       "      <td>294</td>\n",
       "      <td>1</td>\n",
       "      <td>1</td>\n",
       "      <td>106</td>\n",
       "      <td>0</td>\n",
       "      <td>1.9</td>\n",
       "      <td>1</td>\n",
       "      <td>3</td>\n",
       "      <td>2</td>\n",
       "      <td>0</td>\n",
       "    </tr>\n",
       "  </tbody>\n",
       "</table>\n",
       "</div>"
      ],
      "text/plain": [
       "   Age  Sex  Chest Pain  Resting BPs  Cholestoral  Fasting Blood Sugar  \\\n",
       "0   52    1           0          125          212                    0   \n",
       "1   53    1           0          140          203                    1   \n",
       "2   70    1           0          145          174                    0   \n",
       "3   61    1           0          148          203                    0   \n",
       "4   62    0           0          138          294                    1   \n",
       "\n",
       "   Resting ECG  Mx Heart Rate  Exercise Induced Angina  Oldpeak  \\\n",
       "0            1            168                        0      1.0   \n",
       "1            0            155                        1      3.1   \n",
       "2            1            125                        1      2.6   \n",
       "3            1            161                        0      0.0   \n",
       "4            1            106                        0      1.9   \n",
       "\n",
       "   Slope of the peak exercise ST segment  \\\n",
       "0                                      2   \n",
       "1                                      0   \n",
       "2                                      0   \n",
       "3                                      2   \n",
       "4                                      1   \n",
       "\n",
       "   No. of Major Vessels Coloured by Flourosopy  Thallium Stress Test  Target  \n",
       "0                                            2                     3       0  \n",
       "1                                            0                     3       0  \n",
       "2                                            0                     3       0  \n",
       "3                                            1                     3       0  \n",
       "4                                            3                     2       0  "
      ]
     },
     "execution_count": 49,
     "metadata": {},
     "output_type": "execute_result"
    }
   ],
   "source": [
    "# Create DataFrame\n",
    "df = pd.read_csv(\"Heart Disease data.csv\")\n",
    "df.head()"
   ]
  },
  {
   "cell_type": "code",
   "execution_count": 50,
   "metadata": {},
   "outputs": [
    {
     "data": {
      "text/plain": [
       "Age                                            0\n",
       "Sex                                            0\n",
       "Chest Pain                                     0\n",
       "Resting BPs                                    0\n",
       "Cholestoral                                    0\n",
       "Fasting Blood Sugar                            0\n",
       "Resting ECG                                    0\n",
       "Mx Heart Rate                                  0\n",
       "Exercise Induced Angina                        0\n",
       "Oldpeak                                        0\n",
       "Slope of the peak exercise ST segment          0\n",
       "No. of Major Vessels Coloured by Flourosopy    0\n",
       "Thallium Stress Test                           0\n",
       "Target                                         0\n",
       "dtype: int64"
      ]
     },
     "execution_count": 50,
     "metadata": {},
     "output_type": "execute_result"
    }
   ],
   "source": [
    "# Checking the missing values\n",
    "df.isnull().sum()"
   ]
  },
  {
   "cell_type": "code",
   "execution_count": 52,
   "metadata": {},
   "outputs": [
    {
     "data": {
      "text/html": [
       "<div>\n",
       "<style scoped>\n",
       "    .dataframe tbody tr th:only-of-type {\n",
       "        vertical-align: middle;\n",
       "    }\n",
       "\n",
       "    .dataframe tbody tr th {\n",
       "        vertical-align: top;\n",
       "    }\n",
       "\n",
       "    .dataframe thead th {\n",
       "        text-align: right;\n",
       "    }\n",
       "</style>\n",
       "<table border=\"1\" class=\"dataframe\">\n",
       "  <thead>\n",
       "    <tr style=\"text-align: right;\">\n",
       "      <th></th>\n",
       "      <th>Age</th>\n",
       "      <th>Sex</th>\n",
       "      <th>Chest Pain</th>\n",
       "      <th>Resting BPs</th>\n",
       "      <th>Cholestoral</th>\n",
       "      <th>Fasting Blood Sugar</th>\n",
       "      <th>Resting ECG</th>\n",
       "      <th>Mx Heart Rate</th>\n",
       "      <th>Exercise Induced Angina</th>\n",
       "      <th>Oldpeak</th>\n",
       "      <th>Slope of the peak exercise ST segment</th>\n",
       "      <th>No. of Major Vessels Coloured by Flourosopy</th>\n",
       "      <th>Thallium Stress Test</th>\n",
       "      <th>Target</th>\n",
       "    </tr>\n",
       "  </thead>\n",
       "  <tbody>\n",
       "    <tr>\n",
       "      <th>0</th>\n",
       "      <td>52</td>\n",
       "      <td>Male</td>\n",
       "      <td>Typical Angina</td>\n",
       "      <td>125</td>\n",
       "      <td>212</td>\n",
       "      <td>&lt;= 120 mg/dl</td>\n",
       "      <td>ST-T Wave Abnormallity</td>\n",
       "      <td>168</td>\n",
       "      <td>No</td>\n",
       "      <td>1.0</td>\n",
       "      <td>Down-Sloping</td>\n",
       "      <td>2</td>\n",
       "      <td>NaN</td>\n",
       "      <td>No Disease</td>\n",
       "    </tr>\n",
       "    <tr>\n",
       "      <th>1</th>\n",
       "      <td>53</td>\n",
       "      <td>Male</td>\n",
       "      <td>Typical Angina</td>\n",
       "      <td>140</td>\n",
       "      <td>203</td>\n",
       "      <td>&gt;120 mg/dl</td>\n",
       "      <td>Normal</td>\n",
       "      <td>155</td>\n",
       "      <td>Yes</td>\n",
       "      <td>3.1</td>\n",
       "      <td>Up-Sloping</td>\n",
       "      <td>0</td>\n",
       "      <td>NaN</td>\n",
       "      <td>No Disease</td>\n",
       "    </tr>\n",
       "    <tr>\n",
       "      <th>2</th>\n",
       "      <td>70</td>\n",
       "      <td>Male</td>\n",
       "      <td>Typical Angina</td>\n",
       "      <td>145</td>\n",
       "      <td>174</td>\n",
       "      <td>&lt;= 120 mg/dl</td>\n",
       "      <td>ST-T Wave Abnormallity</td>\n",
       "      <td>125</td>\n",
       "      <td>Yes</td>\n",
       "      <td>2.6</td>\n",
       "      <td>Up-Sloping</td>\n",
       "      <td>0</td>\n",
       "      <td>NaN</td>\n",
       "      <td>No Disease</td>\n",
       "    </tr>\n",
       "    <tr>\n",
       "      <th>3</th>\n",
       "      <td>61</td>\n",
       "      <td>Male</td>\n",
       "      <td>Typical Angina</td>\n",
       "      <td>148</td>\n",
       "      <td>203</td>\n",
       "      <td>&lt;= 120 mg/dl</td>\n",
       "      <td>ST-T Wave Abnormallity</td>\n",
       "      <td>161</td>\n",
       "      <td>No</td>\n",
       "      <td>0.0</td>\n",
       "      <td>Down-Sloping</td>\n",
       "      <td>1</td>\n",
       "      <td>NaN</td>\n",
       "      <td>No Disease</td>\n",
       "    </tr>\n",
       "    <tr>\n",
       "      <th>4</th>\n",
       "      <td>62</td>\n",
       "      <td>Female</td>\n",
       "      <td>Typical Angina</td>\n",
       "      <td>138</td>\n",
       "      <td>294</td>\n",
       "      <td>&gt;120 mg/dl</td>\n",
       "      <td>ST-T Wave Abnormallity</td>\n",
       "      <td>106</td>\n",
       "      <td>No</td>\n",
       "      <td>1.9</td>\n",
       "      <td>Flat</td>\n",
       "      <td>3</td>\n",
       "      <td>Reversible Defect</td>\n",
       "      <td>No Disease</td>\n",
       "    </tr>\n",
       "  </tbody>\n",
       "</table>\n",
       "</div>"
      ],
      "text/plain": [
       "   Age     Sex      Chest Pain  Resting BPs  Cholestoral Fasting Blood Sugar  \\\n",
       "0   52    Male  Typical Angina          125          212        <= 120 mg/dl   \n",
       "1   53    Male  Typical Angina          140          203          >120 mg/dl   \n",
       "2   70    Male  Typical Angina          145          174        <= 120 mg/dl   \n",
       "3   61    Male  Typical Angina          148          203        <= 120 mg/dl   \n",
       "4   62  Female  Typical Angina          138          294          >120 mg/dl   \n",
       "\n",
       "              Resting ECG  Mx Heart Rate Exercise Induced Angina  Oldpeak  \\\n",
       "0  ST-T Wave Abnormallity            168                      No      1.0   \n",
       "1                  Normal            155                     Yes      3.1   \n",
       "2  ST-T Wave Abnormallity            125                     Yes      2.6   \n",
       "3  ST-T Wave Abnormallity            161                      No      0.0   \n",
       "4  ST-T Wave Abnormallity            106                      No      1.9   \n",
       "\n",
       "  Slope of the peak exercise ST segment  \\\n",
       "0                          Down-Sloping   \n",
       "1                            Up-Sloping   \n",
       "2                            Up-Sloping   \n",
       "3                          Down-Sloping   \n",
       "4                                  Flat   \n",
       "\n",
       "   No. of Major Vessels Coloured by Flourosopy Thallium Stress Test  \\\n",
       "0                                            2                  NaN   \n",
       "1                                            0                  NaN   \n",
       "2                                            0                  NaN   \n",
       "3                                            1                  NaN   \n",
       "4                                            3    Reversible Defect   \n",
       "\n",
       "       Target  \n",
       "0  No Disease  \n",
       "1  No Disease  \n",
       "2  No Disease  \n",
       "3  No Disease  \n",
       "4  No Disease  "
      ]
     },
     "execution_count": 52,
     "metadata": {},
     "output_type": "execute_result"
    }
   ],
   "source": [
    "# transforming categorical variables\n",
    "df['Sex'] = df['Sex'].map({0:'Female', 1:'Male'})\n",
    "df['Chest Pain'] = df['Chest Pain'].map({0:'Typical Angina', 1:'Atypical Angina', 2:'Non-Anginal', 3:'Asymptomatic'})\n",
    "df['Fasting Blood Sugar'] = df['Fasting Blood Sugar'].map({0:'<= 120 mg/dl', 1:'>120 mg/dl'})\n",
    "df['Resting ECG'] = df['Resting ECG'].map({0:'Normal', 1:'ST-T Wave Abnormallity', 2:'Left Ventricular Hypertrophy'})\n",
    "df['Exercise Induced Angina'] = df['Exercise Induced Angina'].map({0:'No', 1:'Yes'})\n",
    "df['Slope of the peak exercise ST segment'] = df['Slope of the peak exercise ST segment'].map({0:'Up-Sloping', 1:'Flat', 2:'Down-Sloping'})\n",
    "df['Thallium Stress Test'] = df['Thallium Stress Test'].map({0:'Normal', 1:'Fixed Defect', 2:'Reversible Defect'})\n",
    "df['Target'] = df['Target'].map({0:'No Disease', 1:'Disease'})\n",
    "\n",
    "df.head()"
   ]
  },
  {
   "cell_type": "markdown",
   "metadata": {},
   "source": [
    "# Doing EDA process to uncover patterns and relationships"
   ]
  },
  {
   "cell_type": "code",
   "execution_count": 53,
   "metadata": {},
   "outputs": [
    {
     "data": {
      "text/html": [
       "<div>\n",
       "<style scoped>\n",
       "    .dataframe tbody tr th:only-of-type {\n",
       "        vertical-align: middle;\n",
       "    }\n",
       "\n",
       "    .dataframe tbody tr th {\n",
       "        vertical-align: top;\n",
       "    }\n",
       "\n",
       "    .dataframe thead th {\n",
       "        text-align: right;\n",
       "    }\n",
       "</style>\n",
       "<table border=\"1\" class=\"dataframe\">\n",
       "  <thead>\n",
       "    <tr style=\"text-align: right;\">\n",
       "      <th></th>\n",
       "      <th>Age</th>\n",
       "      <th>Resting BPs</th>\n",
       "      <th>Cholestoral</th>\n",
       "      <th>Mx Heart Rate</th>\n",
       "      <th>Oldpeak</th>\n",
       "      <th>No. of Major Vessels Coloured by Flourosopy</th>\n",
       "    </tr>\n",
       "  </thead>\n",
       "  <tbody>\n",
       "    <tr>\n",
       "      <th>count</th>\n",
       "      <td>1025.000000</td>\n",
       "      <td>1025.000000</td>\n",
       "      <td>1025.00000</td>\n",
       "      <td>1025.000000</td>\n",
       "      <td>1025.000000</td>\n",
       "      <td>1025.000000</td>\n",
       "    </tr>\n",
       "    <tr>\n",
       "      <th>mean</th>\n",
       "      <td>54.434146</td>\n",
       "      <td>131.611707</td>\n",
       "      <td>246.00000</td>\n",
       "      <td>149.114146</td>\n",
       "      <td>1.071512</td>\n",
       "      <td>0.754146</td>\n",
       "    </tr>\n",
       "    <tr>\n",
       "      <th>std</th>\n",
       "      <td>9.072290</td>\n",
       "      <td>17.516718</td>\n",
       "      <td>51.59251</td>\n",
       "      <td>23.005724</td>\n",
       "      <td>1.175053</td>\n",
       "      <td>1.030798</td>\n",
       "    </tr>\n",
       "    <tr>\n",
       "      <th>min</th>\n",
       "      <td>29.000000</td>\n",
       "      <td>94.000000</td>\n",
       "      <td>126.00000</td>\n",
       "      <td>71.000000</td>\n",
       "      <td>0.000000</td>\n",
       "      <td>0.000000</td>\n",
       "    </tr>\n",
       "    <tr>\n",
       "      <th>25%</th>\n",
       "      <td>48.000000</td>\n",
       "      <td>120.000000</td>\n",
       "      <td>211.00000</td>\n",
       "      <td>132.000000</td>\n",
       "      <td>0.000000</td>\n",
       "      <td>0.000000</td>\n",
       "    </tr>\n",
       "    <tr>\n",
       "      <th>50%</th>\n",
       "      <td>56.000000</td>\n",
       "      <td>130.000000</td>\n",
       "      <td>240.00000</td>\n",
       "      <td>152.000000</td>\n",
       "      <td>0.800000</td>\n",
       "      <td>0.000000</td>\n",
       "    </tr>\n",
       "    <tr>\n",
       "      <th>75%</th>\n",
       "      <td>61.000000</td>\n",
       "      <td>140.000000</td>\n",
       "      <td>275.00000</td>\n",
       "      <td>166.000000</td>\n",
       "      <td>1.800000</td>\n",
       "      <td>1.000000</td>\n",
       "    </tr>\n",
       "    <tr>\n",
       "      <th>max</th>\n",
       "      <td>77.000000</td>\n",
       "      <td>200.000000</td>\n",
       "      <td>564.00000</td>\n",
       "      <td>202.000000</td>\n",
       "      <td>6.200000</td>\n",
       "      <td>4.000000</td>\n",
       "    </tr>\n",
       "  </tbody>\n",
       "</table>\n",
       "</div>"
      ],
      "text/plain": [
       "               Age  Resting BPs  Cholestoral  Mx Heart Rate      Oldpeak  \\\n",
       "count  1025.000000  1025.000000   1025.00000    1025.000000  1025.000000   \n",
       "mean     54.434146   131.611707    246.00000     149.114146     1.071512   \n",
       "std       9.072290    17.516718     51.59251      23.005724     1.175053   \n",
       "min      29.000000    94.000000    126.00000      71.000000     0.000000   \n",
       "25%      48.000000   120.000000    211.00000     132.000000     0.000000   \n",
       "50%      56.000000   130.000000    240.00000     152.000000     0.800000   \n",
       "75%      61.000000   140.000000    275.00000     166.000000     1.800000   \n",
       "max      77.000000   200.000000    564.00000     202.000000     6.200000   \n",
       "\n",
       "       No. of Major Vessels Coloured by Flourosopy  \n",
       "count                                  1025.000000  \n",
       "mean                                      0.754146  \n",
       "std                                       1.030798  \n",
       "min                                       0.000000  \n",
       "25%                                       0.000000  \n",
       "50%                                       0.000000  \n",
       "75%                                       1.000000  \n",
       "max                                       4.000000  "
      ]
     },
     "execution_count": 53,
     "metadata": {},
     "output_type": "execute_result"
    }
   ],
   "source": [
    "# Statistical summary\n",
    "df.describe()"
   ]
  },
  {
   "cell_type": "code",
   "execution_count": 70,
   "metadata": {},
   "outputs": [
    {
     "data": {
      "text/html": [
       "<div>\n",
       "<style scoped>\n",
       "    .dataframe tbody tr th:only-of-type {\n",
       "        vertical-align: middle;\n",
       "    }\n",
       "\n",
       "    .dataframe tbody tr th {\n",
       "        vertical-align: top;\n",
       "    }\n",
       "\n",
       "    .dataframe thead th {\n",
       "        text-align: right;\n",
       "    }\n",
       "</style>\n",
       "<table border=\"1\" class=\"dataframe\">\n",
       "  <thead>\n",
       "    <tr style=\"text-align: right;\">\n",
       "      <th></th>\n",
       "      <th>Age</th>\n",
       "      <th>Resting BPs</th>\n",
       "      <th>Cholestoral</th>\n",
       "      <th>Mx Heart Rate</th>\n",
       "      <th>Oldpeak</th>\n",
       "      <th>No. of Major Vessels Coloured by Flourosopy</th>\n",
       "    </tr>\n",
       "  </thead>\n",
       "  <tbody>\n",
       "    <tr>\n",
       "      <th>Age</th>\n",
       "      <td>1.000000</td>\n",
       "      <td>0.271121</td>\n",
       "      <td>0.219823</td>\n",
       "      <td>-0.390227</td>\n",
       "      <td>0.208137</td>\n",
       "      <td>0.271551</td>\n",
       "    </tr>\n",
       "    <tr>\n",
       "      <th>Resting BPs</th>\n",
       "      <td>0.271121</td>\n",
       "      <td>1.000000</td>\n",
       "      <td>0.127977</td>\n",
       "      <td>-0.039264</td>\n",
       "      <td>0.187434</td>\n",
       "      <td>0.104554</td>\n",
       "    </tr>\n",
       "    <tr>\n",
       "      <th>Cholestoral</th>\n",
       "      <td>0.219823</td>\n",
       "      <td>0.127977</td>\n",
       "      <td>1.000000</td>\n",
       "      <td>-0.021772</td>\n",
       "      <td>0.064880</td>\n",
       "      <td>0.074259</td>\n",
       "    </tr>\n",
       "    <tr>\n",
       "      <th>Mx Heart Rate</th>\n",
       "      <td>-0.390227</td>\n",
       "      <td>-0.039264</td>\n",
       "      <td>-0.021772</td>\n",
       "      <td>1.000000</td>\n",
       "      <td>-0.349796</td>\n",
       "      <td>-0.207888</td>\n",
       "    </tr>\n",
       "    <tr>\n",
       "      <th>Oldpeak</th>\n",
       "      <td>0.208137</td>\n",
       "      <td>0.187434</td>\n",
       "      <td>0.064880</td>\n",
       "      <td>-0.349796</td>\n",
       "      <td>1.000000</td>\n",
       "      <td>0.221816</td>\n",
       "    </tr>\n",
       "    <tr>\n",
       "      <th>No. of Major Vessels Coloured by Flourosopy</th>\n",
       "      <td>0.271551</td>\n",
       "      <td>0.104554</td>\n",
       "      <td>0.074259</td>\n",
       "      <td>-0.207888</td>\n",
       "      <td>0.221816</td>\n",
       "      <td>1.000000</td>\n",
       "    </tr>\n",
       "  </tbody>\n",
       "</table>\n",
       "</div>"
      ],
      "text/plain": [
       "                                                  Age  Resting BPs  \\\n",
       "Age                                          1.000000     0.271121   \n",
       "Resting BPs                                  0.271121     1.000000   \n",
       "Cholestoral                                  0.219823     0.127977   \n",
       "Mx Heart Rate                               -0.390227    -0.039264   \n",
       "Oldpeak                                      0.208137     0.187434   \n",
       "No. of Major Vessels Coloured by Flourosopy  0.271551     0.104554   \n",
       "\n",
       "                                             Cholestoral  Mx Heart Rate  \\\n",
       "Age                                             0.219823      -0.390227   \n",
       "Resting BPs                                     0.127977      -0.039264   \n",
       "Cholestoral                                     1.000000      -0.021772   \n",
       "Mx Heart Rate                                  -0.021772       1.000000   \n",
       "Oldpeak                                         0.064880      -0.349796   \n",
       "No. of Major Vessels Coloured by Flourosopy     0.074259      -0.207888   \n",
       "\n",
       "                                              Oldpeak  \\\n",
       "Age                                          0.208137   \n",
       "Resting BPs                                  0.187434   \n",
       "Cholestoral                                  0.064880   \n",
       "Mx Heart Rate                               -0.349796   \n",
       "Oldpeak                                      1.000000   \n",
       "No. of Major Vessels Coloured by Flourosopy  0.221816   \n",
       "\n",
       "                                             No. of Major Vessels Coloured by Flourosopy  \n",
       "Age                                                                             0.271551  \n",
       "Resting BPs                                                                     0.104554  \n",
       "Cholestoral                                                                     0.074259  \n",
       "Mx Heart Rate                                                                  -0.207888  \n",
       "Oldpeak                                                                         0.221816  \n",
       "No. of Major Vessels Coloured by Flourosopy                                     1.000000  "
      ]
     },
     "execution_count": 70,
     "metadata": {},
     "output_type": "execute_result"
    }
   ],
   "source": [
    "# select only numeric columns for correlation computation\n",
    "numeric_df = df.select_dtypes(include='number')\n",
    "\n",
    "# correlations between numeric attributes\n",
    "corr = numeric_df.corr()\n",
    "corr"
   ]
  },
  {
   "cell_type": "code",
   "execution_count": 93,
   "metadata": {},
   "outputs": [
    {
     "data": {
      "application/vnd.plotly.v1+json": {
       "config": {
        "plotlyServerURL": "https://plot.ly"
       },
       "data": [
        {
         "alignmentgroup": "True",
         "bingroup": "x",
         "hovertemplate": "Age=%{x}<br>count=%{y}<extra></extra>",
         "legendgroup": "",
         "marker": {
          "color": "#636efa",
          "pattern": {
           "shape": ""
          }
         },
         "name": "",
         "nbinsx": 30,
         "offsetgroup": "",
         "orientation": "v",
         "showlegend": false,
         "type": "histogram",
         "x": [
          52,
          53,
          70,
          61,
          62,
          58,
          58,
          55,
          46,
          54,
          71,
          43,
          34,
          51,
          52,
          34,
          51,
          54,
          50,
          58,
          60,
          67,
          45,
          63,
          42,
          61,
          44,
          58,
          56,
          55,
          44,
          50,
          57,
          70,
          50,
          46,
          51,
          59,
          64,
          57,
          65,
          54,
          61,
          46,
          55,
          42,
          41,
          66,
          66,
          60,
          58,
          57,
          38,
          49,
          55,
          55,
          56,
          48,
          67,
          57,
          29,
          66,
          67,
          59,
          29,
          59,
          53,
          42,
          37,
          62,
          59,
          61,
          56,
          59,
          48,
          47,
          48,
          63,
          52,
          52,
          50,
          49,
          46,
          38,
          37,
          44,
          58,
          59,
          62,
          68,
          54,
          62,
          63,
          44,
          62,
          45,
          57,
          53,
          65,
          76,
          43,
          57,
          54,
          47,
          52,
          47,
          51,
          62,
          40,
          54,
          44,
          53,
          48,
          57,
          59,
          61,
          63,
          43,
          29,
          42,
          54,
          44,
          60,
          65,
          61,
          60,
          66,
          53,
          52,
          57,
          60,
          51,
          41,
          50,
          54,
          58,
          55,
          64,
          47,
          41,
          57,
          63,
          61,
          34,
          47,
          40,
          51,
          41,
          52,
          39,
          58,
          54,
          58,
          54,
          63,
          54,
          40,
          54,
          67,
          41,
          77,
          51,
          77,
          48,
          56,
          59,
          56,
          57,
          43,
          45,
          43,
          56,
          56,
          39,
          54,
          56,
          56,
          64,
          44,
          56,
          63,
          64,
          60,
          42,
          45,
          57,
          40,
          56,
          63,
          64,
          41,
          56,
          67,
          69,
          67,
          59,
          58,
          45,
          60,
          50,
          62,
          34,
          52,
          64,
          66,
          42,
          59,
          41,
          38,
          62,
          42,
          67,
          50,
          43,
          45,
          49,
          65,
          41,
          46,
          54,
          57,
          63,
          64,
          39,
          51,
          54,
          49,
          44,
          52,
          66,
          58,
          56,
          60,
          41,
          49,
          64,
          49,
          57,
          60,
          62,
          54,
          67,
          38,
          60,
          51,
          44,
          54,
          46,
          39,
          42,
          47,
          45,
          55,
          57,
          35,
          62,
          35,
          64,
          38,
          66,
          44,
          54,
          48,
          55,
          58,
          45,
          53,
          67,
          58,
          71,
          43,
          44,
          39,
          54,
          66,
          56,
          57,
          44,
          55,
          41,
          45,
          35,
          41,
          64,
          58,
          71,
          64,
          71,
          58,
          40,
          52,
          58,
          61,
          59,
          56,
          67,
          67,
          58,
          35,
          52,
          46,
          51,
          55,
          60,
          52,
          62,
          44,
          44,
          59,
          56,
          61,
          48,
          70,
          74,
          40,
          42,
          64,
          63,
          59,
          53,
          53,
          48,
          45,
          66,
          48,
          56,
          54,
          57,
          70,
          53,
          37,
          63,
          37,
          54,
          60,
          58,
          57,
          54,
          56,
          60,
          38,
          44,
          65,
          52,
          41,
          66,
          50,
          54,
          43,
          62,
          66,
          50,
          57,
          57,
          57,
          46,
          59,
          67,
          59,
          53,
          48,
          62,
          43,
          53,
          57,
          53,
          58,
          48,
          58,
          51,
          43,
          55,
          54,
          58,
          46,
          66,
          59,
          64,
          67,
          52,
          58,
          58,
          59,
          58,
          35,
          51,
          42,
          77,
          64,
          63,
          58,
          45,
          51,
          62,
          63,
          66,
          68,
          40,
          66,
          63,
          49,
          71,
          70,
          46,
          61,
          56,
          58,
          58,
          46,
          46,
          41,
          56,
          57,
          70,
          59,
          41,
          54,
          52,
          62,
          65,
          57,
          42,
          57,
          58,
          45,
          51,
          54,
          57,
          43,
          47,
          67,
          65,
          60,
          37,
          41,
          57,
          59,
          67,
          47,
          58,
          62,
          60,
          57,
          57,
          47,
          52,
          53,
          55,
          51,
          52,
          63,
          49,
          66,
          49,
          65,
          69,
          47,
          39,
          43,
          51,
          69,
          48,
          52,
          43,
          67,
          38,
          44,
          47,
          61,
          67,
          60,
          64,
          58,
          41,
          48,
          57,
          57,
          57,
          39,
          58,
          51,
          63,
          51,
          35,
          65,
          62,
          41,
          65,
          54,
          61,
          57,
          57,
          64,
          55,
          51,
          59,
          68,
          57,
          54,
          46,
          71,
          35,
          46,
          45,
          47,
          44,
          61,
          41,
          56,
          55,
          54,
          43,
          44,
          54,
          44,
          49,
          60,
          41,
          49,
          61,
          59,
          58,
          67,
          61,
          58,
          51,
          62,
          62,
          59,
          69,
          60,
          65,
          63,
          53,
          54,
          76,
          50,
          52,
          46,
          64,
          58,
          44,
          62,
          59,
          54,
          48,
          70,
          67,
          51,
          68,
          69,
          54,
          43,
          53,
          58,
          67,
          59,
          48,
          39,
          67,
          58,
          65,
          42,
          44,
          56,
          53,
          50,
          41,
          54,
          42,
          54,
          60,
          34,
          44,
          60,
          43,
          52,
          70,
          62,
          58,
          46,
          44,
          55,
          43,
          55,
          40,
          64,
          59,
          61,
          54,
          74,
          63,
          70,
          63,
          64,
          61,
          59,
          38,
          58,
          63,
          62,
          46,
          58,
          63,
          47,
          71,
          66,
          42,
          64,
          55,
          43,
          55,
          58,
          55,
          51,
          50,
          43,
          41,
          49,
          65,
          57,
          48,
          62,
          61,
          59,
          69,
          58,
          38,
          69,
          65,
          45,
          49,
          45,
          61,
          52,
          53,
          59,
          58,
          65,
          58,
          46,
          56,
          64,
          65,
          44,
          50,
          47,
          64,
          71,
          45,
          62,
          41,
          66,
          56,
          41,
          41,
          57,
          39,
          64,
          59,
          61,
          58,
          47,
          58,
          66,
          65,
          35,
          57,
          29,
          66,
          61,
          52,
          68,
          54,
          63,
          58,
          60,
          63,
          41,
          68,
          42,
          59,
          59,
          43,
          60,
          63,
          52,
          58,
          56,
          54,
          58,
          55,
          53,
          63,
          39,
          35,
          50,
          67,
          66,
          35,
          41,
          35,
          71,
          57,
          51,
          58,
          57,
          56,
          60,
          45,
          56,
          35,
          45,
          66,
          51,
          70,
          55,
          56,
          55,
          52,
          64,
          45,
          67,
          68,
          74,
          60,
          48,
          56,
          46,
          55,
          44,
          52,
          51,
          44,
          52,
          50,
          59,
          67,
          58,
          52,
          44,
          41,
          63,
          58,
          60,
          51,
          64,
          60,
          44,
          58,
          55,
          65,
          48,
          65,
          51,
          48,
          64,
          66,
          46,
          61,
          57,
          49,
          56,
          58,
          63,
          57,
          57,
          68,
          46,
          71,
          41,
          45,
          62,
          65,
          48,
          51,
          61,
          53,
          59,
          34,
          44,
          58,
          64,
          56,
          54,
          55,
          67,
          51,
          62,
          62,
          54,
          54,
          68,
          60,
          61,
          62,
          41,
          65,
          59,
          43,
          67,
          63,
          63,
          52,
          58,
          53,
          57,
          44,
          51,
          54,
          40,
          57,
          62,
          53,
          62,
          58,
          70,
          45,
          42,
          58,
          61,
          62,
          60,
          54,
          61,
          63,
          42,
          57,
          44,
          54,
          51,
          58,
          68,
          55,
          42,
          49,
          53,
          52,
          51,
          51,
          70,
          35,
          58,
          59,
          60,
          56,
          35,
          61,
          58,
          52,
          58,
          37,
          52,
          67,
          65,
          46,
          68,
          43,
          68,
          51,
          52,
          64,
          59,
          52,
          59,
          60,
          41,
          41,
          56,
          56,
          48,
          39,
          64,
          57,
          59,
          60,
          61,
          43,
          54,
          59,
          57,
          57,
          57,
          48,
          70,
          57,
          61,
          57,
          60,
          63,
          55,
          64,
          54,
          52,
          51,
          62,
          59,
          52,
          42,
          59,
          61,
          42,
          62,
          59,
          55,
          64,
          42,
          50,
          62,
          50,
          50,
          58,
          35,
          45,
          66,
          46,
          65,
          47,
          59,
          38,
          39,
          58,
          44,
          54,
          61,
          57,
          54,
          42,
          54,
          60,
          65,
          40,
          51,
          38,
          42,
          56,
          43,
          64,
          53,
          49,
          57,
          52,
          69,
          65,
          66,
          56,
          67,
          54,
          70,
          57,
          67,
          62,
          54,
          45,
          53,
          62,
          49,
          50,
          65,
          69,
          52,
          58,
          52,
          57,
          44,
          76,
          58,
          60,
          53,
          52,
          38,
          52,
          52,
          51,
          43,
          39,
          63,
          52,
          44,
          45,
          57,
          39,
          67,
          64,
          59,
          62,
          55,
          57,
          60,
          71,
          56,
          60,
          50,
          43,
          59,
          44,
          56,
          54,
          42,
          67,
          64,
          42,
          66,
          52,
          51,
          55,
          58,
          56,
          42,
          40,
          51,
          45,
          48,
          58,
          44,
          58,
          65,
          53,
          41,
          47,
          59,
          60,
          47,
          50,
          54
         ],
         "xaxis": "x",
         "yaxis": "y"
        },
        {
         "alignmentgroup": "True",
         "hovertemplate": "Age=%{x}<extra></extra>",
         "legendgroup": "",
         "marker": {
          "color": "#636efa"
         },
         "name": "",
         "offsetgroup": "",
         "scalegroup": "x",
         "showlegend": false,
         "type": "violin",
         "x": [
          52,
          53,
          70,
          61,
          62,
          58,
          58,
          55,
          46,
          54,
          71,
          43,
          34,
          51,
          52,
          34,
          51,
          54,
          50,
          58,
          60,
          67,
          45,
          63,
          42,
          61,
          44,
          58,
          56,
          55,
          44,
          50,
          57,
          70,
          50,
          46,
          51,
          59,
          64,
          57,
          65,
          54,
          61,
          46,
          55,
          42,
          41,
          66,
          66,
          60,
          58,
          57,
          38,
          49,
          55,
          55,
          56,
          48,
          67,
          57,
          29,
          66,
          67,
          59,
          29,
          59,
          53,
          42,
          37,
          62,
          59,
          61,
          56,
          59,
          48,
          47,
          48,
          63,
          52,
          52,
          50,
          49,
          46,
          38,
          37,
          44,
          58,
          59,
          62,
          68,
          54,
          62,
          63,
          44,
          62,
          45,
          57,
          53,
          65,
          76,
          43,
          57,
          54,
          47,
          52,
          47,
          51,
          62,
          40,
          54,
          44,
          53,
          48,
          57,
          59,
          61,
          63,
          43,
          29,
          42,
          54,
          44,
          60,
          65,
          61,
          60,
          66,
          53,
          52,
          57,
          60,
          51,
          41,
          50,
          54,
          58,
          55,
          64,
          47,
          41,
          57,
          63,
          61,
          34,
          47,
          40,
          51,
          41,
          52,
          39,
          58,
          54,
          58,
          54,
          63,
          54,
          40,
          54,
          67,
          41,
          77,
          51,
          77,
          48,
          56,
          59,
          56,
          57,
          43,
          45,
          43,
          56,
          56,
          39,
          54,
          56,
          56,
          64,
          44,
          56,
          63,
          64,
          60,
          42,
          45,
          57,
          40,
          56,
          63,
          64,
          41,
          56,
          67,
          69,
          67,
          59,
          58,
          45,
          60,
          50,
          62,
          34,
          52,
          64,
          66,
          42,
          59,
          41,
          38,
          62,
          42,
          67,
          50,
          43,
          45,
          49,
          65,
          41,
          46,
          54,
          57,
          63,
          64,
          39,
          51,
          54,
          49,
          44,
          52,
          66,
          58,
          56,
          60,
          41,
          49,
          64,
          49,
          57,
          60,
          62,
          54,
          67,
          38,
          60,
          51,
          44,
          54,
          46,
          39,
          42,
          47,
          45,
          55,
          57,
          35,
          62,
          35,
          64,
          38,
          66,
          44,
          54,
          48,
          55,
          58,
          45,
          53,
          67,
          58,
          71,
          43,
          44,
          39,
          54,
          66,
          56,
          57,
          44,
          55,
          41,
          45,
          35,
          41,
          64,
          58,
          71,
          64,
          71,
          58,
          40,
          52,
          58,
          61,
          59,
          56,
          67,
          67,
          58,
          35,
          52,
          46,
          51,
          55,
          60,
          52,
          62,
          44,
          44,
          59,
          56,
          61,
          48,
          70,
          74,
          40,
          42,
          64,
          63,
          59,
          53,
          53,
          48,
          45,
          66,
          48,
          56,
          54,
          57,
          70,
          53,
          37,
          63,
          37,
          54,
          60,
          58,
          57,
          54,
          56,
          60,
          38,
          44,
          65,
          52,
          41,
          66,
          50,
          54,
          43,
          62,
          66,
          50,
          57,
          57,
          57,
          46,
          59,
          67,
          59,
          53,
          48,
          62,
          43,
          53,
          57,
          53,
          58,
          48,
          58,
          51,
          43,
          55,
          54,
          58,
          46,
          66,
          59,
          64,
          67,
          52,
          58,
          58,
          59,
          58,
          35,
          51,
          42,
          77,
          64,
          63,
          58,
          45,
          51,
          62,
          63,
          66,
          68,
          40,
          66,
          63,
          49,
          71,
          70,
          46,
          61,
          56,
          58,
          58,
          46,
          46,
          41,
          56,
          57,
          70,
          59,
          41,
          54,
          52,
          62,
          65,
          57,
          42,
          57,
          58,
          45,
          51,
          54,
          57,
          43,
          47,
          67,
          65,
          60,
          37,
          41,
          57,
          59,
          67,
          47,
          58,
          62,
          60,
          57,
          57,
          47,
          52,
          53,
          55,
          51,
          52,
          63,
          49,
          66,
          49,
          65,
          69,
          47,
          39,
          43,
          51,
          69,
          48,
          52,
          43,
          67,
          38,
          44,
          47,
          61,
          67,
          60,
          64,
          58,
          41,
          48,
          57,
          57,
          57,
          39,
          58,
          51,
          63,
          51,
          35,
          65,
          62,
          41,
          65,
          54,
          61,
          57,
          57,
          64,
          55,
          51,
          59,
          68,
          57,
          54,
          46,
          71,
          35,
          46,
          45,
          47,
          44,
          61,
          41,
          56,
          55,
          54,
          43,
          44,
          54,
          44,
          49,
          60,
          41,
          49,
          61,
          59,
          58,
          67,
          61,
          58,
          51,
          62,
          62,
          59,
          69,
          60,
          65,
          63,
          53,
          54,
          76,
          50,
          52,
          46,
          64,
          58,
          44,
          62,
          59,
          54,
          48,
          70,
          67,
          51,
          68,
          69,
          54,
          43,
          53,
          58,
          67,
          59,
          48,
          39,
          67,
          58,
          65,
          42,
          44,
          56,
          53,
          50,
          41,
          54,
          42,
          54,
          60,
          34,
          44,
          60,
          43,
          52,
          70,
          62,
          58,
          46,
          44,
          55,
          43,
          55,
          40,
          64,
          59,
          61,
          54,
          74,
          63,
          70,
          63,
          64,
          61,
          59,
          38,
          58,
          63,
          62,
          46,
          58,
          63,
          47,
          71,
          66,
          42,
          64,
          55,
          43,
          55,
          58,
          55,
          51,
          50,
          43,
          41,
          49,
          65,
          57,
          48,
          62,
          61,
          59,
          69,
          58,
          38,
          69,
          65,
          45,
          49,
          45,
          61,
          52,
          53,
          59,
          58,
          65,
          58,
          46,
          56,
          64,
          65,
          44,
          50,
          47,
          64,
          71,
          45,
          62,
          41,
          66,
          56,
          41,
          41,
          57,
          39,
          64,
          59,
          61,
          58,
          47,
          58,
          66,
          65,
          35,
          57,
          29,
          66,
          61,
          52,
          68,
          54,
          63,
          58,
          60,
          63,
          41,
          68,
          42,
          59,
          59,
          43,
          60,
          63,
          52,
          58,
          56,
          54,
          58,
          55,
          53,
          63,
          39,
          35,
          50,
          67,
          66,
          35,
          41,
          35,
          71,
          57,
          51,
          58,
          57,
          56,
          60,
          45,
          56,
          35,
          45,
          66,
          51,
          70,
          55,
          56,
          55,
          52,
          64,
          45,
          67,
          68,
          74,
          60,
          48,
          56,
          46,
          55,
          44,
          52,
          51,
          44,
          52,
          50,
          59,
          67,
          58,
          52,
          44,
          41,
          63,
          58,
          60,
          51,
          64,
          60,
          44,
          58,
          55,
          65,
          48,
          65,
          51,
          48,
          64,
          66,
          46,
          61,
          57,
          49,
          56,
          58,
          63,
          57,
          57,
          68,
          46,
          71,
          41,
          45,
          62,
          65,
          48,
          51,
          61,
          53,
          59,
          34,
          44,
          58,
          64,
          56,
          54,
          55,
          67,
          51,
          62,
          62,
          54,
          54,
          68,
          60,
          61,
          62,
          41,
          65,
          59,
          43,
          67,
          63,
          63,
          52,
          58,
          53,
          57,
          44,
          51,
          54,
          40,
          57,
          62,
          53,
          62,
          58,
          70,
          45,
          42,
          58,
          61,
          62,
          60,
          54,
          61,
          63,
          42,
          57,
          44,
          54,
          51,
          58,
          68,
          55,
          42,
          49,
          53,
          52,
          51,
          51,
          70,
          35,
          58,
          59,
          60,
          56,
          35,
          61,
          58,
          52,
          58,
          37,
          52,
          67,
          65,
          46,
          68,
          43,
          68,
          51,
          52,
          64,
          59,
          52,
          59,
          60,
          41,
          41,
          56,
          56,
          48,
          39,
          64,
          57,
          59,
          60,
          61,
          43,
          54,
          59,
          57,
          57,
          57,
          48,
          70,
          57,
          61,
          57,
          60,
          63,
          55,
          64,
          54,
          52,
          51,
          62,
          59,
          52,
          42,
          59,
          61,
          42,
          62,
          59,
          55,
          64,
          42,
          50,
          62,
          50,
          50,
          58,
          35,
          45,
          66,
          46,
          65,
          47,
          59,
          38,
          39,
          58,
          44,
          54,
          61,
          57,
          54,
          42,
          54,
          60,
          65,
          40,
          51,
          38,
          42,
          56,
          43,
          64,
          53,
          49,
          57,
          52,
          69,
          65,
          66,
          56,
          67,
          54,
          70,
          57,
          67,
          62,
          54,
          45,
          53,
          62,
          49,
          50,
          65,
          69,
          52,
          58,
          52,
          57,
          44,
          76,
          58,
          60,
          53,
          52,
          38,
          52,
          52,
          51,
          43,
          39,
          63,
          52,
          44,
          45,
          57,
          39,
          67,
          64,
          59,
          62,
          55,
          57,
          60,
          71,
          56,
          60,
          50,
          43,
          59,
          44,
          56,
          54,
          42,
          67,
          64,
          42,
          66,
          52,
          51,
          55,
          58,
          56,
          42,
          40,
          51,
          45,
          48,
          58,
          44,
          58,
          65,
          53,
          41,
          47,
          59,
          60,
          47,
          50,
          54
         ],
         "xaxis": "x2",
         "yaxis": "y2"
        }
       ],
       "layout": {
        "barmode": "relative",
        "legend": {
         "tracegroupgap": 0
        },
        "template": {
         "data": {
          "bar": [
           {
            "error_x": {
             "color": "#2a3f5f"
            },
            "error_y": {
             "color": "#2a3f5f"
            },
            "marker": {
             "line": {
              "color": "#E5ECF6",
              "width": 0.5
             },
             "pattern": {
              "fillmode": "overlay",
              "size": 10,
              "solidity": 0.2
             }
            },
            "type": "bar"
           }
          ],
          "barpolar": [
           {
            "marker": {
             "line": {
              "color": "#E5ECF6",
              "width": 0.5
             },
             "pattern": {
              "fillmode": "overlay",
              "size": 10,
              "solidity": 0.2
             }
            },
            "type": "barpolar"
           }
          ],
          "carpet": [
           {
            "aaxis": {
             "endlinecolor": "#2a3f5f",
             "gridcolor": "white",
             "linecolor": "white",
             "minorgridcolor": "white",
             "startlinecolor": "#2a3f5f"
            },
            "baxis": {
             "endlinecolor": "#2a3f5f",
             "gridcolor": "white",
             "linecolor": "white",
             "minorgridcolor": "white",
             "startlinecolor": "#2a3f5f"
            },
            "type": "carpet"
           }
          ],
          "choropleth": [
           {
            "colorbar": {
             "outlinewidth": 0,
             "ticks": ""
            },
            "type": "choropleth"
           }
          ],
          "contour": [
           {
            "colorbar": {
             "outlinewidth": 0,
             "ticks": ""
            },
            "colorscale": [
             [
              0,
              "#0d0887"
             ],
             [
              0.1111111111111111,
              "#46039f"
             ],
             [
              0.2222222222222222,
              "#7201a8"
             ],
             [
              0.3333333333333333,
              "#9c179e"
             ],
             [
              0.4444444444444444,
              "#bd3786"
             ],
             [
              0.5555555555555556,
              "#d8576b"
             ],
             [
              0.6666666666666666,
              "#ed7953"
             ],
             [
              0.7777777777777778,
              "#fb9f3a"
             ],
             [
              0.8888888888888888,
              "#fdca26"
             ],
             [
              1,
              "#f0f921"
             ]
            ],
            "type": "contour"
           }
          ],
          "contourcarpet": [
           {
            "colorbar": {
             "outlinewidth": 0,
             "ticks": ""
            },
            "type": "contourcarpet"
           }
          ],
          "heatmap": [
           {
            "colorbar": {
             "outlinewidth": 0,
             "ticks": ""
            },
            "colorscale": [
             [
              0,
              "#0d0887"
             ],
             [
              0.1111111111111111,
              "#46039f"
             ],
             [
              0.2222222222222222,
              "#7201a8"
             ],
             [
              0.3333333333333333,
              "#9c179e"
             ],
             [
              0.4444444444444444,
              "#bd3786"
             ],
             [
              0.5555555555555556,
              "#d8576b"
             ],
             [
              0.6666666666666666,
              "#ed7953"
             ],
             [
              0.7777777777777778,
              "#fb9f3a"
             ],
             [
              0.8888888888888888,
              "#fdca26"
             ],
             [
              1,
              "#f0f921"
             ]
            ],
            "type": "heatmap"
           }
          ],
          "heatmapgl": [
           {
            "colorbar": {
             "outlinewidth": 0,
             "ticks": ""
            },
            "colorscale": [
             [
              0,
              "#0d0887"
             ],
             [
              0.1111111111111111,
              "#46039f"
             ],
             [
              0.2222222222222222,
              "#7201a8"
             ],
             [
              0.3333333333333333,
              "#9c179e"
             ],
             [
              0.4444444444444444,
              "#bd3786"
             ],
             [
              0.5555555555555556,
              "#d8576b"
             ],
             [
              0.6666666666666666,
              "#ed7953"
             ],
             [
              0.7777777777777778,
              "#fb9f3a"
             ],
             [
              0.8888888888888888,
              "#fdca26"
             ],
             [
              1,
              "#f0f921"
             ]
            ],
            "type": "heatmapgl"
           }
          ],
          "histogram": [
           {
            "marker": {
             "pattern": {
              "fillmode": "overlay",
              "size": 10,
              "solidity": 0.2
             }
            },
            "type": "histogram"
           }
          ],
          "histogram2d": [
           {
            "colorbar": {
             "outlinewidth": 0,
             "ticks": ""
            },
            "colorscale": [
             [
              0,
              "#0d0887"
             ],
             [
              0.1111111111111111,
              "#46039f"
             ],
             [
              0.2222222222222222,
              "#7201a8"
             ],
             [
              0.3333333333333333,
              "#9c179e"
             ],
             [
              0.4444444444444444,
              "#bd3786"
             ],
             [
              0.5555555555555556,
              "#d8576b"
             ],
             [
              0.6666666666666666,
              "#ed7953"
             ],
             [
              0.7777777777777778,
              "#fb9f3a"
             ],
             [
              0.8888888888888888,
              "#fdca26"
             ],
             [
              1,
              "#f0f921"
             ]
            ],
            "type": "histogram2d"
           }
          ],
          "histogram2dcontour": [
           {
            "colorbar": {
             "outlinewidth": 0,
             "ticks": ""
            },
            "colorscale": [
             [
              0,
              "#0d0887"
             ],
             [
              0.1111111111111111,
              "#46039f"
             ],
             [
              0.2222222222222222,
              "#7201a8"
             ],
             [
              0.3333333333333333,
              "#9c179e"
             ],
             [
              0.4444444444444444,
              "#bd3786"
             ],
             [
              0.5555555555555556,
              "#d8576b"
             ],
             [
              0.6666666666666666,
              "#ed7953"
             ],
             [
              0.7777777777777778,
              "#fb9f3a"
             ],
             [
              0.8888888888888888,
              "#fdca26"
             ],
             [
              1,
              "#f0f921"
             ]
            ],
            "type": "histogram2dcontour"
           }
          ],
          "mesh3d": [
           {
            "colorbar": {
             "outlinewidth": 0,
             "ticks": ""
            },
            "type": "mesh3d"
           }
          ],
          "parcoords": [
           {
            "line": {
             "colorbar": {
              "outlinewidth": 0,
              "ticks": ""
             }
            },
            "type": "parcoords"
           }
          ],
          "pie": [
           {
            "automargin": true,
            "type": "pie"
           }
          ],
          "scatter": [
           {
            "fillpattern": {
             "fillmode": "overlay",
             "size": 10,
             "solidity": 0.2
            },
            "type": "scatter"
           }
          ],
          "scatter3d": [
           {
            "line": {
             "colorbar": {
              "outlinewidth": 0,
              "ticks": ""
             }
            },
            "marker": {
             "colorbar": {
              "outlinewidth": 0,
              "ticks": ""
             }
            },
            "type": "scatter3d"
           }
          ],
          "scattercarpet": [
           {
            "marker": {
             "colorbar": {
              "outlinewidth": 0,
              "ticks": ""
             }
            },
            "type": "scattercarpet"
           }
          ],
          "scattergeo": [
           {
            "marker": {
             "colorbar": {
              "outlinewidth": 0,
              "ticks": ""
             }
            },
            "type": "scattergeo"
           }
          ],
          "scattergl": [
           {
            "marker": {
             "colorbar": {
              "outlinewidth": 0,
              "ticks": ""
             }
            },
            "type": "scattergl"
           }
          ],
          "scattermapbox": [
           {
            "marker": {
             "colorbar": {
              "outlinewidth": 0,
              "ticks": ""
             }
            },
            "type": "scattermapbox"
           }
          ],
          "scatterpolar": [
           {
            "marker": {
             "colorbar": {
              "outlinewidth": 0,
              "ticks": ""
             }
            },
            "type": "scatterpolar"
           }
          ],
          "scatterpolargl": [
           {
            "marker": {
             "colorbar": {
              "outlinewidth": 0,
              "ticks": ""
             }
            },
            "type": "scatterpolargl"
           }
          ],
          "scatterternary": [
           {
            "marker": {
             "colorbar": {
              "outlinewidth": 0,
              "ticks": ""
             }
            },
            "type": "scatterternary"
           }
          ],
          "surface": [
           {
            "colorbar": {
             "outlinewidth": 0,
             "ticks": ""
            },
            "colorscale": [
             [
              0,
              "#0d0887"
             ],
             [
              0.1111111111111111,
              "#46039f"
             ],
             [
              0.2222222222222222,
              "#7201a8"
             ],
             [
              0.3333333333333333,
              "#9c179e"
             ],
             [
              0.4444444444444444,
              "#bd3786"
             ],
             [
              0.5555555555555556,
              "#d8576b"
             ],
             [
              0.6666666666666666,
              "#ed7953"
             ],
             [
              0.7777777777777778,
              "#fb9f3a"
             ],
             [
              0.8888888888888888,
              "#fdca26"
             ],
             [
              1,
              "#f0f921"
             ]
            ],
            "type": "surface"
           }
          ],
          "table": [
           {
            "cells": {
             "fill": {
              "color": "#EBF0F8"
             },
             "line": {
              "color": "white"
             }
            },
            "header": {
             "fill": {
              "color": "#C8D4E3"
             },
             "line": {
              "color": "white"
             }
            },
            "type": "table"
           }
          ]
         },
         "layout": {
          "annotationdefaults": {
           "arrowcolor": "#2a3f5f",
           "arrowhead": 0,
           "arrowwidth": 1
          },
          "autotypenumbers": "strict",
          "coloraxis": {
           "colorbar": {
            "outlinewidth": 0,
            "ticks": ""
           }
          },
          "colorscale": {
           "diverging": [
            [
             0,
             "#8e0152"
            ],
            [
             0.1,
             "#c51b7d"
            ],
            [
             0.2,
             "#de77ae"
            ],
            [
             0.3,
             "#f1b6da"
            ],
            [
             0.4,
             "#fde0ef"
            ],
            [
             0.5,
             "#f7f7f7"
            ],
            [
             0.6,
             "#e6f5d0"
            ],
            [
             0.7,
             "#b8e186"
            ],
            [
             0.8,
             "#7fbc41"
            ],
            [
             0.9,
             "#4d9221"
            ],
            [
             1,
             "#276419"
            ]
           ],
           "sequential": [
            [
             0,
             "#0d0887"
            ],
            [
             0.1111111111111111,
             "#46039f"
            ],
            [
             0.2222222222222222,
             "#7201a8"
            ],
            [
             0.3333333333333333,
             "#9c179e"
            ],
            [
             0.4444444444444444,
             "#bd3786"
            ],
            [
             0.5555555555555556,
             "#d8576b"
            ],
            [
             0.6666666666666666,
             "#ed7953"
            ],
            [
             0.7777777777777778,
             "#fb9f3a"
            ],
            [
             0.8888888888888888,
             "#fdca26"
            ],
            [
             1,
             "#f0f921"
            ]
           ],
           "sequentialminus": [
            [
             0,
             "#0d0887"
            ],
            [
             0.1111111111111111,
             "#46039f"
            ],
            [
             0.2222222222222222,
             "#7201a8"
            ],
            [
             0.3333333333333333,
             "#9c179e"
            ],
            [
             0.4444444444444444,
             "#bd3786"
            ],
            [
             0.5555555555555556,
             "#d8576b"
            ],
            [
             0.6666666666666666,
             "#ed7953"
            ],
            [
             0.7777777777777778,
             "#fb9f3a"
            ],
            [
             0.8888888888888888,
             "#fdca26"
            ],
            [
             1,
             "#f0f921"
            ]
           ]
          },
          "colorway": [
           "#636efa",
           "#EF553B",
           "#00cc96",
           "#ab63fa",
           "#FFA15A",
           "#19d3f3",
           "#FF6692",
           "#B6E880",
           "#FF97FF",
           "#FECB52"
          ],
          "font": {
           "color": "#2a3f5f"
          },
          "geo": {
           "bgcolor": "white",
           "lakecolor": "white",
           "landcolor": "#E5ECF6",
           "showlakes": true,
           "showland": true,
           "subunitcolor": "white"
          },
          "hoverlabel": {
           "align": "left"
          },
          "hovermode": "closest",
          "mapbox": {
           "style": "light"
          },
          "paper_bgcolor": "white",
          "plot_bgcolor": "#E5ECF6",
          "polar": {
           "angularaxis": {
            "gridcolor": "white",
            "linecolor": "white",
            "ticks": ""
           },
           "bgcolor": "#E5ECF6",
           "radialaxis": {
            "gridcolor": "white",
            "linecolor": "white",
            "ticks": ""
           }
          },
          "scene": {
           "xaxis": {
            "backgroundcolor": "#E5ECF6",
            "gridcolor": "white",
            "gridwidth": 2,
            "linecolor": "white",
            "showbackground": true,
            "ticks": "",
            "zerolinecolor": "white"
           },
           "yaxis": {
            "backgroundcolor": "#E5ECF6",
            "gridcolor": "white",
            "gridwidth": 2,
            "linecolor": "white",
            "showbackground": true,
            "ticks": "",
            "zerolinecolor": "white"
           },
           "zaxis": {
            "backgroundcolor": "#E5ECF6",
            "gridcolor": "white",
            "gridwidth": 2,
            "linecolor": "white",
            "showbackground": true,
            "ticks": "",
            "zerolinecolor": "white"
           }
          },
          "shapedefaults": {
           "line": {
            "color": "#2a3f5f"
           }
          },
          "ternary": {
           "aaxis": {
            "gridcolor": "white",
            "linecolor": "white",
            "ticks": ""
           },
           "baxis": {
            "gridcolor": "white",
            "linecolor": "white",
            "ticks": ""
           },
           "bgcolor": "#E5ECF6",
           "caxis": {
            "gridcolor": "white",
            "linecolor": "white",
            "ticks": ""
           }
          },
          "title": {
           "x": 0.05
          },
          "xaxis": {
           "automargin": true,
           "gridcolor": "white",
           "linecolor": "white",
           "ticks": "",
           "title": {
            "standoff": 15
           },
           "zerolinecolor": "white",
           "zerolinewidth": 2
          },
          "yaxis": {
           "automargin": true,
           "gridcolor": "white",
           "linecolor": "white",
           "ticks": "",
           "title": {
            "standoff": 15
           },
           "zerolinecolor": "white",
           "zerolinewidth": 2
          }
         }
        },
        "title": {
         "text": "Age Distribution",
         "x": 0.5
        },
        "xaxis": {
         "anchor": "y",
         "domain": [
          0,
          1
         ],
         "title": {
          "text": "Age"
         }
        },
        "xaxis2": {
         "anchor": "y2",
         "domain": [
          0,
          1
         ],
         "matches": "x",
         "showgrid": true,
         "showticklabels": false
        },
        "yaxis": {
         "anchor": "x",
         "domain": [
          0,
          0.8316
         ],
         "title": {
          "text": "Count"
         }
        },
        "yaxis2": {
         "anchor": "x2",
         "domain": [
          0.8416,
          1
         ],
         "matches": "y2",
         "showgrid": false,
         "showline": false,
         "showticklabels": false,
         "ticks": ""
        }
       }
      }
     },
     "metadata": {},
     "output_type": "display_data"
    }
   ],
   "source": [
    "# Create a histogram with KDE using Plotly Express\n",
    "fig = px.histogram(df, x='Age', nbins=30, marginal='violin', title='Age Distribution')\n",
    "\n",
    "# Update layout for better readability\n",
    "fig.update_layout(\n",
    "    xaxis_title='Age',\n",
    "    yaxis_title='Count',\n",
    "    title_x=0.5)\n",
    "\n",
    "fig.show()"
   ]
  },
  {
   "cell_type": "code",
   "execution_count": 94,
   "metadata": {},
   "outputs": [
    {
     "data": {
      "application/vnd.plotly.v1+json": {
       "config": {
        "plotlyServerURL": "https://plot.ly"
       },
       "data": [
        {
         "alignmentgroup": "True",
         "hovertemplate": "Condition=%{x}<br>Percentage=%{y}<extra></extra>",
         "legendgroup": "Disease",
         "marker": {
          "color": "#440154",
          "pattern": {
           "shape": ""
          }
         },
         "name": "Disease",
         "offsetgroup": "Disease",
         "orientation": "v",
         "showlegend": true,
         "textposition": "auto",
         "type": "bar",
         "x": [
          "Disease"
         ],
         "xaxis": "x",
         "y": [
          51.31707317073171
         ],
         "yaxis": "y"
        },
        {
         "alignmentgroup": "True",
         "hovertemplate": "Condition=%{x}<br>Percentage=%{y}<extra></extra>",
         "legendgroup": "No Disease",
         "marker": {
          "color": "#482878",
          "pattern": {
           "shape": ""
          }
         },
         "name": "No Disease",
         "offsetgroup": "No Disease",
         "orientation": "v",
         "showlegend": true,
         "textposition": "auto",
         "type": "bar",
         "x": [
          "No Disease"
         ],
         "xaxis": "x",
         "y": [
          48.68292682926829
         ],
         "yaxis": "y"
        }
       ],
       "layout": {
        "barmode": "relative",
        "legend": {
         "title": {
          "text": "Condition"
         },
         "tracegroupgap": 0
        },
        "template": {
         "data": {
          "bar": [
           {
            "error_x": {
             "color": "#2a3f5f"
            },
            "error_y": {
             "color": "#2a3f5f"
            },
            "marker": {
             "line": {
              "color": "#E5ECF6",
              "width": 0.5
             },
             "pattern": {
              "fillmode": "overlay",
              "size": 10,
              "solidity": 0.2
             }
            },
            "type": "bar"
           }
          ],
          "barpolar": [
           {
            "marker": {
             "line": {
              "color": "#E5ECF6",
              "width": 0.5
             },
             "pattern": {
              "fillmode": "overlay",
              "size": 10,
              "solidity": 0.2
             }
            },
            "type": "barpolar"
           }
          ],
          "carpet": [
           {
            "aaxis": {
             "endlinecolor": "#2a3f5f",
             "gridcolor": "white",
             "linecolor": "white",
             "minorgridcolor": "white",
             "startlinecolor": "#2a3f5f"
            },
            "baxis": {
             "endlinecolor": "#2a3f5f",
             "gridcolor": "white",
             "linecolor": "white",
             "minorgridcolor": "white",
             "startlinecolor": "#2a3f5f"
            },
            "type": "carpet"
           }
          ],
          "choropleth": [
           {
            "colorbar": {
             "outlinewidth": 0,
             "ticks": ""
            },
            "type": "choropleth"
           }
          ],
          "contour": [
           {
            "colorbar": {
             "outlinewidth": 0,
             "ticks": ""
            },
            "colorscale": [
             [
              0,
              "#0d0887"
             ],
             [
              0.1111111111111111,
              "#46039f"
             ],
             [
              0.2222222222222222,
              "#7201a8"
             ],
             [
              0.3333333333333333,
              "#9c179e"
             ],
             [
              0.4444444444444444,
              "#bd3786"
             ],
             [
              0.5555555555555556,
              "#d8576b"
             ],
             [
              0.6666666666666666,
              "#ed7953"
             ],
             [
              0.7777777777777778,
              "#fb9f3a"
             ],
             [
              0.8888888888888888,
              "#fdca26"
             ],
             [
              1,
              "#f0f921"
             ]
            ],
            "type": "contour"
           }
          ],
          "contourcarpet": [
           {
            "colorbar": {
             "outlinewidth": 0,
             "ticks": ""
            },
            "type": "contourcarpet"
           }
          ],
          "heatmap": [
           {
            "colorbar": {
             "outlinewidth": 0,
             "ticks": ""
            },
            "colorscale": [
             [
              0,
              "#0d0887"
             ],
             [
              0.1111111111111111,
              "#46039f"
             ],
             [
              0.2222222222222222,
              "#7201a8"
             ],
             [
              0.3333333333333333,
              "#9c179e"
             ],
             [
              0.4444444444444444,
              "#bd3786"
             ],
             [
              0.5555555555555556,
              "#d8576b"
             ],
             [
              0.6666666666666666,
              "#ed7953"
             ],
             [
              0.7777777777777778,
              "#fb9f3a"
             ],
             [
              0.8888888888888888,
              "#fdca26"
             ],
             [
              1,
              "#f0f921"
             ]
            ],
            "type": "heatmap"
           }
          ],
          "heatmapgl": [
           {
            "colorbar": {
             "outlinewidth": 0,
             "ticks": ""
            },
            "colorscale": [
             [
              0,
              "#0d0887"
             ],
             [
              0.1111111111111111,
              "#46039f"
             ],
             [
              0.2222222222222222,
              "#7201a8"
             ],
             [
              0.3333333333333333,
              "#9c179e"
             ],
             [
              0.4444444444444444,
              "#bd3786"
             ],
             [
              0.5555555555555556,
              "#d8576b"
             ],
             [
              0.6666666666666666,
              "#ed7953"
             ],
             [
              0.7777777777777778,
              "#fb9f3a"
             ],
             [
              0.8888888888888888,
              "#fdca26"
             ],
             [
              1,
              "#f0f921"
             ]
            ],
            "type": "heatmapgl"
           }
          ],
          "histogram": [
           {
            "marker": {
             "pattern": {
              "fillmode": "overlay",
              "size": 10,
              "solidity": 0.2
             }
            },
            "type": "histogram"
           }
          ],
          "histogram2d": [
           {
            "colorbar": {
             "outlinewidth": 0,
             "ticks": ""
            },
            "colorscale": [
             [
              0,
              "#0d0887"
             ],
             [
              0.1111111111111111,
              "#46039f"
             ],
             [
              0.2222222222222222,
              "#7201a8"
             ],
             [
              0.3333333333333333,
              "#9c179e"
             ],
             [
              0.4444444444444444,
              "#bd3786"
             ],
             [
              0.5555555555555556,
              "#d8576b"
             ],
             [
              0.6666666666666666,
              "#ed7953"
             ],
             [
              0.7777777777777778,
              "#fb9f3a"
             ],
             [
              0.8888888888888888,
              "#fdca26"
             ],
             [
              1,
              "#f0f921"
             ]
            ],
            "type": "histogram2d"
           }
          ],
          "histogram2dcontour": [
           {
            "colorbar": {
             "outlinewidth": 0,
             "ticks": ""
            },
            "colorscale": [
             [
              0,
              "#0d0887"
             ],
             [
              0.1111111111111111,
              "#46039f"
             ],
             [
              0.2222222222222222,
              "#7201a8"
             ],
             [
              0.3333333333333333,
              "#9c179e"
             ],
             [
              0.4444444444444444,
              "#bd3786"
             ],
             [
              0.5555555555555556,
              "#d8576b"
             ],
             [
              0.6666666666666666,
              "#ed7953"
             ],
             [
              0.7777777777777778,
              "#fb9f3a"
             ],
             [
              0.8888888888888888,
              "#fdca26"
             ],
             [
              1,
              "#f0f921"
             ]
            ],
            "type": "histogram2dcontour"
           }
          ],
          "mesh3d": [
           {
            "colorbar": {
             "outlinewidth": 0,
             "ticks": ""
            },
            "type": "mesh3d"
           }
          ],
          "parcoords": [
           {
            "line": {
             "colorbar": {
              "outlinewidth": 0,
              "ticks": ""
             }
            },
            "type": "parcoords"
           }
          ],
          "pie": [
           {
            "automargin": true,
            "type": "pie"
           }
          ],
          "scatter": [
           {
            "fillpattern": {
             "fillmode": "overlay",
             "size": 10,
             "solidity": 0.2
            },
            "type": "scatter"
           }
          ],
          "scatter3d": [
           {
            "line": {
             "colorbar": {
              "outlinewidth": 0,
              "ticks": ""
             }
            },
            "marker": {
             "colorbar": {
              "outlinewidth": 0,
              "ticks": ""
             }
            },
            "type": "scatter3d"
           }
          ],
          "scattercarpet": [
           {
            "marker": {
             "colorbar": {
              "outlinewidth": 0,
              "ticks": ""
             }
            },
            "type": "scattercarpet"
           }
          ],
          "scattergeo": [
           {
            "marker": {
             "colorbar": {
              "outlinewidth": 0,
              "ticks": ""
             }
            },
            "type": "scattergeo"
           }
          ],
          "scattergl": [
           {
            "marker": {
             "colorbar": {
              "outlinewidth": 0,
              "ticks": ""
             }
            },
            "type": "scattergl"
           }
          ],
          "scattermapbox": [
           {
            "marker": {
             "colorbar": {
              "outlinewidth": 0,
              "ticks": ""
             }
            },
            "type": "scattermapbox"
           }
          ],
          "scatterpolar": [
           {
            "marker": {
             "colorbar": {
              "outlinewidth": 0,
              "ticks": ""
             }
            },
            "type": "scatterpolar"
           }
          ],
          "scatterpolargl": [
           {
            "marker": {
             "colorbar": {
              "outlinewidth": 0,
              "ticks": ""
             }
            },
            "type": "scatterpolargl"
           }
          ],
          "scatterternary": [
           {
            "marker": {
             "colorbar": {
              "outlinewidth": 0,
              "ticks": ""
             }
            },
            "type": "scatterternary"
           }
          ],
          "surface": [
           {
            "colorbar": {
             "outlinewidth": 0,
             "ticks": ""
            },
            "colorscale": [
             [
              0,
              "#0d0887"
             ],
             [
              0.1111111111111111,
              "#46039f"
             ],
             [
              0.2222222222222222,
              "#7201a8"
             ],
             [
              0.3333333333333333,
              "#9c179e"
             ],
             [
              0.4444444444444444,
              "#bd3786"
             ],
             [
              0.5555555555555556,
              "#d8576b"
             ],
             [
              0.6666666666666666,
              "#ed7953"
             ],
             [
              0.7777777777777778,
              "#fb9f3a"
             ],
             [
              0.8888888888888888,
              "#fdca26"
             ],
             [
              1,
              "#f0f921"
             ]
            ],
            "type": "surface"
           }
          ],
          "table": [
           {
            "cells": {
             "fill": {
              "color": "#EBF0F8"
             },
             "line": {
              "color": "white"
             }
            },
            "header": {
             "fill": {
              "color": "#C8D4E3"
             },
             "line": {
              "color": "white"
             }
            },
            "type": "table"
           }
          ]
         },
         "layout": {
          "annotationdefaults": {
           "arrowcolor": "#2a3f5f",
           "arrowhead": 0,
           "arrowwidth": 1
          },
          "autotypenumbers": "strict",
          "coloraxis": {
           "colorbar": {
            "outlinewidth": 0,
            "ticks": ""
           }
          },
          "colorscale": {
           "diverging": [
            [
             0,
             "#8e0152"
            ],
            [
             0.1,
             "#c51b7d"
            ],
            [
             0.2,
             "#de77ae"
            ],
            [
             0.3,
             "#f1b6da"
            ],
            [
             0.4,
             "#fde0ef"
            ],
            [
             0.5,
             "#f7f7f7"
            ],
            [
             0.6,
             "#e6f5d0"
            ],
            [
             0.7,
             "#b8e186"
            ],
            [
             0.8,
             "#7fbc41"
            ],
            [
             0.9,
             "#4d9221"
            ],
            [
             1,
             "#276419"
            ]
           ],
           "sequential": [
            [
             0,
             "#0d0887"
            ],
            [
             0.1111111111111111,
             "#46039f"
            ],
            [
             0.2222222222222222,
             "#7201a8"
            ],
            [
             0.3333333333333333,
             "#9c179e"
            ],
            [
             0.4444444444444444,
             "#bd3786"
            ],
            [
             0.5555555555555556,
             "#d8576b"
            ],
            [
             0.6666666666666666,
             "#ed7953"
            ],
            [
             0.7777777777777778,
             "#fb9f3a"
            ],
            [
             0.8888888888888888,
             "#fdca26"
            ],
            [
             1,
             "#f0f921"
            ]
           ],
           "sequentialminus": [
            [
             0,
             "#0d0887"
            ],
            [
             0.1111111111111111,
             "#46039f"
            ],
            [
             0.2222222222222222,
             "#7201a8"
            ],
            [
             0.3333333333333333,
             "#9c179e"
            ],
            [
             0.4444444444444444,
             "#bd3786"
            ],
            [
             0.5555555555555556,
             "#d8576b"
            ],
            [
             0.6666666666666666,
             "#ed7953"
            ],
            [
             0.7777777777777778,
             "#fb9f3a"
            ],
            [
             0.8888888888888888,
             "#fdca26"
            ],
            [
             1,
             "#f0f921"
            ]
           ]
          },
          "colorway": [
           "#636efa",
           "#EF553B",
           "#00cc96",
           "#ab63fa",
           "#FFA15A",
           "#19d3f3",
           "#FF6692",
           "#B6E880",
           "#FF97FF",
           "#FECB52"
          ],
          "font": {
           "color": "#2a3f5f"
          },
          "geo": {
           "bgcolor": "white",
           "lakecolor": "white",
           "landcolor": "#E5ECF6",
           "showlakes": true,
           "showland": true,
           "subunitcolor": "white"
          },
          "hoverlabel": {
           "align": "left"
          },
          "hovermode": "closest",
          "mapbox": {
           "style": "light"
          },
          "paper_bgcolor": "white",
          "plot_bgcolor": "#E5ECF6",
          "polar": {
           "angularaxis": {
            "gridcolor": "white",
            "linecolor": "white",
            "ticks": ""
           },
           "bgcolor": "#E5ECF6",
           "radialaxis": {
            "gridcolor": "white",
            "linecolor": "white",
            "ticks": ""
           }
          },
          "scene": {
           "xaxis": {
            "backgroundcolor": "#E5ECF6",
            "gridcolor": "white",
            "gridwidth": 2,
            "linecolor": "white",
            "showbackground": true,
            "ticks": "",
            "zerolinecolor": "white"
           },
           "yaxis": {
            "backgroundcolor": "#E5ECF6",
            "gridcolor": "white",
            "gridwidth": 2,
            "linecolor": "white",
            "showbackground": true,
            "ticks": "",
            "zerolinecolor": "white"
           },
           "zaxis": {
            "backgroundcolor": "#E5ECF6",
            "gridcolor": "white",
            "gridwidth": 2,
            "linecolor": "white",
            "showbackground": true,
            "ticks": "",
            "zerolinecolor": "white"
           }
          },
          "shapedefaults": {
           "line": {
            "color": "#2a3f5f"
           }
          },
          "ternary": {
           "aaxis": {
            "gridcolor": "white",
            "linecolor": "white",
            "ticks": ""
           },
           "baxis": {
            "gridcolor": "white",
            "linecolor": "white",
            "ticks": ""
           },
           "bgcolor": "#E5ECF6",
           "caxis": {
            "gridcolor": "white",
            "linecolor": "white",
            "ticks": ""
           }
          },
          "title": {
           "x": 0.05
          },
          "xaxis": {
           "automargin": true,
           "gridcolor": "white",
           "linecolor": "white",
           "ticks": "",
           "title": {
            "standoff": 15
           },
           "zerolinecolor": "white",
           "zerolinewidth": 2
          },
          "yaxis": {
           "automargin": true,
           "gridcolor": "white",
           "linecolor": "white",
           "ticks": "",
           "title": {
            "standoff": 15
           },
           "zerolinecolor": "white",
           "zerolinewidth": 2
          }
         }
        },
        "title": {
         "text": "Heart Disease Rates",
         "x": 0.5
        },
        "xaxis": {
         "anchor": "y",
         "categoryarray": [
          "Disease",
          "No Disease"
         ],
         "categoryorder": "array",
         "domain": [
          0,
          1
         ],
         "title": {
          "text": "Condition"
         }
        },
        "yaxis": {
         "anchor": "x",
         "domain": [
          0,
          1
         ],
         "title": {
          "text": "Percentage"
         }
        }
       }
      }
     },
     "metadata": {},
     "output_type": "display_data"
    }
   ],
   "source": [
    "# Calculate heart disease rates\n",
    "heart_disease_rates = df['Target'].value_counts(normalize=True) * 100\n",
    "heart_disease_rates = heart_disease_rates.reset_index()\n",
    "heart_disease_rates.columns = ['Condition', 'Percentage']\n",
    "\n",
    "# Create a bar plot using Plotly Express\n",
    "fig = px.bar(heart_disease_rates, x='Condition', y='Percentage', \n",
    "             color='Condition', title='Heart Disease Rates', \n",
    "             color_discrete_sequence=px.colors.sequential.Viridis)\n",
    "\n",
    "# Update layout for better readability\n",
    "fig.update_layout(\n",
    "    xaxis_title='Condition',\n",
    "    yaxis_title='Percentage',\n",
    "    title_x=0.5)\n",
    "\n",
    "fig.show()"
   ]
  },
  {
   "cell_type": "code",
   "execution_count": 95,
   "metadata": {},
   "outputs": [
    {
     "data": {
      "application/vnd.plotly.v1+json": {
       "config": {
        "plotlyServerURL": "https://plot.ly"
       },
       "data": [
        {
         "alignmentgroup": "True",
         "hovertemplate": "Target=Disease<br>Sex=%{x}<br>Count=%{y}<extra></extra>",
         "legendgroup": "Disease",
         "marker": {
          "color": "#440154",
          "pattern": {
           "shape": ""
          }
         },
         "name": "Disease",
         "offsetgroup": "Disease",
         "orientation": "v",
         "showlegend": true,
         "textposition": "auto",
         "type": "bar",
         "x": [
          "Female",
          "Male"
         ],
         "xaxis": "x",
         "y": [
          226,
          300
         ],
         "yaxis": "y"
        },
        {
         "alignmentgroup": "True",
         "hovertemplate": "Target=No Disease<br>Sex=%{x}<br>Count=%{y}<extra></extra>",
         "legendgroup": "No Disease",
         "marker": {
          "color": "#482878",
          "pattern": {
           "shape": ""
          }
         },
         "name": "No Disease",
         "offsetgroup": "No Disease",
         "orientation": "v",
         "showlegend": true,
         "textposition": "auto",
         "type": "bar",
         "x": [
          "Female",
          "Male"
         ],
         "xaxis": "x",
         "y": [
          86,
          413
         ],
         "yaxis": "y"
        }
       ],
       "layout": {
        "barmode": "stack",
        "legend": {
         "title": {
          "text": "Target"
         },
         "tracegroupgap": 0
        },
        "template": {
         "data": {
          "bar": [
           {
            "error_x": {
             "color": "#2a3f5f"
            },
            "error_y": {
             "color": "#2a3f5f"
            },
            "marker": {
             "line": {
              "color": "#E5ECF6",
              "width": 0.5
             },
             "pattern": {
              "fillmode": "overlay",
              "size": 10,
              "solidity": 0.2
             }
            },
            "type": "bar"
           }
          ],
          "barpolar": [
           {
            "marker": {
             "line": {
              "color": "#E5ECF6",
              "width": 0.5
             },
             "pattern": {
              "fillmode": "overlay",
              "size": 10,
              "solidity": 0.2
             }
            },
            "type": "barpolar"
           }
          ],
          "carpet": [
           {
            "aaxis": {
             "endlinecolor": "#2a3f5f",
             "gridcolor": "white",
             "linecolor": "white",
             "minorgridcolor": "white",
             "startlinecolor": "#2a3f5f"
            },
            "baxis": {
             "endlinecolor": "#2a3f5f",
             "gridcolor": "white",
             "linecolor": "white",
             "minorgridcolor": "white",
             "startlinecolor": "#2a3f5f"
            },
            "type": "carpet"
           }
          ],
          "choropleth": [
           {
            "colorbar": {
             "outlinewidth": 0,
             "ticks": ""
            },
            "type": "choropleth"
           }
          ],
          "contour": [
           {
            "colorbar": {
             "outlinewidth": 0,
             "ticks": ""
            },
            "colorscale": [
             [
              0,
              "#0d0887"
             ],
             [
              0.1111111111111111,
              "#46039f"
             ],
             [
              0.2222222222222222,
              "#7201a8"
             ],
             [
              0.3333333333333333,
              "#9c179e"
             ],
             [
              0.4444444444444444,
              "#bd3786"
             ],
             [
              0.5555555555555556,
              "#d8576b"
             ],
             [
              0.6666666666666666,
              "#ed7953"
             ],
             [
              0.7777777777777778,
              "#fb9f3a"
             ],
             [
              0.8888888888888888,
              "#fdca26"
             ],
             [
              1,
              "#f0f921"
             ]
            ],
            "type": "contour"
           }
          ],
          "contourcarpet": [
           {
            "colorbar": {
             "outlinewidth": 0,
             "ticks": ""
            },
            "type": "contourcarpet"
           }
          ],
          "heatmap": [
           {
            "colorbar": {
             "outlinewidth": 0,
             "ticks": ""
            },
            "colorscale": [
             [
              0,
              "#0d0887"
             ],
             [
              0.1111111111111111,
              "#46039f"
             ],
             [
              0.2222222222222222,
              "#7201a8"
             ],
             [
              0.3333333333333333,
              "#9c179e"
             ],
             [
              0.4444444444444444,
              "#bd3786"
             ],
             [
              0.5555555555555556,
              "#d8576b"
             ],
             [
              0.6666666666666666,
              "#ed7953"
             ],
             [
              0.7777777777777778,
              "#fb9f3a"
             ],
             [
              0.8888888888888888,
              "#fdca26"
             ],
             [
              1,
              "#f0f921"
             ]
            ],
            "type": "heatmap"
           }
          ],
          "heatmapgl": [
           {
            "colorbar": {
             "outlinewidth": 0,
             "ticks": ""
            },
            "colorscale": [
             [
              0,
              "#0d0887"
             ],
             [
              0.1111111111111111,
              "#46039f"
             ],
             [
              0.2222222222222222,
              "#7201a8"
             ],
             [
              0.3333333333333333,
              "#9c179e"
             ],
             [
              0.4444444444444444,
              "#bd3786"
             ],
             [
              0.5555555555555556,
              "#d8576b"
             ],
             [
              0.6666666666666666,
              "#ed7953"
             ],
             [
              0.7777777777777778,
              "#fb9f3a"
             ],
             [
              0.8888888888888888,
              "#fdca26"
             ],
             [
              1,
              "#f0f921"
             ]
            ],
            "type": "heatmapgl"
           }
          ],
          "histogram": [
           {
            "marker": {
             "pattern": {
              "fillmode": "overlay",
              "size": 10,
              "solidity": 0.2
             }
            },
            "type": "histogram"
           }
          ],
          "histogram2d": [
           {
            "colorbar": {
             "outlinewidth": 0,
             "ticks": ""
            },
            "colorscale": [
             [
              0,
              "#0d0887"
             ],
             [
              0.1111111111111111,
              "#46039f"
             ],
             [
              0.2222222222222222,
              "#7201a8"
             ],
             [
              0.3333333333333333,
              "#9c179e"
             ],
             [
              0.4444444444444444,
              "#bd3786"
             ],
             [
              0.5555555555555556,
              "#d8576b"
             ],
             [
              0.6666666666666666,
              "#ed7953"
             ],
             [
              0.7777777777777778,
              "#fb9f3a"
             ],
             [
              0.8888888888888888,
              "#fdca26"
             ],
             [
              1,
              "#f0f921"
             ]
            ],
            "type": "histogram2d"
           }
          ],
          "histogram2dcontour": [
           {
            "colorbar": {
             "outlinewidth": 0,
             "ticks": ""
            },
            "colorscale": [
             [
              0,
              "#0d0887"
             ],
             [
              0.1111111111111111,
              "#46039f"
             ],
             [
              0.2222222222222222,
              "#7201a8"
             ],
             [
              0.3333333333333333,
              "#9c179e"
             ],
             [
              0.4444444444444444,
              "#bd3786"
             ],
             [
              0.5555555555555556,
              "#d8576b"
             ],
             [
              0.6666666666666666,
              "#ed7953"
             ],
             [
              0.7777777777777778,
              "#fb9f3a"
             ],
             [
              0.8888888888888888,
              "#fdca26"
             ],
             [
              1,
              "#f0f921"
             ]
            ],
            "type": "histogram2dcontour"
           }
          ],
          "mesh3d": [
           {
            "colorbar": {
             "outlinewidth": 0,
             "ticks": ""
            },
            "type": "mesh3d"
           }
          ],
          "parcoords": [
           {
            "line": {
             "colorbar": {
              "outlinewidth": 0,
              "ticks": ""
             }
            },
            "type": "parcoords"
           }
          ],
          "pie": [
           {
            "automargin": true,
            "type": "pie"
           }
          ],
          "scatter": [
           {
            "fillpattern": {
             "fillmode": "overlay",
             "size": 10,
             "solidity": 0.2
            },
            "type": "scatter"
           }
          ],
          "scatter3d": [
           {
            "line": {
             "colorbar": {
              "outlinewidth": 0,
              "ticks": ""
             }
            },
            "marker": {
             "colorbar": {
              "outlinewidth": 0,
              "ticks": ""
             }
            },
            "type": "scatter3d"
           }
          ],
          "scattercarpet": [
           {
            "marker": {
             "colorbar": {
              "outlinewidth": 0,
              "ticks": ""
             }
            },
            "type": "scattercarpet"
           }
          ],
          "scattergeo": [
           {
            "marker": {
             "colorbar": {
              "outlinewidth": 0,
              "ticks": ""
             }
            },
            "type": "scattergeo"
           }
          ],
          "scattergl": [
           {
            "marker": {
             "colorbar": {
              "outlinewidth": 0,
              "ticks": ""
             }
            },
            "type": "scattergl"
           }
          ],
          "scattermapbox": [
           {
            "marker": {
             "colorbar": {
              "outlinewidth": 0,
              "ticks": ""
             }
            },
            "type": "scattermapbox"
           }
          ],
          "scatterpolar": [
           {
            "marker": {
             "colorbar": {
              "outlinewidth": 0,
              "ticks": ""
             }
            },
            "type": "scatterpolar"
           }
          ],
          "scatterpolargl": [
           {
            "marker": {
             "colorbar": {
              "outlinewidth": 0,
              "ticks": ""
             }
            },
            "type": "scatterpolargl"
           }
          ],
          "scatterternary": [
           {
            "marker": {
             "colorbar": {
              "outlinewidth": 0,
              "ticks": ""
             }
            },
            "type": "scatterternary"
           }
          ],
          "surface": [
           {
            "colorbar": {
             "outlinewidth": 0,
             "ticks": ""
            },
            "colorscale": [
             [
              0,
              "#0d0887"
             ],
             [
              0.1111111111111111,
              "#46039f"
             ],
             [
              0.2222222222222222,
              "#7201a8"
             ],
             [
              0.3333333333333333,
              "#9c179e"
             ],
             [
              0.4444444444444444,
              "#bd3786"
             ],
             [
              0.5555555555555556,
              "#d8576b"
             ],
             [
              0.6666666666666666,
              "#ed7953"
             ],
             [
              0.7777777777777778,
              "#fb9f3a"
             ],
             [
              0.8888888888888888,
              "#fdca26"
             ],
             [
              1,
              "#f0f921"
             ]
            ],
            "type": "surface"
           }
          ],
          "table": [
           {
            "cells": {
             "fill": {
              "color": "#EBF0F8"
             },
             "line": {
              "color": "white"
             }
            },
            "header": {
             "fill": {
              "color": "#C8D4E3"
             },
             "line": {
              "color": "white"
             }
            },
            "type": "table"
           }
          ]
         },
         "layout": {
          "annotationdefaults": {
           "arrowcolor": "#2a3f5f",
           "arrowhead": 0,
           "arrowwidth": 1
          },
          "autotypenumbers": "strict",
          "coloraxis": {
           "colorbar": {
            "outlinewidth": 0,
            "ticks": ""
           }
          },
          "colorscale": {
           "diverging": [
            [
             0,
             "#8e0152"
            ],
            [
             0.1,
             "#c51b7d"
            ],
            [
             0.2,
             "#de77ae"
            ],
            [
             0.3,
             "#f1b6da"
            ],
            [
             0.4,
             "#fde0ef"
            ],
            [
             0.5,
             "#f7f7f7"
            ],
            [
             0.6,
             "#e6f5d0"
            ],
            [
             0.7,
             "#b8e186"
            ],
            [
             0.8,
             "#7fbc41"
            ],
            [
             0.9,
             "#4d9221"
            ],
            [
             1,
             "#276419"
            ]
           ],
           "sequential": [
            [
             0,
             "#0d0887"
            ],
            [
             0.1111111111111111,
             "#46039f"
            ],
            [
             0.2222222222222222,
             "#7201a8"
            ],
            [
             0.3333333333333333,
             "#9c179e"
            ],
            [
             0.4444444444444444,
             "#bd3786"
            ],
            [
             0.5555555555555556,
             "#d8576b"
            ],
            [
             0.6666666666666666,
             "#ed7953"
            ],
            [
             0.7777777777777778,
             "#fb9f3a"
            ],
            [
             0.8888888888888888,
             "#fdca26"
            ],
            [
             1,
             "#f0f921"
            ]
           ],
           "sequentialminus": [
            [
             0,
             "#0d0887"
            ],
            [
             0.1111111111111111,
             "#46039f"
            ],
            [
             0.2222222222222222,
             "#7201a8"
            ],
            [
             0.3333333333333333,
             "#9c179e"
            ],
            [
             0.4444444444444444,
             "#bd3786"
            ],
            [
             0.5555555555555556,
             "#d8576b"
            ],
            [
             0.6666666666666666,
             "#ed7953"
            ],
            [
             0.7777777777777778,
             "#fb9f3a"
            ],
            [
             0.8888888888888888,
             "#fdca26"
            ],
            [
             1,
             "#f0f921"
            ]
           ]
          },
          "colorway": [
           "#636efa",
           "#EF553B",
           "#00cc96",
           "#ab63fa",
           "#FFA15A",
           "#19d3f3",
           "#FF6692",
           "#B6E880",
           "#FF97FF",
           "#FECB52"
          ],
          "font": {
           "color": "#2a3f5f"
          },
          "geo": {
           "bgcolor": "white",
           "lakecolor": "white",
           "landcolor": "#E5ECF6",
           "showlakes": true,
           "showland": true,
           "subunitcolor": "white"
          },
          "hoverlabel": {
           "align": "left"
          },
          "hovermode": "closest",
          "mapbox": {
           "style": "light"
          },
          "paper_bgcolor": "white",
          "plot_bgcolor": "#E5ECF6",
          "polar": {
           "angularaxis": {
            "gridcolor": "white",
            "linecolor": "white",
            "ticks": ""
           },
           "bgcolor": "#E5ECF6",
           "radialaxis": {
            "gridcolor": "white",
            "linecolor": "white",
            "ticks": ""
           }
          },
          "scene": {
           "xaxis": {
            "backgroundcolor": "#E5ECF6",
            "gridcolor": "white",
            "gridwidth": 2,
            "linecolor": "white",
            "showbackground": true,
            "ticks": "",
            "zerolinecolor": "white"
           },
           "yaxis": {
            "backgroundcolor": "#E5ECF6",
            "gridcolor": "white",
            "gridwidth": 2,
            "linecolor": "white",
            "showbackground": true,
            "ticks": "",
            "zerolinecolor": "white"
           },
           "zaxis": {
            "backgroundcolor": "#E5ECF6",
            "gridcolor": "white",
            "gridwidth": 2,
            "linecolor": "white",
            "showbackground": true,
            "ticks": "",
            "zerolinecolor": "white"
           }
          },
          "shapedefaults": {
           "line": {
            "color": "#2a3f5f"
           }
          },
          "ternary": {
           "aaxis": {
            "gridcolor": "white",
            "linecolor": "white",
            "ticks": ""
           },
           "baxis": {
            "gridcolor": "white",
            "linecolor": "white",
            "ticks": ""
           },
           "bgcolor": "#E5ECF6",
           "caxis": {
            "gridcolor": "white",
            "linecolor": "white",
            "ticks": ""
           }
          },
          "title": {
           "x": 0.05
          },
          "xaxis": {
           "automargin": true,
           "gridcolor": "white",
           "linecolor": "white",
           "ticks": "",
           "title": {
            "standoff": 15
           },
           "zerolinecolor": "white",
           "zerolinewidth": 2
          },
          "yaxis": {
           "automargin": true,
           "gridcolor": "white",
           "linecolor": "white",
           "ticks": "",
           "title": {
            "standoff": 15
           },
           "zerolinecolor": "white",
           "zerolinewidth": 2
          }
         }
        },
        "title": {
         "text": "Heart Disease by Gender",
         "x": 0.5
        },
        "xaxis": {
         "anchor": "y",
         "domain": [
          0,
          1
         ],
         "title": {
          "text": "Gender"
         }
        },
        "yaxis": {
         "anchor": "x",
         "domain": [
          0,
          1
         ],
         "title": {
          "text": "Count"
         }
        }
       }
      }
     },
     "metadata": {},
     "output_type": "display_data"
    }
   ],
   "source": [
    "# Calculate heart disease by gender\n",
    "heart_disease_by_gender = df.groupby(['Sex', 'Target']).size().reset_index(name='Count')\n",
    "\n",
    "# Create a stacked bar plot using Plotly Express\n",
    "fig = px.bar(heart_disease_by_gender, x='Sex', y='Count', color='Target', \n",
    "             title='Heart Disease by Gender', \n",
    "             color_discrete_sequence=px.colors.sequential.Viridis)\n",
    "\n",
    "# Update layout for better readability\n",
    "fig.update_layout(\n",
    "    xaxis_title='Gender',\n",
    "    yaxis_title='Count',\n",
    "    title_x=0.5,\n",
    "    barmode='stack')\n",
    "\n",
    "fig.show()"
   ]
  },
  {
   "cell_type": "code",
   "execution_count": 97,
   "metadata": {},
   "outputs": [
    {
     "data": {
      "application/vnd.plotly.v1+json": {
       "config": {
        "plotlyServerURL": "https://plot.ly"
       },
       "data": [
        {
         "hovertemplate": "Target=No Disease<br>Age=%{x}<br>Cholestoral=%{y}<extra></extra>",
         "legendgroup": "No Disease",
         "marker": {
          "color": "#440154",
          "symbol": "circle"
         },
         "mode": "markers",
         "name": "No Disease",
         "showlegend": true,
         "type": "scattergl",
         "x": [
          52,
          53,
          70,
          61,
          62,
          58,
          55,
          46,
          54,
          43,
          51,
          52,
          54,
          60,
          61,
          58,
          56,
          55,
          44,
          57,
          70,
          46,
          57,
          61,
          46,
          66,
          60,
          57,
          49,
          55,
          55,
          67,
          57,
          67,
          59,
          42,
          62,
          59,
          61,
          56,
          59,
          48,
          63,
          50,
          49,
          46,
          59,
          62,
          68,
          63,
          44,
          53,
          65,
          47,
          51,
          62,
          40,
          54,
          44,
          48,
          57,
          59,
          61,
          63,
          43,
          44,
          60,
          61,
          58,
          57,
          63,
          61,
          40,
          41,
          58,
          54,
          58,
          63,
          77,
          77,
          48,
          56,
          59,
          56,
          56,
          54,
          56,
          56,
          64,
          44,
          56,
          63,
          60,
          57,
          40,
          56,
          63,
          64,
          67,
          58,
          50,
          59,
          62,
          67,
          50,
          65,
          46,
          54,
          57,
          63,
          49,
          66,
          58,
          60,
          49,
          57,
          60,
          62,
          67,
          60,
          54,
          46,
          47,
          55,
          57,
          35,
          38,
          58,
          53,
          67,
          58,
          54,
          56,
          55,
          58,
          40,
          58,
          56,
          67,
          67,
          58,
          60,
          62,
          59,
          61,
          48,
          70,
          59,
          45,
          66,
          54,
          57,
          70,
          63,
          60,
          58,
          56,
          60,
          66,
          50,
          43,
          62,
          50,
          57,
          57,
          59,
          67,
          59,
          57,
          58,
          48,
          43,
          55,
          58,
          67,
          58,
          58,
          59,
          58,
          35,
          77,
          64,
          58,
          45,
          62,
          63,
          68,
          40,
          49,
          61,
          56,
          58,
          46,
          56,
          57,
          70,
          59,
          58,
          45,
          51,
          43,
          47,
          67,
          65,
          59,
          67,
          58,
          62,
          60,
          57,
          55,
          52,
          63,
          66,
          65,
          47,
          69,
          47,
          67,
          48,
          57,
          57,
          58,
          51,
          63,
          51,
          65,
          62,
          41,
          65,
          64,
          55,
          68,
          57,
          47,
          61,
          56,
          55,
          43,
          44,
          54,
          49,
          60,
          49,
          61,
          59,
          61,
          58,
          62,
          60,
          63,
          46,
          58,
          59,
          48,
          70,
          69,
          54,
          43,
          58,
          67,
          59,
          67,
          44,
          56,
          60,
          44,
          60,
          70,
          58,
          43,
          55,
          64,
          59,
          61,
          54,
          63,
          70,
          63,
          64,
          61,
          58,
          62,
          46,
          66,
          42,
          64,
          55,
          43,
          55,
          58,
          55,
          51,
          65,
          57,
          48,
          62,
          61,
          69,
          58,
          38,
          65,
          45,
          61,
          52,
          59,
          65,
          56,
          50,
          47,
          62,
          56,
          57,
          64,
          61,
          58,
          57,
          66,
          61,
          52,
          63,
          58,
          60,
          63,
          68,
          59,
          59,
          43,
          60,
          63,
          52,
          58,
          56,
          53,
          39,
          35,
          67,
          66,
          35,
          35,
          58,
          57,
          45,
          35,
          55,
          56,
          64,
          60,
          48,
          46,
          52,
          52,
          59,
          67,
          58,
          52,
          63,
          64,
          60,
          64,
          61,
          57,
          63,
          57,
          57,
          68,
          62,
          65,
          61,
          53,
          59,
          44,
          58,
          55,
          67,
          51,
          62,
          62,
          54,
          54,
          68,
          61,
          65,
          59,
          67,
          63,
          52,
          57,
          40,
          57,
          62,
          53,
          58,
          61,
          62,
          60,
          61,
          57,
          54,
          55,
          42,
          49,
          70,
          58,
          59,
          60,
          56,
          61,
          52,
          58,
          52,
          67,
          65,
          51,
          52,
          64,
          59,
          52,
          59,
          59,
          60,
          61,
          54,
          57,
          57,
          48,
          70,
          57,
          61,
          60,
          63,
          55,
          54,
          52,
          51,
          62,
          61,
          62,
          59,
          64,
          62,
          50,
          50,
          58,
          35,
          66,
          46,
          65,
          59,
          38,
          39,
          58,
          61,
          57,
          54,
          54,
          60,
          65,
          40,
          38,
          64,
          57,
          66,
          70,
          67,
          62,
          50,
          57,
          58,
          53,
          39,
          63,
          44,
          45,
          39,
          55,
          57,
          60,
          60,
          43,
          59,
          56,
          54,
          42,
          67,
          64,
          66,
          55,
          40,
          51,
          48,
          58,
          58,
          65,
          53,
          41,
          60,
          47,
          54
         ],
         "xaxis": "x",
         "y": [
          212,
          203,
          174,
          203,
          294,
          318,
          289,
          249,
          286,
          341,
          298,
          204,
          266,
          185,
          307,
          319,
          256,
          327,
          169,
          131,
          269,
          231,
          229,
          330,
          249,
          228,
          230,
          241,
          188,
          217,
          217,
          212,
          232,
          299,
          288,
          315,
          164,
          326,
          207,
          249,
          177,
          256,
          187,
          233,
          149,
          231,
          249,
          268,
          193,
          187,
          169,
          282,
          248,
          275,
          299,
          281,
          223,
          206,
          197,
          256,
          335,
          218,
          307,
          254,
          177,
          169,
          282,
          260,
          225,
          274,
          197,
          234,
          167,
          172,
          318,
          283,
          300,
          330,
          304,
          304,
          274,
          249,
          326,
          184,
          283,
          239,
          288,
          283,
          246,
          197,
          409,
          187,
          293,
          289,
          167,
          249,
          254,
          309,
          286,
          234,
          200,
          218,
          281,
          299,
          243,
          254,
          311,
          286,
          236,
          254,
          149,
          228,
          300,
          258,
          149,
          261,
          230,
          244,
          212,
          185,
          283,
          311,
          275,
          353,
          289,
          198,
          231,
          225,
          282,
          237,
          224,
          206,
          283,
          289,
          224,
          223,
          259,
          288,
          299,
          237,
          270,
          282,
          267,
          218,
          260,
          256,
          269,
          177,
          309,
          246,
          283,
          276,
          322,
          269,
          206,
          270,
          256,
          253,
          246,
          243,
          247,
          263,
          200,
          335,
          261,
          176,
          286,
          204,
          236,
          230,
          229,
          341,
          353,
          284,
          237,
          218,
          224,
          239,
          270,
          282,
          304,
          246,
          319,
          264,
          164,
          330,
          274,
          167,
          188,
          207,
          256,
          234,
          231,
          249,
          276,
          322,
          288,
          319,
          309,
          305,
          247,
          243,
          212,
          225,
          249,
          229,
          284,
          244,
          293,
          274,
          289,
          230,
          407,
          228,
          225,
          243,
          254,
          275,
          286,
          229,
          289,
          229,
          216,
          305,
          407,
          298,
          248,
          281,
          172,
          254,
          309,
          353,
          274,
          232,
          243,
          260,
          288,
          327,
          177,
          290,
          206,
          188,
          206,
          188,
          203,
          177,
          203,
          230,
          164,
          258,
          197,
          249,
          259,
          204,
          229,
          322,
          254,
          286,
          341,
          234,
          254,
          177,
          237,
          290,
          184,
          282,
          290,
          258,
          322,
          218,
          177,
          353,
          309,
          176,
          307,
          286,
          269,
          269,
          269,
          212,
          203,
          284,
          263,
          311,
          212,
          315,
          212,
          327,
          341,
          205,
          225,
          217,
          305,
          248,
          274,
          256,
          294,
          234,
          254,
          224,
          231,
          282,
          264,
          166,
          212,
          249,
          282,
          409,
          243,
          243,
          267,
          283,
          236,
          309,
          166,
          318,
          261,
          246,
          330,
          212,
          330,
          234,
          253,
          254,
          274,
          326,
          176,
          177,
          185,
          407,
          204,
          300,
          288,
          203,
          219,
          282,
          212,
          212,
          282,
          198,
          216,
          229,
          264,
          198,
          205,
          256,
          335,
          258,
          274,
          311,
          230,
          204,
          239,
          229,
          300,
          255,
          330,
          335,
          230,
          246,
          330,
          276,
          187,
          335,
          335,
          193,
          244,
          225,
          307,
          282,
          204,
          169,
          218,
          289,
          254,
          298,
          294,
          281,
          239,
          239,
          193,
          234,
          225,
          288,
          229,
          197,
          230,
          276,
          167,
          261,
          268,
          203,
          225,
          207,
          268,
          253,
          166,
          229,
          266,
          217,
          315,
          149,
          174,
          230,
          273,
          293,
          184,
          166,
          255,
          284,
          255,
          229,
          282,
          299,
          230,
          335,
          288,
          212,
          273,
          273,
          206,
          207,
          188,
          232,
          131,
          274,
          174,
          289,
          260,
          258,
          407,
          205,
          239,
          204,
          299,
          263,
          234,
          268,
          218,
          246,
          267,
          200,
          233,
          319,
          198,
          212,
          249,
          254,
          204,
          231,
          219,
          218,
          330,
          131,
          206,
          266,
          206,
          254,
          223,
          231,
          335,
          241,
          228,
          174,
          286,
          263,
          233,
          241,
          259,
          203,
          219,
          269,
          197,
          309,
          219,
          327,
          232,
          293,
          230,
          247,
          239,
          409,
          188,
          315,
          254,
          212,
          212,
          205,
          223,
          299,
          229,
          318,
          216,
          282,
          282,
          172,
          258,
          275,
          188
         ],
         "yaxis": "y"
        },
        {
         "hovertemplate": "Target=Disease<br>Age=%{x}<br>Cholestoral=%{y}<extra></extra>",
         "legendgroup": "Disease",
         "marker": {
          "color": "#482878",
          "symbol": "circle"
         },
         "mode": "markers",
         "name": "Disease",
         "showlegend": true,
         "type": "scattergl",
         "x": [
          58,
          71,
          34,
          34,
          51,
          50,
          58,
          67,
          45,
          63,
          42,
          44,
          50,
          50,
          51,
          59,
          64,
          65,
          54,
          55,
          42,
          41,
          66,
          58,
          38,
          56,
          48,
          29,
          66,
          59,
          29,
          53,
          37,
          47,
          48,
          52,
          52,
          38,
          37,
          44,
          58,
          54,
          62,
          62,
          45,
          57,
          76,
          43,
          57,
          54,
          47,
          52,
          53,
          29,
          42,
          54,
          65,
          60,
          66,
          53,
          52,
          57,
          60,
          51,
          41,
          50,
          54,
          55,
          64,
          47,
          41,
          34,
          47,
          51,
          52,
          39,
          54,
          54,
          40,
          54,
          67,
          41,
          51,
          57,
          43,
          45,
          43,
          56,
          39,
          64,
          42,
          45,
          41,
          56,
          67,
          69,
          59,
          45,
          60,
          62,
          34,
          52,
          64,
          66,
          42,
          41,
          38,
          42,
          43,
          45,
          49,
          41,
          64,
          39,
          51,
          54,
          44,
          52,
          56,
          41,
          49,
          64,
          54,
          38,
          51,
          44,
          39,
          42,
          45,
          62,
          35,
          64,
          66,
          44,
          54,
          48,
          55,
          45,
          71,
          43,
          44,
          39,
          66,
          57,
          44,
          41,
          45,
          35,
          41,
          64,
          71,
          64,
          71,
          58,
          52,
          61,
          59,
          35,
          52,
          46,
          51,
          55,
          52,
          44,
          44,
          56,
          74,
          40,
          42,
          64,
          63,
          53,
          53,
          48,
          48,
          56,
          53,
          37,
          37,
          54,
          57,
          54,
          38,
          44,
          65,
          52,
          41,
          54,
          66,
          57,
          46,
          53,
          48,
          62,
          43,
          53,
          53,
          58,
          51,
          54,
          46,
          66,
          59,
          64,
          52,
          51,
          42,
          63,
          51,
          66,
          66,
          63,
          71,
          70,
          46,
          58,
          46,
          41,
          41,
          54,
          52,
          62,
          65,
          57,
          42,
          57,
          54,
          57,
          60,
          37,
          41,
          57,
          47,
          57,
          47,
          52,
          53,
          51,
          49,
          49,
          69,
          39,
          43,
          51,
          48,
          52,
          43,
          67,
          38,
          44,
          61,
          60,
          64,
          58,
          41,
          57,
          39,
          35,
          54,
          61,
          57,
          57,
          51,
          59,
          54,
          46,
          71,
          35,
          46,
          45,
          44,
          41,
          54,
          44,
          41,
          58,
          67,
          51,
          62,
          59,
          69,
          65,
          53,
          54,
          76,
          50,
          52,
          64,
          44,
          62,
          54,
          67,
          51,
          68,
          53,
          48,
          39,
          58,
          65,
          42,
          53,
          50,
          41,
          54,
          42,
          54,
          34,
          43,
          52,
          62,
          46,
          44,
          55,
          40,
          74,
          59,
          38,
          63,
          58,
          63,
          47,
          71,
          50,
          43,
          41,
          49,
          59,
          69,
          49,
          45,
          53,
          58,
          58,
          46,
          64,
          65,
          44,
          64,
          71,
          45,
          41,
          66,
          41,
          41,
          39,
          59,
          47,
          58,
          66,
          65,
          35,
          29,
          68,
          54,
          41,
          42,
          54,
          58,
          55,
          63,
          50,
          41,
          71,
          57,
          51,
          56,
          60,
          56,
          45,
          66,
          51,
          70,
          55,
          52,
          45,
          67,
          68,
          74,
          56,
          55,
          44,
          51,
          44,
          50,
          44,
          41,
          58,
          60,
          51,
          44,
          58,
          55,
          65,
          48,
          65,
          51,
          48,
          66,
          46,
          49,
          56,
          58,
          46,
          71,
          41,
          45,
          48,
          51,
          34,
          64,
          56,
          54,
          60,
          62,
          41,
          43,
          63,
          58,
          53,
          44,
          51,
          54,
          62,
          58,
          70,
          45,
          42,
          54,
          63,
          42,
          44,
          51,
          58,
          68,
          53,
          52,
          51,
          51,
          35,
          35,
          58,
          37,
          46,
          68,
          43,
          68,
          60,
          41,
          41,
          56,
          56,
          48,
          39,
          64,
          57,
          43,
          59,
          57,
          57,
          64,
          59,
          52,
          42,
          59,
          42,
          55,
          42,
          50,
          45,
          47,
          44,
          54,
          42,
          51,
          42,
          56,
          43,
          53,
          49,
          52,
          69,
          65,
          56,
          67,
          54,
          57,
          54,
          45,
          53,
          62,
          49,
          65,
          69,
          52,
          58,
          52,
          44,
          76,
          60,
          52,
          38,
          52,
          52,
          51,
          43,
          52,
          57,
          67,
          64,
          59,
          62,
          71,
          56,
          50,
          44,
          42,
          52,
          51,
          58,
          56,
          42,
          45,
          44,
          47,
          59,
          50
         ],
         "xaxis": "x",
         "y": [
          248,
          149,
          210,
          210,
          308,
          244,
          211,
          223,
          208,
          252,
          209,
          233,
          244,
          196,
          213,
          271,
          263,
          360,
          258,
          342,
          226,
          203,
          278,
          283,
          175,
          193,
          245,
          204,
          278,
          212,
          204,
          197,
          215,
          257,
          255,
          201,
          201,
          175,
          215,
          220,
          211,
          267,
          209,
          208,
          236,
          303,
          197,
          213,
          126,
          309,
          257,
          186,
          226,
          204,
          295,
          309,
          417,
          240,
          302,
          197,
          223,
          192,
          240,
          256,
          203,
          196,
          309,
          342,
          325,
          257,
          235,
          182,
          204,
          295,
          298,
          321,
          258,
          309,
          199,
          258,
          564,
          157,
          222,
          354,
          315,
          160,
          247,
          240,
          199,
          211,
          180,
          308,
          250,
          221,
          564,
          234,
          212,
          260,
          318,
          209,
          182,
          298,
          227,
          278,
          244,
          250,
          175,
          240,
          315,
          308,
          266,
          157,
          211,
          199,
          261,
          232,
          242,
          205,
          236,
          306,
          269,
          227,
          288,
          175,
          245,
          219,
          220,
          180,
          160,
          394,
          183,
          325,
          302,
          226,
          232,
          222,
          342,
          208,
          265,
          211,
          263,
          220,
          228,
          207,
          219,
          198,
          234,
          192,
          204,
          211,
          265,
          313,
          302,
          340,
          223,
          243,
          212,
          192,
          325,
          204,
          227,
          342,
          196,
          242,
          220,
          294,
          269,
          199,
          244,
          313,
          252,
          216,
          264,
          275,
          245,
          294,
          216,
          215,
          250,
          214,
          126,
          273,
          175,
          226,
          269,
          199,
          157,
          267,
          302,
          201,
          243,
          216,
          222,
          231,
          213,
          246,
          246,
          240,
          175,
          214,
          177,
          228,
          221,
          303,
          186,
          175,
          209,
          233,
          175,
          278,
          228,
          233,
          149,
          245,
          204,
          211,
          243,
          198,
          204,
          273,
          223,
          209,
          360,
          303,
          265,
          354,
          201,
          168,
          318,
          250,
          268,
          354,
          253,
          168,
          253,
          205,
          246,
          295,
          271,
          271,
          234,
          220,
          247,
          261,
          255,
          186,
          211,
          564,
          175,
          219,
          243,
          240,
          313,
          197,
          214,
          126,
          321,
          192,
          288,
          243,
          303,
          168,
          245,
          234,
          239,
          177,
          149,
          183,
          177,
          234,
          242,
          204,
          288,
          220,
          198,
          220,
          277,
          256,
          209,
          270,
          234,
          269,
          234,
          267,
          197,
          219,
          325,
          227,
          235,
          394,
          273,
          223,
          295,
          277,
          197,
          222,
          199,
          197,
          269,
          209,
          234,
          254,
          214,
          201,
          240,
          304,
          182,
          247,
          298,
          394,
          197,
          235,
          262,
          199,
          269,
          221,
          175,
          195,
          340,
          195,
          253,
          265,
          219,
          303,
          306,
          266,
          270,
          239,
          266,
          234,
          264,
          340,
          197,
          243,
          263,
          177,
          226,
          303,
          149,
          234,
          157,
          226,
          306,
          235,
          220,
          271,
          204,
          248,
          226,
          417,
          192,
          204,
          277,
          258,
          268,
          295,
          304,
          240,
          250,
          195,
          219,
          214,
          302,
          201,
          227,
          294,
          178,
          221,
          160,
          226,
          213,
          245,
          250,
          233,
          260,
          277,
          211,
          269,
          221,
          250,
          220,
          227,
          141,
          196,
          235,
          268,
          220,
          318,
          222,
          226,
          220,
          262,
          360,
          245,
          177,
          256,
          255,
          228,
          204,
          269,
          221,
          283,
          197,
          265,
          203,
          236,
          275,
          222,
          210,
          303,
          240,
          232,
          178,
          208,
          203,
          303,
          233,
          197,
          226,
          233,
          227,
          214,
          208,
          240,
          245,
          260,
          244,
          239,
          252,
          180,
          233,
          222,
          220,
          277,
          234,
          199,
          213,
          261,
          183,
          183,
          283,
          250,
          197,
          211,
          303,
          211,
          240,
          250,
          235,
          240,
          236,
          275,
          321,
          227,
          192,
          213,
          271,
          207,
          201,
          325,
          270,
          201,
          265,
          234,
          265,
          262,
          226,
          244,
          208,
          253,
          263,
          239,
          240,
          308,
          180,
          240,
          315,
          226,
          271,
          196,
          239,
          177,
          193,
          277,
          201,
          207,
          304,
          236,
          264,
          231,
          269,
          417,
          239,
          196,
          248,
          233,
          141,
          197,
          178,
          325,
          175,
          199,
          186,
          245,
          211,
          205,
          192,
          223,
          263,
          234,
          231,
          302,
          236,
          254,
          263,
          226,
          233,
          308,
          211,
          193,
          295,
          308,
          141,
          204,
          221,
          254
         ],
         "yaxis": "y"
        }
       ],
       "layout": {
        "legend": {
         "title": {
          "text": "Target"
         },
         "tracegroupgap": 0
        },
        "template": {
         "data": {
          "bar": [
           {
            "error_x": {
             "color": "#2a3f5f"
            },
            "error_y": {
             "color": "#2a3f5f"
            },
            "marker": {
             "line": {
              "color": "#E5ECF6",
              "width": 0.5
             },
             "pattern": {
              "fillmode": "overlay",
              "size": 10,
              "solidity": 0.2
             }
            },
            "type": "bar"
           }
          ],
          "barpolar": [
           {
            "marker": {
             "line": {
              "color": "#E5ECF6",
              "width": 0.5
             },
             "pattern": {
              "fillmode": "overlay",
              "size": 10,
              "solidity": 0.2
             }
            },
            "type": "barpolar"
           }
          ],
          "carpet": [
           {
            "aaxis": {
             "endlinecolor": "#2a3f5f",
             "gridcolor": "white",
             "linecolor": "white",
             "minorgridcolor": "white",
             "startlinecolor": "#2a3f5f"
            },
            "baxis": {
             "endlinecolor": "#2a3f5f",
             "gridcolor": "white",
             "linecolor": "white",
             "minorgridcolor": "white",
             "startlinecolor": "#2a3f5f"
            },
            "type": "carpet"
           }
          ],
          "choropleth": [
           {
            "colorbar": {
             "outlinewidth": 0,
             "ticks": ""
            },
            "type": "choropleth"
           }
          ],
          "contour": [
           {
            "colorbar": {
             "outlinewidth": 0,
             "ticks": ""
            },
            "colorscale": [
             [
              0,
              "#0d0887"
             ],
             [
              0.1111111111111111,
              "#46039f"
             ],
             [
              0.2222222222222222,
              "#7201a8"
             ],
             [
              0.3333333333333333,
              "#9c179e"
             ],
             [
              0.4444444444444444,
              "#bd3786"
             ],
             [
              0.5555555555555556,
              "#d8576b"
             ],
             [
              0.6666666666666666,
              "#ed7953"
             ],
             [
              0.7777777777777778,
              "#fb9f3a"
             ],
             [
              0.8888888888888888,
              "#fdca26"
             ],
             [
              1,
              "#f0f921"
             ]
            ],
            "type": "contour"
           }
          ],
          "contourcarpet": [
           {
            "colorbar": {
             "outlinewidth": 0,
             "ticks": ""
            },
            "type": "contourcarpet"
           }
          ],
          "heatmap": [
           {
            "colorbar": {
             "outlinewidth": 0,
             "ticks": ""
            },
            "colorscale": [
             [
              0,
              "#0d0887"
             ],
             [
              0.1111111111111111,
              "#46039f"
             ],
             [
              0.2222222222222222,
              "#7201a8"
             ],
             [
              0.3333333333333333,
              "#9c179e"
             ],
             [
              0.4444444444444444,
              "#bd3786"
             ],
             [
              0.5555555555555556,
              "#d8576b"
             ],
             [
              0.6666666666666666,
              "#ed7953"
             ],
             [
              0.7777777777777778,
              "#fb9f3a"
             ],
             [
              0.8888888888888888,
              "#fdca26"
             ],
             [
              1,
              "#f0f921"
             ]
            ],
            "type": "heatmap"
           }
          ],
          "heatmapgl": [
           {
            "colorbar": {
             "outlinewidth": 0,
             "ticks": ""
            },
            "colorscale": [
             [
              0,
              "#0d0887"
             ],
             [
              0.1111111111111111,
              "#46039f"
             ],
             [
              0.2222222222222222,
              "#7201a8"
             ],
             [
              0.3333333333333333,
              "#9c179e"
             ],
             [
              0.4444444444444444,
              "#bd3786"
             ],
             [
              0.5555555555555556,
              "#d8576b"
             ],
             [
              0.6666666666666666,
              "#ed7953"
             ],
             [
              0.7777777777777778,
              "#fb9f3a"
             ],
             [
              0.8888888888888888,
              "#fdca26"
             ],
             [
              1,
              "#f0f921"
             ]
            ],
            "type": "heatmapgl"
           }
          ],
          "histogram": [
           {
            "marker": {
             "pattern": {
              "fillmode": "overlay",
              "size": 10,
              "solidity": 0.2
             }
            },
            "type": "histogram"
           }
          ],
          "histogram2d": [
           {
            "colorbar": {
             "outlinewidth": 0,
             "ticks": ""
            },
            "colorscale": [
             [
              0,
              "#0d0887"
             ],
             [
              0.1111111111111111,
              "#46039f"
             ],
             [
              0.2222222222222222,
              "#7201a8"
             ],
             [
              0.3333333333333333,
              "#9c179e"
             ],
             [
              0.4444444444444444,
              "#bd3786"
             ],
             [
              0.5555555555555556,
              "#d8576b"
             ],
             [
              0.6666666666666666,
              "#ed7953"
             ],
             [
              0.7777777777777778,
              "#fb9f3a"
             ],
             [
              0.8888888888888888,
              "#fdca26"
             ],
             [
              1,
              "#f0f921"
             ]
            ],
            "type": "histogram2d"
           }
          ],
          "histogram2dcontour": [
           {
            "colorbar": {
             "outlinewidth": 0,
             "ticks": ""
            },
            "colorscale": [
             [
              0,
              "#0d0887"
             ],
             [
              0.1111111111111111,
              "#46039f"
             ],
             [
              0.2222222222222222,
              "#7201a8"
             ],
             [
              0.3333333333333333,
              "#9c179e"
             ],
             [
              0.4444444444444444,
              "#bd3786"
             ],
             [
              0.5555555555555556,
              "#d8576b"
             ],
             [
              0.6666666666666666,
              "#ed7953"
             ],
             [
              0.7777777777777778,
              "#fb9f3a"
             ],
             [
              0.8888888888888888,
              "#fdca26"
             ],
             [
              1,
              "#f0f921"
             ]
            ],
            "type": "histogram2dcontour"
           }
          ],
          "mesh3d": [
           {
            "colorbar": {
             "outlinewidth": 0,
             "ticks": ""
            },
            "type": "mesh3d"
           }
          ],
          "parcoords": [
           {
            "line": {
             "colorbar": {
              "outlinewidth": 0,
              "ticks": ""
             }
            },
            "type": "parcoords"
           }
          ],
          "pie": [
           {
            "automargin": true,
            "type": "pie"
           }
          ],
          "scatter": [
           {
            "fillpattern": {
             "fillmode": "overlay",
             "size": 10,
             "solidity": 0.2
            },
            "type": "scatter"
           }
          ],
          "scatter3d": [
           {
            "line": {
             "colorbar": {
              "outlinewidth": 0,
              "ticks": ""
             }
            },
            "marker": {
             "colorbar": {
              "outlinewidth": 0,
              "ticks": ""
             }
            },
            "type": "scatter3d"
           }
          ],
          "scattercarpet": [
           {
            "marker": {
             "colorbar": {
              "outlinewidth": 0,
              "ticks": ""
             }
            },
            "type": "scattercarpet"
           }
          ],
          "scattergeo": [
           {
            "marker": {
             "colorbar": {
              "outlinewidth": 0,
              "ticks": ""
             }
            },
            "type": "scattergeo"
           }
          ],
          "scattergl": [
           {
            "marker": {
             "colorbar": {
              "outlinewidth": 0,
              "ticks": ""
             }
            },
            "type": "scattergl"
           }
          ],
          "scattermapbox": [
           {
            "marker": {
             "colorbar": {
              "outlinewidth": 0,
              "ticks": ""
             }
            },
            "type": "scattermapbox"
           }
          ],
          "scatterpolar": [
           {
            "marker": {
             "colorbar": {
              "outlinewidth": 0,
              "ticks": ""
             }
            },
            "type": "scatterpolar"
           }
          ],
          "scatterpolargl": [
           {
            "marker": {
             "colorbar": {
              "outlinewidth": 0,
              "ticks": ""
             }
            },
            "type": "scatterpolargl"
           }
          ],
          "scatterternary": [
           {
            "marker": {
             "colorbar": {
              "outlinewidth": 0,
              "ticks": ""
             }
            },
            "type": "scatterternary"
           }
          ],
          "surface": [
           {
            "colorbar": {
             "outlinewidth": 0,
             "ticks": ""
            },
            "colorscale": [
             [
              0,
              "#0d0887"
             ],
             [
              0.1111111111111111,
              "#46039f"
             ],
             [
              0.2222222222222222,
              "#7201a8"
             ],
             [
              0.3333333333333333,
              "#9c179e"
             ],
             [
              0.4444444444444444,
              "#bd3786"
             ],
             [
              0.5555555555555556,
              "#d8576b"
             ],
             [
              0.6666666666666666,
              "#ed7953"
             ],
             [
              0.7777777777777778,
              "#fb9f3a"
             ],
             [
              0.8888888888888888,
              "#fdca26"
             ],
             [
              1,
              "#f0f921"
             ]
            ],
            "type": "surface"
           }
          ],
          "table": [
           {
            "cells": {
             "fill": {
              "color": "#EBF0F8"
             },
             "line": {
              "color": "white"
             }
            },
            "header": {
             "fill": {
              "color": "#C8D4E3"
             },
             "line": {
              "color": "white"
             }
            },
            "type": "table"
           }
          ]
         },
         "layout": {
          "annotationdefaults": {
           "arrowcolor": "#2a3f5f",
           "arrowhead": 0,
           "arrowwidth": 1
          },
          "autotypenumbers": "strict",
          "coloraxis": {
           "colorbar": {
            "outlinewidth": 0,
            "ticks": ""
           }
          },
          "colorscale": {
           "diverging": [
            [
             0,
             "#8e0152"
            ],
            [
             0.1,
             "#c51b7d"
            ],
            [
             0.2,
             "#de77ae"
            ],
            [
             0.3,
             "#f1b6da"
            ],
            [
             0.4,
             "#fde0ef"
            ],
            [
             0.5,
             "#f7f7f7"
            ],
            [
             0.6,
             "#e6f5d0"
            ],
            [
             0.7,
             "#b8e186"
            ],
            [
             0.8,
             "#7fbc41"
            ],
            [
             0.9,
             "#4d9221"
            ],
            [
             1,
             "#276419"
            ]
           ],
           "sequential": [
            [
             0,
             "#0d0887"
            ],
            [
             0.1111111111111111,
             "#46039f"
            ],
            [
             0.2222222222222222,
             "#7201a8"
            ],
            [
             0.3333333333333333,
             "#9c179e"
            ],
            [
             0.4444444444444444,
             "#bd3786"
            ],
            [
             0.5555555555555556,
             "#d8576b"
            ],
            [
             0.6666666666666666,
             "#ed7953"
            ],
            [
             0.7777777777777778,
             "#fb9f3a"
            ],
            [
             0.8888888888888888,
             "#fdca26"
            ],
            [
             1,
             "#f0f921"
            ]
           ],
           "sequentialminus": [
            [
             0,
             "#0d0887"
            ],
            [
             0.1111111111111111,
             "#46039f"
            ],
            [
             0.2222222222222222,
             "#7201a8"
            ],
            [
             0.3333333333333333,
             "#9c179e"
            ],
            [
             0.4444444444444444,
             "#bd3786"
            ],
            [
             0.5555555555555556,
             "#d8576b"
            ],
            [
             0.6666666666666666,
             "#ed7953"
            ],
            [
             0.7777777777777778,
             "#fb9f3a"
            ],
            [
             0.8888888888888888,
             "#fdca26"
            ],
            [
             1,
             "#f0f921"
            ]
           ]
          },
          "colorway": [
           "#636efa",
           "#EF553B",
           "#00cc96",
           "#ab63fa",
           "#FFA15A",
           "#19d3f3",
           "#FF6692",
           "#B6E880",
           "#FF97FF",
           "#FECB52"
          ],
          "font": {
           "color": "#2a3f5f"
          },
          "geo": {
           "bgcolor": "white",
           "lakecolor": "white",
           "landcolor": "#E5ECF6",
           "showlakes": true,
           "showland": true,
           "subunitcolor": "white"
          },
          "hoverlabel": {
           "align": "left"
          },
          "hovermode": "closest",
          "mapbox": {
           "style": "light"
          },
          "paper_bgcolor": "white",
          "plot_bgcolor": "#E5ECF6",
          "polar": {
           "angularaxis": {
            "gridcolor": "white",
            "linecolor": "white",
            "ticks": ""
           },
           "bgcolor": "#E5ECF6",
           "radialaxis": {
            "gridcolor": "white",
            "linecolor": "white",
            "ticks": ""
           }
          },
          "scene": {
           "xaxis": {
            "backgroundcolor": "#E5ECF6",
            "gridcolor": "white",
            "gridwidth": 2,
            "linecolor": "white",
            "showbackground": true,
            "ticks": "",
            "zerolinecolor": "white"
           },
           "yaxis": {
            "backgroundcolor": "#E5ECF6",
            "gridcolor": "white",
            "gridwidth": 2,
            "linecolor": "white",
            "showbackground": true,
            "ticks": "",
            "zerolinecolor": "white"
           },
           "zaxis": {
            "backgroundcolor": "#E5ECF6",
            "gridcolor": "white",
            "gridwidth": 2,
            "linecolor": "white",
            "showbackground": true,
            "ticks": "",
            "zerolinecolor": "white"
           }
          },
          "shapedefaults": {
           "line": {
            "color": "#2a3f5f"
           }
          },
          "ternary": {
           "aaxis": {
            "gridcolor": "white",
            "linecolor": "white",
            "ticks": ""
           },
           "baxis": {
            "gridcolor": "white",
            "linecolor": "white",
            "ticks": ""
           },
           "bgcolor": "#E5ECF6",
           "caxis": {
            "gridcolor": "white",
            "linecolor": "white",
            "ticks": ""
           }
          },
          "title": {
           "x": 0.05
          },
          "xaxis": {
           "automargin": true,
           "gridcolor": "white",
           "linecolor": "white",
           "ticks": "",
           "title": {
            "standoff": 15
           },
           "zerolinecolor": "white",
           "zerolinewidth": 2
          },
          "yaxis": {
           "automargin": true,
           "gridcolor": "white",
           "linecolor": "white",
           "ticks": "",
           "title": {
            "standoff": 15
           },
           "zerolinecolor": "white",
           "zerolinewidth": 2
          }
         }
        },
        "title": {
         "text": "Age vs Cholestoral",
         "x": 0.5
        },
        "xaxis": {
         "anchor": "y",
         "domain": [
          0,
          1
         ],
         "title": {
          "text": "Age"
         }
        },
        "yaxis": {
         "anchor": "x",
         "domain": [
          0,
          1
         ],
         "title": {
          "text": "Cholestoral"
         }
        }
       }
      }
     },
     "metadata": {},
     "output_type": "display_data"
    }
   ],
   "source": [
    "# Create a scatter plot using Plotly Express\n",
    "fig = px.scatter(df, x='Age', y='Cholestoral', color='Target',\n",
    "                 title='Age vs Cholestoral', \n",
    "                 category_orders={'Target': ['No Disease', 'Disease']},\n",
    "                 color_discrete_sequence=px.colors.sequential.Viridis)\n",
    "\n",
    "# Update layout for better readability\n",
    "fig.update_layout(\n",
    "    xaxis_title='Age',\n",
    "    yaxis_title='Cholestoral',\n",
    "    title_x=0.5,\n",
    "    legend_title='Target')\n",
    "\n",
    "fig.show()"
   ]
  },
  {
   "cell_type": "code",
   "execution_count": 98,
   "metadata": {},
   "outputs": [
    {
     "data": {
      "application/vnd.plotly.v1+json": {
       "config": {
        "plotlyServerURL": "https://plot.ly"
       },
       "data": [
        {
         "alignmentgroup": "True",
         "hovertemplate": "Target=Disease<br>Age=%{x}<br>Count=%{y}<extra></extra>",
         "legendgroup": "Disease",
         "marker": {
          "color": "#440154",
          "pattern": {
           "shape": ""
          }
         },
         "name": "Disease",
         "offsetgroup": "Disease",
         "orientation": "v",
         "showlegend": true,
         "textposition": "auto",
         "type": "bar",
         "x": [
          29,
          34,
          35,
          37,
          38,
          39,
          40,
          41,
          42,
          43,
          44,
          45,
          46,
          47,
          48,
          49,
          50,
          51,
          52,
          53,
          54,
          55,
          56,
          57,
          58,
          59,
          60,
          61,
          62,
          63,
          64,
          65,
          66,
          67,
          68,
          69,
          70,
          71,
          74,
          76
         ],
         "xaxis": "x",
         "y": [
          4,
          6,
          8,
          6,
          8,
          10,
          3,
          29,
          22,
          15,
          26,
          19,
          12,
          10,
          12,
          9,
          12,
          29,
          28,
          18,
          32,
          10,
          17,
          21,
          24,
          15,
          10,
          3,
          13,
          9,
          19,
          12,
          14,
          9,
          6,
          6,
          3,
          11,
          3,
          3
         ],
         "yaxis": "y"
        },
        {
         "alignmentgroup": "True",
         "hovertemplate": "Target=No Disease<br>Age=%{x}<br>Count=%{y}<extra></extra>",
         "legendgroup": "No Disease",
         "marker": {
          "color": "#482878",
          "pattern": {
           "shape": ""
          }
         },
         "name": "No Disease",
         "offsetgroup": "No Disease",
         "orientation": "v",
         "showlegend": true,
         "textposition": "auto",
         "type": "bar",
         "x": [
          35,
          38,
          39,
          40,
          41,
          42,
          43,
          44,
          45,
          46,
          47,
          48,
          49,
          50,
          51,
          52,
          53,
          54,
          55,
          56,
          57,
          58,
          59,
          60,
          61,
          62,
          63,
          64,
          65,
          66,
          67,
          68,
          69,
          70,
          77
         ],
         "xaxis": "x",
         "y": [
          7,
          4,
          4,
          8,
          3,
          4,
          11,
          10,
          6,
          11,
          8,
          11,
          8,
          9,
          10,
          15,
          8,
          21,
          20,
          22,
          36,
          44,
          31,
          27,
          28,
          24,
          23,
          15,
          15,
          11,
          22,
          6,
          3,
          11,
          3
         ],
         "yaxis": "y"
        }
       ],
       "layout": {
        "barmode": "stack",
        "legend": {
         "title": {
          "text": "Target"
         },
         "tracegroupgap": 0
        },
        "template": {
         "data": {
          "bar": [
           {
            "error_x": {
             "color": "#2a3f5f"
            },
            "error_y": {
             "color": "#2a3f5f"
            },
            "marker": {
             "line": {
              "color": "#E5ECF6",
              "width": 0.5
             },
             "pattern": {
              "fillmode": "overlay",
              "size": 10,
              "solidity": 0.2
             }
            },
            "type": "bar"
           }
          ],
          "barpolar": [
           {
            "marker": {
             "line": {
              "color": "#E5ECF6",
              "width": 0.5
             },
             "pattern": {
              "fillmode": "overlay",
              "size": 10,
              "solidity": 0.2
             }
            },
            "type": "barpolar"
           }
          ],
          "carpet": [
           {
            "aaxis": {
             "endlinecolor": "#2a3f5f",
             "gridcolor": "white",
             "linecolor": "white",
             "minorgridcolor": "white",
             "startlinecolor": "#2a3f5f"
            },
            "baxis": {
             "endlinecolor": "#2a3f5f",
             "gridcolor": "white",
             "linecolor": "white",
             "minorgridcolor": "white",
             "startlinecolor": "#2a3f5f"
            },
            "type": "carpet"
           }
          ],
          "choropleth": [
           {
            "colorbar": {
             "outlinewidth": 0,
             "ticks": ""
            },
            "type": "choropleth"
           }
          ],
          "contour": [
           {
            "colorbar": {
             "outlinewidth": 0,
             "ticks": ""
            },
            "colorscale": [
             [
              0,
              "#0d0887"
             ],
             [
              0.1111111111111111,
              "#46039f"
             ],
             [
              0.2222222222222222,
              "#7201a8"
             ],
             [
              0.3333333333333333,
              "#9c179e"
             ],
             [
              0.4444444444444444,
              "#bd3786"
             ],
             [
              0.5555555555555556,
              "#d8576b"
             ],
             [
              0.6666666666666666,
              "#ed7953"
             ],
             [
              0.7777777777777778,
              "#fb9f3a"
             ],
             [
              0.8888888888888888,
              "#fdca26"
             ],
             [
              1,
              "#f0f921"
             ]
            ],
            "type": "contour"
           }
          ],
          "contourcarpet": [
           {
            "colorbar": {
             "outlinewidth": 0,
             "ticks": ""
            },
            "type": "contourcarpet"
           }
          ],
          "heatmap": [
           {
            "colorbar": {
             "outlinewidth": 0,
             "ticks": ""
            },
            "colorscale": [
             [
              0,
              "#0d0887"
             ],
             [
              0.1111111111111111,
              "#46039f"
             ],
             [
              0.2222222222222222,
              "#7201a8"
             ],
             [
              0.3333333333333333,
              "#9c179e"
             ],
             [
              0.4444444444444444,
              "#bd3786"
             ],
             [
              0.5555555555555556,
              "#d8576b"
             ],
             [
              0.6666666666666666,
              "#ed7953"
             ],
             [
              0.7777777777777778,
              "#fb9f3a"
             ],
             [
              0.8888888888888888,
              "#fdca26"
             ],
             [
              1,
              "#f0f921"
             ]
            ],
            "type": "heatmap"
           }
          ],
          "heatmapgl": [
           {
            "colorbar": {
             "outlinewidth": 0,
             "ticks": ""
            },
            "colorscale": [
             [
              0,
              "#0d0887"
             ],
             [
              0.1111111111111111,
              "#46039f"
             ],
             [
              0.2222222222222222,
              "#7201a8"
             ],
             [
              0.3333333333333333,
              "#9c179e"
             ],
             [
              0.4444444444444444,
              "#bd3786"
             ],
             [
              0.5555555555555556,
              "#d8576b"
             ],
             [
              0.6666666666666666,
              "#ed7953"
             ],
             [
              0.7777777777777778,
              "#fb9f3a"
             ],
             [
              0.8888888888888888,
              "#fdca26"
             ],
             [
              1,
              "#f0f921"
             ]
            ],
            "type": "heatmapgl"
           }
          ],
          "histogram": [
           {
            "marker": {
             "pattern": {
              "fillmode": "overlay",
              "size": 10,
              "solidity": 0.2
             }
            },
            "type": "histogram"
           }
          ],
          "histogram2d": [
           {
            "colorbar": {
             "outlinewidth": 0,
             "ticks": ""
            },
            "colorscale": [
             [
              0,
              "#0d0887"
             ],
             [
              0.1111111111111111,
              "#46039f"
             ],
             [
              0.2222222222222222,
              "#7201a8"
             ],
             [
              0.3333333333333333,
              "#9c179e"
             ],
             [
              0.4444444444444444,
              "#bd3786"
             ],
             [
              0.5555555555555556,
              "#d8576b"
             ],
             [
              0.6666666666666666,
              "#ed7953"
             ],
             [
              0.7777777777777778,
              "#fb9f3a"
             ],
             [
              0.8888888888888888,
              "#fdca26"
             ],
             [
              1,
              "#f0f921"
             ]
            ],
            "type": "histogram2d"
           }
          ],
          "histogram2dcontour": [
           {
            "colorbar": {
             "outlinewidth": 0,
             "ticks": ""
            },
            "colorscale": [
             [
              0,
              "#0d0887"
             ],
             [
              0.1111111111111111,
              "#46039f"
             ],
             [
              0.2222222222222222,
              "#7201a8"
             ],
             [
              0.3333333333333333,
              "#9c179e"
             ],
             [
              0.4444444444444444,
              "#bd3786"
             ],
             [
              0.5555555555555556,
              "#d8576b"
             ],
             [
              0.6666666666666666,
              "#ed7953"
             ],
             [
              0.7777777777777778,
              "#fb9f3a"
             ],
             [
              0.8888888888888888,
              "#fdca26"
             ],
             [
              1,
              "#f0f921"
             ]
            ],
            "type": "histogram2dcontour"
           }
          ],
          "mesh3d": [
           {
            "colorbar": {
             "outlinewidth": 0,
             "ticks": ""
            },
            "type": "mesh3d"
           }
          ],
          "parcoords": [
           {
            "line": {
             "colorbar": {
              "outlinewidth": 0,
              "ticks": ""
             }
            },
            "type": "parcoords"
           }
          ],
          "pie": [
           {
            "automargin": true,
            "type": "pie"
           }
          ],
          "scatter": [
           {
            "fillpattern": {
             "fillmode": "overlay",
             "size": 10,
             "solidity": 0.2
            },
            "type": "scatter"
           }
          ],
          "scatter3d": [
           {
            "line": {
             "colorbar": {
              "outlinewidth": 0,
              "ticks": ""
             }
            },
            "marker": {
             "colorbar": {
              "outlinewidth": 0,
              "ticks": ""
             }
            },
            "type": "scatter3d"
           }
          ],
          "scattercarpet": [
           {
            "marker": {
             "colorbar": {
              "outlinewidth": 0,
              "ticks": ""
             }
            },
            "type": "scattercarpet"
           }
          ],
          "scattergeo": [
           {
            "marker": {
             "colorbar": {
              "outlinewidth": 0,
              "ticks": ""
             }
            },
            "type": "scattergeo"
           }
          ],
          "scattergl": [
           {
            "marker": {
             "colorbar": {
              "outlinewidth": 0,
              "ticks": ""
             }
            },
            "type": "scattergl"
           }
          ],
          "scattermapbox": [
           {
            "marker": {
             "colorbar": {
              "outlinewidth": 0,
              "ticks": ""
             }
            },
            "type": "scattermapbox"
           }
          ],
          "scatterpolar": [
           {
            "marker": {
             "colorbar": {
              "outlinewidth": 0,
              "ticks": ""
             }
            },
            "type": "scatterpolar"
           }
          ],
          "scatterpolargl": [
           {
            "marker": {
             "colorbar": {
              "outlinewidth": 0,
              "ticks": ""
             }
            },
            "type": "scatterpolargl"
           }
          ],
          "scatterternary": [
           {
            "marker": {
             "colorbar": {
              "outlinewidth": 0,
              "ticks": ""
             }
            },
            "type": "scatterternary"
           }
          ],
          "surface": [
           {
            "colorbar": {
             "outlinewidth": 0,
             "ticks": ""
            },
            "colorscale": [
             [
              0,
              "#0d0887"
             ],
             [
              0.1111111111111111,
              "#46039f"
             ],
             [
              0.2222222222222222,
              "#7201a8"
             ],
             [
              0.3333333333333333,
              "#9c179e"
             ],
             [
              0.4444444444444444,
              "#bd3786"
             ],
             [
              0.5555555555555556,
              "#d8576b"
             ],
             [
              0.6666666666666666,
              "#ed7953"
             ],
             [
              0.7777777777777778,
              "#fb9f3a"
             ],
             [
              0.8888888888888888,
              "#fdca26"
             ],
             [
              1,
              "#f0f921"
             ]
            ],
            "type": "surface"
           }
          ],
          "table": [
           {
            "cells": {
             "fill": {
              "color": "#EBF0F8"
             },
             "line": {
              "color": "white"
             }
            },
            "header": {
             "fill": {
              "color": "#C8D4E3"
             },
             "line": {
              "color": "white"
             }
            },
            "type": "table"
           }
          ]
         },
         "layout": {
          "annotationdefaults": {
           "arrowcolor": "#2a3f5f",
           "arrowhead": 0,
           "arrowwidth": 1
          },
          "autotypenumbers": "strict",
          "coloraxis": {
           "colorbar": {
            "outlinewidth": 0,
            "ticks": ""
           }
          },
          "colorscale": {
           "diverging": [
            [
             0,
             "#8e0152"
            ],
            [
             0.1,
             "#c51b7d"
            ],
            [
             0.2,
             "#de77ae"
            ],
            [
             0.3,
             "#f1b6da"
            ],
            [
             0.4,
             "#fde0ef"
            ],
            [
             0.5,
             "#f7f7f7"
            ],
            [
             0.6,
             "#e6f5d0"
            ],
            [
             0.7,
             "#b8e186"
            ],
            [
             0.8,
             "#7fbc41"
            ],
            [
             0.9,
             "#4d9221"
            ],
            [
             1,
             "#276419"
            ]
           ],
           "sequential": [
            [
             0,
             "#0d0887"
            ],
            [
             0.1111111111111111,
             "#46039f"
            ],
            [
             0.2222222222222222,
             "#7201a8"
            ],
            [
             0.3333333333333333,
             "#9c179e"
            ],
            [
             0.4444444444444444,
             "#bd3786"
            ],
            [
             0.5555555555555556,
             "#d8576b"
            ],
            [
             0.6666666666666666,
             "#ed7953"
            ],
            [
             0.7777777777777778,
             "#fb9f3a"
            ],
            [
             0.8888888888888888,
             "#fdca26"
            ],
            [
             1,
             "#f0f921"
            ]
           ],
           "sequentialminus": [
            [
             0,
             "#0d0887"
            ],
            [
             0.1111111111111111,
             "#46039f"
            ],
            [
             0.2222222222222222,
             "#7201a8"
            ],
            [
             0.3333333333333333,
             "#9c179e"
            ],
            [
             0.4444444444444444,
             "#bd3786"
            ],
            [
             0.5555555555555556,
             "#d8576b"
            ],
            [
             0.6666666666666666,
             "#ed7953"
            ],
            [
             0.7777777777777778,
             "#fb9f3a"
            ],
            [
             0.8888888888888888,
             "#fdca26"
            ],
            [
             1,
             "#f0f921"
            ]
           ]
          },
          "colorway": [
           "#636efa",
           "#EF553B",
           "#00cc96",
           "#ab63fa",
           "#FFA15A",
           "#19d3f3",
           "#FF6692",
           "#B6E880",
           "#FF97FF",
           "#FECB52"
          ],
          "font": {
           "color": "#2a3f5f"
          },
          "geo": {
           "bgcolor": "white",
           "lakecolor": "white",
           "landcolor": "#E5ECF6",
           "showlakes": true,
           "showland": true,
           "subunitcolor": "white"
          },
          "hoverlabel": {
           "align": "left"
          },
          "hovermode": "closest",
          "mapbox": {
           "style": "light"
          },
          "paper_bgcolor": "white",
          "plot_bgcolor": "#E5ECF6",
          "polar": {
           "angularaxis": {
            "gridcolor": "white",
            "linecolor": "white",
            "ticks": ""
           },
           "bgcolor": "#E5ECF6",
           "radialaxis": {
            "gridcolor": "white",
            "linecolor": "white",
            "ticks": ""
           }
          },
          "scene": {
           "xaxis": {
            "backgroundcolor": "#E5ECF6",
            "gridcolor": "white",
            "gridwidth": 2,
            "linecolor": "white",
            "showbackground": true,
            "ticks": "",
            "zerolinecolor": "white"
           },
           "yaxis": {
            "backgroundcolor": "#E5ECF6",
            "gridcolor": "white",
            "gridwidth": 2,
            "linecolor": "white",
            "showbackground": true,
            "ticks": "",
            "zerolinecolor": "white"
           },
           "zaxis": {
            "backgroundcolor": "#E5ECF6",
            "gridcolor": "white",
            "gridwidth": 2,
            "linecolor": "white",
            "showbackground": true,
            "ticks": "",
            "zerolinecolor": "white"
           }
          },
          "shapedefaults": {
           "line": {
            "color": "#2a3f5f"
           }
          },
          "ternary": {
           "aaxis": {
            "gridcolor": "white",
            "linecolor": "white",
            "ticks": ""
           },
           "baxis": {
            "gridcolor": "white",
            "linecolor": "white",
            "ticks": ""
           },
           "bgcolor": "#E5ECF6",
           "caxis": {
            "gridcolor": "white",
            "linecolor": "white",
            "ticks": ""
           }
          },
          "title": {
           "x": 0.05
          },
          "xaxis": {
           "automargin": true,
           "gridcolor": "white",
           "linecolor": "white",
           "ticks": "",
           "title": {
            "standoff": 15
           },
           "zerolinecolor": "white",
           "zerolinewidth": 2
          },
          "yaxis": {
           "automargin": true,
           "gridcolor": "white",
           "linecolor": "white",
           "ticks": "",
           "title": {
            "standoff": 15
           },
           "zerolinecolor": "white",
           "zerolinewidth": 2
          }
         }
        },
        "title": {
         "text": "Heart Disease by Age",
         "x": 0.5
        },
        "xaxis": {
         "anchor": "y",
         "domain": [
          0,
          1
         ],
         "title": {
          "text": "Age"
         }
        },
        "yaxis": {
         "anchor": "x",
         "domain": [
          0,
          1
         ],
         "title": {
          "text": "Count"
         }
        }
       }
      }
     },
     "metadata": {},
     "output_type": "display_data"
    }
   ],
   "source": [
    "# Calculate heart disease by age\n",
    "heart_disease_by_age = df.groupby(['Age', 'Target']).size().reset_index(name='Count')\n",
    "\n",
    "# Create a stacked bar plot using Plotly Express\n",
    "fig = px.bar(heart_disease_by_age, x='Age', y='Count', color='Target',\n",
    "             title='Heart Disease by Age', \n",
    "             color_discrete_sequence=px.colors.sequential.Viridis)\n",
    "\n",
    "# Update layout for better readability\n",
    "fig.update_layout(\n",
    "    xaxis_title='Age',\n",
    "    yaxis_title='Count',\n",
    "    title_x=0.5,\n",
    "    barmode='stack')\n",
    "\n",
    "fig.show()"
   ]
  },
  {
   "cell_type": "code",
   "execution_count": 71,
   "metadata": {},
   "outputs": [
    {
     "data": {
      "image/png": "[encoded data removed]",
      "text/plain": [
       "<Figure size 1200x800 with 2 Axes>"
      ]
     },
     "metadata": {},
     "output_type": "display_data"
    }
   ],
   "source": [
    "# plot of correlation matrix\n",
    "plt.figure(figsize=(12, 8))\n",
    "sns.heatmap(corr, annot=True, cmap='coolwarm', linewidths=0.2, center=0)\n",
    "plt.title('Correlation Matrix Heatmap')\n",
    "plt.show()"
   ]
  },
  {
   "cell_type": "code",
   "execution_count": 89,
   "metadata": {},
   "outputs": [
    {
     "data": {
      "application/vnd.plotly.v1+json": {
       "config": {
        "plotlyServerURL": "https://plot.ly"
       },
       "data": [
        {
         "hovertemplate": "Target=No Disease<br>Age=%{x}<br>Mx Heart Rate=%{y}<extra></extra>",
         "legendgroup": "No Disease",
         "marker": {
          "color": "#636efa",
          "symbol": "circle"
         },
         "mode": "markers",
         "name": "No Disease",
         "showlegend": true,
         "type": "scattergl",
         "x": [
          52,
          53,
          70,
          61,
          62,
          58,
          55,
          46,
          54,
          43,
          51,
          52,
          54,
          60,
          61,
          58,
          56,
          55,
          44,
          57,
          70,
          46,
          57,
          61,
          46,
          66,
          60,
          57,
          49,
          55,
          55,
          67,
          57,
          67,
          59,
          42,
          62,
          59,
          61,
          56,
          59,
          48,
          63,
          50,
          49,
          46,
          59,
          62,
          68,
          63,
          44,
          53,
          65,
          47,
          51,
          62,
          40,
          54,
          44,
          48,
          57,
          59,
          61,
          63,
          43,
          44,
          60,
          61,
          58,
          57,
          63,
          61,
          40,
          41,
          58,
          54,
          58,
          63,
          77,
          77,
          48,
          56,
          59,
          56,
          56,
          54,
          56,
          56,
          64,
          44,
          56,
          63,
          60,
          57,
          40,
          56,
          63,
          64,
          67,
          58,
          50,
          59,
          62,
          67,
          50,
          65,
          46,
          54,
          57,
          63,
          49,
          66,
          58,
          60,
          49,
          57,
          60,
          62,
          67,
          60,
          54,
          46,
          47,
          55,
          57,
          35,
          38,
          58,
          53,
          67,
          58,
          54,
          56,
          55,
          58,
          40,
          58,
          56,
          67,
          67,
          58,
          60,
          62,
          59,
          61,
          48,
          70,
          59,
          45,
          66,
          54,
          57,
          70,
          63,
          60,
          58,
          56,
          60,
          66,
          50,
          43,
          62,
          50,
          57,
          57,
          59,
          67,
          59,
          57,
          58,
          48,
          43,
          55,
          58,
          67,
          58,
          58,
          59,
          58,
          35,
          77,
          64,
          58,
          45,
          62,
          63,
          68,
          40,
          49,
          61,
          56,
          58,
          46,
          56,
          57,
          70,
          59,
          58,
          45,
          51,
          43,
          47,
          67,
          65,
          59,
          67,
          58,
          62,
          60,
          57,
          55,
          52,
          63,
          66,
          65,
          47,
          69,
          47,
          67,
          48,
          57,
          57,
          58,
          51,
          63,
          51,
          65,
          62,
          41,
          65,
          64,
          55,
          68,
          57,
          47,
          61,
          56,
          55,
          43,
          44,
          54,
          49,
          60,
          49,
          61,
          59,
          61,
          58,
          62,
          60,
          63,
          46,
          58,
          59,
          48,
          70,
          69,
          54,
          43,
          58,
          67,
          59,
          67,
          44,
          56,
          60,
          44,
          60,
          70,
          58,
          43,
          55,
          64,
          59,
          61,
          54,
          63,
          70,
          63,
          64,
          61,
          58,
          62,
          46,
          66,
          42,
          64,
          55,
          43,
          55,
          58,
          55,
          51,
          65,
          57,
          48,
          62,
          61,
          69,
          58,
          38,
          65,
          45,
          61,
          52,
          59,
          65,
          56,
          50,
          47,
          62,
          56,
          57,
          64,
          61,
          58,
          57,
          66,
          61,
          52,
          63,
          58,
          60,
          63,
          68,
          59,
          59,
          43,
          60,
          63,
          52,
          58,
          56,
          53,
          39,
          35,
          67,
          66,
          35,
          35,
          58,
          57,
          45,
          35,
          55,
          56,
          64,
          60,
          48,
          46,
          52,
          52,
          59,
          67,
          58,
          52,
          63,
          64,
          60,
          64,
          61,
          57,
          63,
          57,
          57,
          68,
          62,
          65,
          61,
          53,
          59,
          44,
          58,
          55,
          67,
          51,
          62,
          62,
          54,
          54,
          68,
          61,
          65,
          59,
          67,
          63,
          52,
          57,
          40,
          57,
          62,
          53,
          58,
          61,
          62,
          60,
          61,
          57,
          54,
          55,
          42,
          49,
          70,
          58,
          59,
          60,
          56,
          61,
          52,
          58,
          52,
          67,
          65,
          51,
          52,
          64,
          59,
          52,
          59,
          59,
          60,
          61,
          54,
          57,
          57,
          48,
          70,
          57,
          61,
          60,
          63,
          55,
          54,
          52,
          51,
          62,
          61,
          62,
          59,
          64,
          62,
          50,
          50,
          58,
          35,
          66,
          46,
          65,
          59,
          38,
          39,
          58,
          61,
          57,
          54,
          54,
          60,
          65,
          40,
          38,
          64,
          57,
          66,
          70,
          67,
          62,
          50,
          57,
          58,
          53,
          39,
          63,
          44,
          45,
          39,
          55,
          57,
          60,
          60,
          43,
          59,
          56,
          54,
          42,
          67,
          64,
          66,
          55,
          40,
          51,
          48,
          58,
          58,
          65,
          53,
          41,
          60,
          47,
          54
         ],
         "xaxis": "x",
         "y": [
          168,
          155,
          125,
          161,
          106,
          140,
          145,
          144,
          116,
          136,
          122,
          156,
          109,
          155,
          146,
          152,
          142,
          117,
          144,
          115,
          112,
          147,
          150,
          169,
          144,
          165,
          160,
          123,
          139,
          111,
          111,
          150,
          164,
          125,
          159,
          125,
          145,
          140,
          138,
          144,
          162,
          150,
          144,
          163,
          126,
          147,
          143,
          160,
          141,
          144,
          144,
          95,
          158,
          118,
          173,
          103,
          181,
          108,
          177,
          150,
          143,
          134,
          146,
          147,
          120,
          144,
          142,
          140,
          146,
          88,
          136,
          145,
          114,
          158,
          140,
          195,
          171,
          132,
          162,
          162,
          166,
          144,
          140,
          105,
          103,
          126,
          133,
          103,
          96,
          177,
          150,
          144,
          170,
          124,
          114,
          144,
          147,
          131,
          108,
          156,
          126,
          134,
          103,
          125,
          128,
          127,
          120,
          116,
          174,
          147,
          126,
          165,
          171,
          141,
          126,
          141,
          160,
          154,
          150,
          155,
          195,
          120,
          118,
          132,
          124,
          130,
          182,
          146,
          95,
          71,
          173,
          108,
          103,
          145,
          173,
          181,
          130,
          133,
          125,
          71,
          111,
          142,
          99,
          134,
          140,
          150,
          112,
          162,
          147,
          120,
          195,
          112,
          109,
          169,
          132,
          111,
          142,
          144,
          120,
          128,
          143,
          97,
          126,
          143,
          141,
          90,
          108,
          162,
          174,
          165,
          168,
          136,
          132,
          160,
          71,
          105,
          173,
          142,
          111,
          156,
          162,
          96,
          152,
          132,
          145,
          132,
          150,
          114,
          139,
          138,
          142,
          156,
          147,
          144,
          112,
          109,
          159,
          152,
          147,
          142,
          143,
          152,
          150,
          114,
          143,
          129,
          160,
          154,
          170,
          88,
          145,
          160,
          154,
          165,
          114,
          152,
          146,
          118,
          108,
          168,
          124,
          150,
          131,
          142,
          154,
          122,
          158,
          103,
          158,
          127,
          131,
          132,
          150,
          164,
          152,
          140,
          133,
          117,
          120,
          153,
          108,
          139,
          132,
          139,
          161,
          162,
          161,
          165,
          145,
          157,
          136,
          144,
          130,
          162,
          168,
          109,
          146,
          116,
          136,
          156,
          163,
          162,
          71,
          153,
          105,
          142,
          153,
          141,
          109,
          105,
          120,
          132,
          131,
          90,
          146,
          116,
          169,
          112,
          169,
          132,
          161,
          160,
          97,
          120,
          132,
          125,
          132,
          117,
          136,
          130,
          146,
          111,
          142,
          158,
          88,
          150,
          106,
          145,
          146,
          173,
          182,
          174,
          132,
          125,
          168,
          143,
          174,
          150,
          128,
          152,
          99,
          103,
          174,
          131,
          125,
          140,
          141,
          120,
          169,
          168,
          132,
          156,
          144,
          147,
          150,
          140,
          90,
          120,
          155,
          154,
          156,
          171,
          133,
          155,
          140,
          156,
          150,
          132,
          156,
          130,
          131,
          150,
          132,
          130,
          130,
          142,
          158,
          157,
          166,
          120,
          160,
          156,
          142,
          129,
          171,
          161,
          132,
          158,
          160,
          96,
          169,
          112,
          144,
          143,
          143,
          141,
          154,
          114,
          146,
          95,
          162,
          144,
          105,
          145,
          163,
          122,
          106,
          103,
          126,
          126,
          141,
          145,
          114,
          159,
          129,
          136,
          160,
          112,
          114,
          141,
          160,
          155,
          146,
          138,
          160,
          144,
          125,
          150,
          109,
          111,
          125,
          126,
          125,
          165,
          125,
          170,
          105,
          125,
          161,
          160,
          161,
          129,
          174,
          173,
          160,
          158,
          159,
          168,
          125,
          125,
          132,
          138,
          113,
          164,
          115,
          166,
          125,
          124,
          140,
          157,
          154,
          130,
          126,
          156,
          173,
          97,
          145,
          160,
          134,
          96,
          99,
          126,
          163,
          152,
          130,
          132,
          144,
          127,
          162,
          182,
          140,
          105,
          169,
          115,
          108,
          109,
          132,
          127,
          181,
          182,
          158,
          123,
          165,
          125,
          108,
          97,
          163,
          123,
          130,
          155,
          140,
          169,
          177,
          147,
          140,
          117,
          164,
          170,
          160,
          143,
          142,
          150,
          113,
          125,
          163,
          132,
          132,
          130,
          181,
          173,
          168,
          140,
          131,
          174,
          95,
          158,
          141,
          118,
          113
         ],
         "yaxis": "y"
        },
        {
         "hovertemplate": "Target=Disease<br>Age=%{x}<br>Mx Heart Rate=%{y}<extra></extra>",
         "legendgroup": "Disease",
         "marker": {
          "color": "#EF553B",
          "symbol": "circle"
         },
         "mode": "markers",
         "name": "Disease",
         "showlegend": true,
         "type": "scattergl",
         "x": [
          58,
          71,
          34,
          34,
          51,
          50,
          58,
          67,
          45,
          63,
          42,
          44,
          50,
          50,
          51,
          59,
          64,
          65,
          54,
          55,
          42,
          41,
          66,
          58,
          38,
          56,
          48,
          29,
          66,
          59,
          29,
          53,
          37,
          47,
          48,
          52,
          52,
          38,
          37,
          44,
          58,
          54,
          62,
          62,
          45,
          57,
          76,
          43,
          57,
          54,
          47,
          52,
          53,
          29,
          42,
          54,
          65,
          60,
          66,
          53,
          52,
          57,
          60,
          51,
          41,
          50,
          54,
          55,
          64,
          47,
          41,
          34,
          47,
          51,
          52,
          39,
          54,
          54,
          40,
          54,
          67,
          41,
          51,
          57,
          43,
          45,
          43,
          56,
          39,
          64,
          42,
          45,
          41,
          56,
          67,
          69,
          59,
          45,
          60,
          62,
          34,
          52,
          64,
          66,
          42,
          41,
          38,
          42,
          43,
          45,
          49,
          41,
          64,
          39,
          51,
          54,
          44,
          52,
          56,
          41,
          49,
          64,
          54,
          38,
          51,
          44,
          39,
          42,
          45,
          62,
          35,
          64,
          66,
          44,
          54,
          48,
          55,
          45,
          71,
          43,
          44,
          39,
          66,
          57,
          44,
          41,
          45,
          35,
          41,
          64,
          71,
          64,
          71,
          58,
          52,
          61,
          59,
          35,
          52,
          46,
          51,
          55,
          52,
          44,
          44,
          56,
          74,
          40,
          42,
          64,
          63,
          53,
          53,
          48,
          48,
          56,
          53,
          37,
          37,
          54,
          57,
          54,
          38,
          44,
          65,
          52,
          41,
          54,
          66,
          57,
          46,
          53,
          48,
          62,
          43,
          53,
          53,
          58,
          51,
          54,
          46,
          66,
          59,
          64,
          52,
          51,
          42,
          63,
          51,
          66,
          66,
          63,
          71,
          70,
          46,
          58,
          46,
          41,
          41,
          54,
          52,
          62,
          65,
          57,
          42,
          57,
          54,
          57,
          60,
          37,
          41,
          57,
          47,
          57,
          47,
          52,
          53,
          51,
          49,
          49,
          69,
          39,
          43,
          51,
          48,
          52,
          43,
          67,
          38,
          44,
          61,
          60,
          64,
          58,
          41,
          57,
          39,
          35,
          54,
          61,
          57,
          57,
          51,
          59,
          54,
          46,
          71,
          35,
          46,
          45,
          44,
          41,
          54,
          44,
          41,
          58,
          67,
          51,
          62,
          59,
          69,
          65,
          53,
          54,
          76,
          50,
          52,
          64,
          44,
          62,
          54,
          67,
          51,
          68,
          53,
          48,
          39,
          58,
          65,
          42,
          53,
          50,
          41,
          54,
          42,
          54,
          34,
          43,
          52,
          62,
          46,
          44,
          55,
          40,
          74,
          59,
          38,
          63,
          58,
          63,
          47,
          71,
          50,
          43,
          41,
          49,
          59,
          69,
          49,
          45,
          53,
          58,
          58,
          46,
          64,
          65,
          44,
          64,
          71,
          45,
          41,
          66,
          41,
          41,
          39,
          59,
          47,
          58,
          66,
          65,
          35,
          29,
          68,
          54,
          41,
          42,
          54,
          58,
          55,
          63,
          50,
          41,
          71,
          57,
          51,
          56,
          60,
          56,
          45,
          66,
          51,
          70,
          55,
          52,
          45,
          67,
          68,
          74,
          56,
          55,
          44,
          51,
          44,
          50,
          44,
          41,
          58,
          60,
          51,
          44,
          58,
          55,
          65,
          48,
          65,
          51,
          48,
          66,
          46,
          49,
          56,
          58,
          46,
          71,
          41,
          45,
          48,
          51,
          34,
          64,
          56,
          54,
          60,
          62,
          41,
          43,
          63,
          58,
          53,
          44,
          51,
          54,
          62,
          58,
          70,
          45,
          42,
          54,
          63,
          42,
          44,
          51,
          58,
          68,
          53,
          52,
          51,
          51,
          35,
          35,
          58,
          37,
          46,
          68,
          43,
          68,
          60,
          41,
          41,
          56,
          56,
          48,
          39,
          64,
          57,
          43,
          59,
          57,
          57,
          64,
          59,
          52,
          42,
          59,
          42,
          55,
          42,
          50,
          45,
          47,
          44,
          54,
          42,
          51,
          42,
          56,
          43,
          53,
          49,
          52,
          69,
          65,
          56,
          67,
          54,
          57,
          54,
          45,
          53,
          62,
          49,
          65,
          69,
          52,
          58,
          52,
          44,
          76,
          60,
          52,
          38,
          52,
          52,
          51,
          43,
          52,
          57,
          67,
          64,
          59,
          62,
          71,
          56,
          50,
          44,
          42,
          52,
          51,
          58,
          56,
          42,
          45,
          44,
          47,
          59,
          50
         ],
         "xaxis": "x",
         "y": [
          122,
          125,
          192,
          192,
          142,
          162,
          165,
          142,
          148,
          172,
          173,
          179,
          162,
          163,
          125,
          182,
          105,
          151,
          147,
          166,
          178,
          132,
          152,
          162,
          173,
          162,
          180,
          202,
          152,
          157,
          202,
          152,
          170,
          156,
          175,
          158,
          158,
          173,
          170,
          170,
          165,
          167,
          163,
          140,
          152,
          159,
          116,
          165,
          173,
          156,
          156,
          190,
          111,
          202,
          162,
          156,
          157,
          171,
          151,
          152,
          169,
          148,
          171,
          149,
          132,
          163,
          156,
          166,
          154,
          156,
          153,
          174,
          143,
          157,
          178,
          182,
          147,
          156,
          178,
          147,
          160,
          182,
          143,
          163,
          162,
          138,
          171,
          169,
          179,
          144,
          150,
          170,
          179,
          163,
          160,
          131,
          157,
          185,
          160,
          163,
          174,
          178,
          155,
          152,
          178,
          179,
          173,
          194,
          162,
          170,
          171,
          182,
          144,
          179,
          186,
          165,
          149,
          184,
          178,
          163,
          163,
          155,
          159,
          173,
          166,
          188,
          152,
          150,
          138,
          157,
          182,
          154,
          151,
          169,
          165,
          186,
          166,
          148,
          130,
          161,
          173,
          152,
          138,
          168,
          188,
          168,
          175,
          174,
          172,
          144,
          130,
          133,
          162,
          172,
          169,
          137,
          157,
          174,
          172,
          172,
          154,
          166,
          169,
          149,
          170,
          153,
          121,
          178,
          178,
          133,
          172,
          115,
          143,
          139,
          180,
          153,
          115,
          170,
          187,
          158,
          173,
          152,
          173,
          169,
          148,
          162,
          182,
          167,
          151,
          126,
          152,
          115,
          186,
          146,
          165,
          173,
          173,
          154,
          123,
          158,
          160,
          138,
          164,
          122,
          190,
          123,
          173,
          150,
          123,
          152,
          138,
          150,
          125,
          143,
          172,
          165,
          152,
          168,
          172,
          152,
          169,
          163,
          151,
          159,
          122,
          163,
          163,
          174,
          160,
          187,
          172,
          163,
          179,
          174,
          179,
          184,
          173,
          157,
          162,
          162,
          131,
          152,
          171,
          186,
          175,
          190,
          161,
          160,
          173,
          188,
          137,
          171,
          133,
          131,
          168,
          173,
          182,
          174,
          159,
          137,
          159,
          174,
          166,
          161,
          160,
          160,
          125,
          182,
          160,
          175,
          149,
          172,
          159,
          170,
          168,
          144,
          172,
          149,
          163,
          145,
          131,
          148,
          160,
          167,
          116,
          158,
          172,
          155,
          180,
          157,
          152,
          142,
          157,
          151,
          152,
          186,
          179,
          131,
          148,
          173,
          160,
          159,
          168,
          163,
          194,
          170,
          174,
          171,
          178,
          157,
          156,
          180,
          155,
          178,
          121,
          164,
          173,
          179,
          172,
          179,
          179,
          130,
          158,
          181,
          163,
          171,
          145,
          151,
          171,
          175,
          143,
          172,
          131,
          152,
          105,
          140,
          169,
          122,
          125,
          175,
          182,
          114,
          163,
          153,
          152,
          182,
          143,
          122,
          114,
          157,
          174,
          202,
          151,
          147,
          172,
          162,
          170,
          154,
          161,
          179,
          158,
          168,
          162,
          126,
          154,
          153,
          96,
          163,
          138,
          114,
          125,
          143,
          161,
          147,
          185,
          172,
          115,
          121,
          163,
          161,
          170,
          154,
          175,
          163,
          180,
          172,
          144,
          160,
          143,
          169,
          144,
          155,
          151,
          180,
          140,
          149,
          175,
          138,
          172,
          163,
          163,
          162,
          156,
          130,
          132,
          152,
          139,
          143,
          192,
          122,
          169,
          165,
          96,
          140,
          132,
          181,
          150,
          131,
          111,
          179,
          154,
          158,
          140,
          154,
          143,
          185,
          178,
          160,
          172,
          150,
          179,
          143,
          144,
          151,
          160,
          162,
          125,
          186,
          182,
          182,
          162,
          187,
          156,
          115,
          181,
          115,
          171,
          179,
          153,
          169,
          178,
          139,
          182,
          155,
          148,
          165,
          182,
          168,
          126,
          154,
          145,
          158,
          122,
          161,
          122,
          155,
          178,
          162,
          148,
          179,
          173,
          160,
          194,
          142,
          150,
          169,
          162,
          111,
          162,
          169,
          151,
          140,
          162,
          172,
          163,
          168,
          170,
          152,
          143,
          146,
          163,
          157,
          151,
          169,
          122,
          147,
          175,
          116,
          96,
          172,
          173,
          162,
          190,
          166,
          161,
          184,
          148,
          142,
          105,
          161,
          146,
          162,
          178,
          159,
          173,
          178,
          147,
          142,
          165,
          162,
          162,
          170,
          175,
          143,
          164,
          159
         ],
         "yaxis": "y"
        }
       ],
       "layout": {
        "legend": {
         "title": {
          "text": "Target"
         },
         "tracegroupgap": 0
        },
        "template": {
         "data": {
          "bar": [
           {
            "error_x": {
             "color": "#2a3f5f"
            },
            "error_y": {
             "color": "#2a3f5f"
            },
            "marker": {
             "line": {
              "color": "#E5ECF6",
              "width": 0.5
             },
             "pattern": {
              "fillmode": "overlay",
              "size": 10,
              "solidity": 0.2
             }
            },
            "type": "bar"
           }
          ],
          "barpolar": [
           {
            "marker": {
             "line": {
              "color": "#E5ECF6",
              "width": 0.5
             },
             "pattern": {
              "fillmode": "overlay",
              "size": 10,
              "solidity": 0.2
             }
            },
            "type": "barpolar"
           }
          ],
          "carpet": [
           {
            "aaxis": {
             "endlinecolor": "#2a3f5f",
             "gridcolor": "white",
             "linecolor": "white",
             "minorgridcolor": "white",
             "startlinecolor": "#2a3f5f"
            },
            "baxis": {
             "endlinecolor": "#2a3f5f",
             "gridcolor": "white",
             "linecolor": "white",
             "minorgridcolor": "white",
             "startlinecolor": "#2a3f5f"
            },
            "type": "carpet"
           }
          ],
          "choropleth": [
           {
            "colorbar": {
             "outlinewidth": 0,
             "ticks": ""
            },
            "type": "choropleth"
           }
          ],
          "contour": [
           {
            "colorbar": {
             "outlinewidth": 0,
             "ticks": ""
            },
            "colorscale": [
             [
              0,
              "#0d0887"
             ],
             [
              0.1111111111111111,
              "#46039f"
             ],
             [
              0.2222222222222222,
              "#7201a8"
             ],
             [
              0.3333333333333333,
              "#9c179e"
             ],
             [
              0.4444444444444444,
              "#bd3786"
             ],
             [
              0.5555555555555556,
              "#d8576b"
             ],
             [
              0.6666666666666666,
              "#ed7953"
             ],
             [
              0.7777777777777778,
              "#fb9f3a"
             ],
             [
              0.8888888888888888,
              "#fdca26"
             ],
             [
              1,
              "#f0f921"
             ]
            ],
            "type": "contour"
           }
          ],
          "contourcarpet": [
           {
            "colorbar": {
             "outlinewidth": 0,
             "ticks": ""
            },
            "type": "contourcarpet"
           }
          ],
          "heatmap": [
           {
            "colorbar": {
             "outlinewidth": 0,
             "ticks": ""
            },
            "colorscale": [
             [
              0,
              "#0d0887"
             ],
             [
              0.1111111111111111,
              "#46039f"
             ],
             [
              0.2222222222222222,
              "#7201a8"
             ],
             [
              0.3333333333333333,
              "#9c179e"
             ],
             [
              0.4444444444444444,
              "#bd3786"
             ],
             [
              0.5555555555555556,
              "#d8576b"
             ],
             [
              0.6666666666666666,
              "#ed7953"
             ],
             [
              0.7777777777777778,
              "#fb9f3a"
             ],
             [
              0.8888888888888888,
              "#fdca26"
             ],
             [
              1,
              "#f0f921"
             ]
            ],
            "type": "heatmap"
           }
          ],
          "heatmapgl": [
           {
            "colorbar": {
             "outlinewidth": 0,
             "ticks": ""
            },
            "colorscale": [
             [
              0,
              "#0d0887"
             ],
             [
              0.1111111111111111,
              "#46039f"
             ],
             [
              0.2222222222222222,
              "#7201a8"
             ],
             [
              0.3333333333333333,
              "#9c179e"
             ],
             [
              0.4444444444444444,
              "#bd3786"
             ],
             [
              0.5555555555555556,
              "#d8576b"
             ],
             [
              0.6666666666666666,
              "#ed7953"
             ],
             [
              0.7777777777777778,
              "#fb9f3a"
             ],
             [
              0.8888888888888888,
              "#fdca26"
             ],
             [
              1,
              "#f0f921"
             ]
            ],
            "type": "heatmapgl"
           }
          ],
          "histogram": [
           {
            "marker": {
             "pattern": {
              "fillmode": "overlay",
              "size": 10,
              "solidity": 0.2
             }
            },
            "type": "histogram"
           }
          ],
          "histogram2d": [
           {
            "colorbar": {
             "outlinewidth": 0,
             "ticks": ""
            },
            "colorscale": [
             [
              0,
              "#0d0887"
             ],
             [
              0.1111111111111111,
              "#46039f"
             ],
             [
              0.2222222222222222,
              "#7201a8"
             ],
             [
              0.3333333333333333,
              "#9c179e"
             ],
             [
              0.4444444444444444,
              "#bd3786"
             ],
             [
              0.5555555555555556,
              "#d8576b"
             ],
             [
              0.6666666666666666,
              "#ed7953"
             ],
             [
              0.7777777777777778,
              "#fb9f3a"
             ],
             [
              0.8888888888888888,
              "#fdca26"
             ],
             [
              1,
              "#f0f921"
             ]
            ],
            "type": "histogram2d"
           }
          ],
          "histogram2dcontour": [
           {
            "colorbar": {
             "outlinewidth": 0,
             "ticks": ""
            },
            "colorscale": [
             [
              0,
              "#0d0887"
             ],
             [
              0.1111111111111111,
              "#46039f"
             ],
             [
              0.2222222222222222,
              "#7201a8"
             ],
             [
              0.3333333333333333,
              "#9c179e"
             ],
             [
              0.4444444444444444,
              "#bd3786"
             ],
             [
              0.5555555555555556,
              "#d8576b"
             ],
             [
              0.6666666666666666,
              "#ed7953"
             ],
             [
              0.7777777777777778,
              "#fb9f3a"
             ],
             [
              0.8888888888888888,
              "#fdca26"
             ],
             [
              1,
              "#f0f921"
             ]
            ],
            "type": "histogram2dcontour"
           }
          ],
          "mesh3d": [
           {
            "colorbar": {
             "outlinewidth": 0,
             "ticks": ""
            },
            "type": "mesh3d"
           }
          ],
          "parcoords": [
           {
            "line": {
             "colorbar": {
              "outlinewidth": 0,
              "ticks": ""
             }
            },
            "type": "parcoords"
           }
          ],
          "pie": [
           {
            "automargin": true,
            "type": "pie"
           }
          ],
          "scatter": [
           {
            "fillpattern": {
             "fillmode": "overlay",
             "size": 10,
             "solidity": 0.2
            },
            "type": "scatter"
           }
          ],
          "scatter3d": [
           {
            "line": {
             "colorbar": {
              "outlinewidth": 0,
              "ticks": ""
             }
            },
            "marker": {
             "colorbar": {
              "outlinewidth": 0,
              "ticks": ""
             }
            },
            "type": "scatter3d"
           }
          ],
          "scattercarpet": [
           {
            "marker": {
             "colorbar": {
              "outlinewidth": 0,
              "ticks": ""
             }
            },
            "type": "scattercarpet"
           }
          ],
          "scattergeo": [
           {
            "marker": {
             "colorbar": {
              "outlinewidth": 0,
              "ticks": ""
             }
            },
            "type": "scattergeo"
           }
          ],
          "scattergl": [
           {
            "marker": {
             "colorbar": {
              "outlinewidth": 0,
              "ticks": ""
             }
            },
            "type": "scattergl"
           }
          ],
          "scattermapbox": [
           {
            "marker": {
             "colorbar": {
              "outlinewidth": 0,
              "ticks": ""
             }
            },
            "type": "scattermapbox"
           }
          ],
          "scatterpolar": [
           {
            "marker": {
             "colorbar": {
              "outlinewidth": 0,
              "ticks": ""
             }
            },
            "type": "scatterpolar"
           }
          ],
          "scatterpolargl": [
           {
            "marker": {
             "colorbar": {
              "outlinewidth": 0,
              "ticks": ""
             }
            },
            "type": "scatterpolargl"
           }
          ],
          "scatterternary": [
           {
            "marker": {
             "colorbar": {
              "outlinewidth": 0,
              "ticks": ""
             }
            },
            "type": "scatterternary"
           }
          ],
          "surface": [
           {
            "colorbar": {
             "outlinewidth": 0,
             "ticks": ""
            },
            "colorscale": [
             [
              0,
              "#0d0887"
             ],
             [
              0.1111111111111111,
              "#46039f"
             ],
             [
              0.2222222222222222,
              "#7201a8"
             ],
             [
              0.3333333333333333,
              "#9c179e"
             ],
             [
              0.4444444444444444,
              "#bd3786"
             ],
             [
              0.5555555555555556,
              "#d8576b"
             ],
             [
              0.6666666666666666,
              "#ed7953"
             ],
             [
              0.7777777777777778,
              "#fb9f3a"
             ],
             [
              0.8888888888888888,
              "#fdca26"
             ],
             [
              1,
              "#f0f921"
             ]
            ],
            "type": "surface"
           }
          ],
          "table": [
           {
            "cells": {
             "fill": {
              "color": "#EBF0F8"
             },
             "line": {
              "color": "white"
             }
            },
            "header": {
             "fill": {
              "color": "#C8D4E3"
             },
             "line": {
              "color": "white"
             }
            },
            "type": "table"
           }
          ]
         },
         "layout": {
          "annotationdefaults": {
           "arrowcolor": "#2a3f5f",
           "arrowhead": 0,
           "arrowwidth": 1
          },
          "autotypenumbers": "strict",
          "coloraxis": {
           "colorbar": {
            "outlinewidth": 0,
            "ticks": ""
           }
          },
          "colorscale": {
           "diverging": [
            [
             0,
             "#8e0152"
            ],
            [
             0.1,
             "#c51b7d"
            ],
            [
             0.2,
             "#de77ae"
            ],
            [
             0.3,
             "#f1b6da"
            ],
            [
             0.4,
             "#fde0ef"
            ],
            [
             0.5,
             "#f7f7f7"
            ],
            [
             0.6,
             "#e6f5d0"
            ],
            [
             0.7,
             "#b8e186"
            ],
            [
             0.8,
             "#7fbc41"
            ],
            [
             0.9,
             "#4d9221"
            ],
            [
             1,
             "#276419"
            ]
           ],
           "sequential": [
            [
             0,
             "#0d0887"
            ],
            [
             0.1111111111111111,
             "#46039f"
            ],
            [
             0.2222222222222222,
             "#7201a8"
            ],
            [
             0.3333333333333333,
             "#9c179e"
            ],
            [
             0.4444444444444444,
             "#bd3786"
            ],
            [
             0.5555555555555556,
             "#d8576b"
            ],
            [
             0.6666666666666666,
             "#ed7953"
            ],
            [
             0.7777777777777778,
             "#fb9f3a"
            ],
            [
             0.8888888888888888,
             "#fdca26"
            ],
            [
             1,
             "#f0f921"
            ]
           ],
           "sequentialminus": [
            [
             0,
             "#0d0887"
            ],
            [
             0.1111111111111111,
             "#46039f"
            ],
            [
             0.2222222222222222,
             "#7201a8"
            ],
            [
             0.3333333333333333,
             "#9c179e"
            ],
            [
             0.4444444444444444,
             "#bd3786"
            ],
            [
             0.5555555555555556,
             "#d8576b"
            ],
            [
             0.6666666666666666,
             "#ed7953"
            ],
            [
             0.7777777777777778,
             "#fb9f3a"
            ],
            [
             0.8888888888888888,
             "#fdca26"
            ],
            [
             1,
             "#f0f921"
            ]
           ]
          },
          "colorway": [
           "#636efa",
           "#EF553B",
           "#00cc96",
           "#ab63fa",
           "#FFA15A",
           "#19d3f3",
           "#FF6692",
           "#B6E880",
           "#FF97FF",
           "#FECB52"
          ],
          "font": {
           "color": "#2a3f5f"
          },
          "geo": {
           "bgcolor": "white",
           "lakecolor": "white",
           "landcolor": "#E5ECF6",
           "showlakes": true,
           "showland": true,
           "subunitcolor": "white"
          },
          "hoverlabel": {
           "align": "left"
          },
          "hovermode": "closest",
          "mapbox": {
           "style": "light"
          },
          "paper_bgcolor": "white",
          "plot_bgcolor": "#E5ECF6",
          "polar": {
           "angularaxis": {
            "gridcolor": "white",
            "linecolor": "white",
            "ticks": ""
           },
           "bgcolor": "#E5ECF6",
           "radialaxis": {
            "gridcolor": "white",
            "linecolor": "white",
            "ticks": ""
           }
          },
          "scene": {
           "xaxis": {
            "backgroundcolor": "#E5ECF6",
            "gridcolor": "white",
            "gridwidth": 2,
            "linecolor": "white",
            "showbackground": true,
            "ticks": "",
            "zerolinecolor": "white"
           },
           "yaxis": {
            "backgroundcolor": "#E5ECF6",
            "gridcolor": "white",
            "gridwidth": 2,
            "linecolor": "white",
            "showbackground": true,
            "ticks": "",
            "zerolinecolor": "white"
           },
           "zaxis": {
            "backgroundcolor": "#E5ECF6",
            "gridcolor": "white",
            "gridwidth": 2,
            "linecolor": "white",
            "showbackground": true,
            "ticks": "",
            "zerolinecolor": "white"
           }
          },
          "shapedefaults": {
           "line": {
            "color": "#2a3f5f"
           }
          },
          "ternary": {
           "aaxis": {
            "gridcolor": "white",
            "linecolor": "white",
            "ticks": ""
           },
           "baxis": {
            "gridcolor": "white",
            "linecolor": "white",
            "ticks": ""
           },
           "bgcolor": "#E5ECF6",
           "caxis": {
            "gridcolor": "white",
            "linecolor": "white",
            "ticks": ""
           }
          },
          "title": {
           "x": 0.05
          },
          "xaxis": {
           "automargin": true,
           "gridcolor": "white",
           "linecolor": "white",
           "ticks": "",
           "title": {
            "standoff": 15
           },
           "zerolinecolor": "white",
           "zerolinewidth": 2
          },
          "yaxis": {
           "automargin": true,
           "gridcolor": "white",
           "linecolor": "white",
           "ticks": "",
           "title": {
            "standoff": 15
           },
           "zerolinecolor": "white",
           "zerolinewidth": 2
          }
         }
        },
        "title": {
         "text": "Age vs. Maximum Heart Rate by Target",
         "x": 0.5
        },
        "xaxis": {
         "anchor": "y",
         "domain": [
          0,
          1
         ],
         "title": {
          "text": "Age"
         }
        },
        "yaxis": {
         "anchor": "x",
         "domain": [
          0,
          1
         ],
         "title": {
          "text": "Maximum Heart Rate"
         }
        }
       }
      }
     },
     "metadata": {},
     "output_type": "display_data"
    }
   ],
   "source": [
    "import plotly.express as px\n",
    "\n",
    "# Create a scatter plot using Plotly Express\n",
    "fig = px.scatter(df, x='Age', y='Mx Heart Rate', color='Target',\n",
    "                 category_orders={'Target': ['No Disease', 'Disease']},\n",
    "                 title='Age vs. Maximum Heart Rate by Target')\n",
    "\n",
    "# Update layout for better readability\n",
    "fig.update_layout(\n",
    "    xaxis_title='Age',\n",
    "    yaxis_title='Maximum Heart Rate',\n",
    "    title_x=0.5,\n",
    "    legend_title='Target'\n",
    ")\n",
    "\n",
    "# Show the plot\n",
    "fig.show()"
   ]
  },
  {
   "cell_type": "code",
   "execution_count": 90,
   "metadata": {},
   "outputs": [
    {
     "data": {
      "application/vnd.plotly.v1+json": {
       "config": {
        "plotlyServerURL": "https://plot.ly"
       },
       "data": [
        {
         "alignmentgroup": "True",
         "bingroup": "x",
         "hovertemplate": "Target=No Disease<br>Chest Pain=%{x}<br>count=%{y}<extra></extra>",
         "legendgroup": "No Disease",
         "marker": {
          "color": "#636efa",
          "pattern": {
           "shape": ""
          }
         },
         "name": "No Disease",
         "offsetgroup": "No Disease",
         "orientation": "v",
         "showlegend": true,
         "type": "histogram",
         "x": [
          "Typical Angina",
          "Typical Angina",
          "Typical Angina",
          "Typical Angina",
          "Typical Angina",
          "Typical Angina",
          "Typical Angina",
          "Typical Angina",
          "Typical Angina",
          "Typical Angina",
          "Typical Angina",
          "Typical Angina",
          "Typical Angina",
          "Non-Anginal",
          "Typical Angina",
          "Atypical Angina",
          "Non-Anginal",
          "Typical Angina",
          "Typical Angina",
          "Typical Angina",
          "Non-Anginal",
          "Non-Anginal",
          "Non-Anginal",
          "Typical Angina",
          "Typical Angina",
          "Typical Angina",
          "Typical Angina",
          "Typical Angina",
          "Non-Anginal",
          "Typical Angina",
          "Typical Angina",
          "Non-Anginal",
          "Atypical Angina",
          "Typical Angina",
          "Asymptomatic",
          "Typical Angina",
          "Typical Angina",
          "Typical Angina",
          "Typical Angina",
          "Typical Angina",
          "Typical Angina",
          "Typical Angina",
          "Typical Angina",
          "Non-Anginal",
          "Non-Anginal",
          "Non-Anginal",
          "Typical Angina",
          "Typical Angina",
          "Typical Angina",
          "Typical Angina",
          "Typical Angina",
          "Typical Angina",
          "Typical Angina",
          "Typical Angina",
          "Typical Angina",
          "Atypical Angina",
          "Typical Angina",
          "Typical Angina",
          "Typical Angina",
          "Typical Angina",
          "Typical Angina",
          "Non-Anginal",
          "Typical Angina",
          "Typical Angina",
          "Typical Angina",
          "Typical Angina",
          "Typical Angina",
          "Typical Angina",
          "Typical Angina",
          "Typical Angina",
          "Typical Angina",
          "Asymptomatic",
          "Typical Angina",
          "Typical Angina",
          "Typical Angina",
          "Atypical Angina",
          "Typical Angina",
          "Typical Angina",
          "Typical Angina",
          "Typical Angina",
          "Typical Angina",
          "Typical Angina",
          "Typical Angina",
          "Typical Angina",
          "Typical Angina",
          "Typical Angina",
          "Typical Angina",
          "Typical Angina",
          "Typical Angina",
          "Typical Angina",
          "Typical Angina",
          "Typical Angina",
          "Typical Angina",
          "Typical Angina",
          "Typical Angina",
          "Typical Angina",
          "Typical Angina",
          "Non-Anginal",
          "Typical Angina",
          "Typical Angina",
          "Typical Angina",
          "Non-Anginal",
          "Atypical Angina",
          "Typical Angina",
          "Typical Angina",
          "Typical Angina",
          "Typical Angina",
          "Typical Angina",
          "Atypical Angina",
          "Typical Angina",
          "Non-Anginal",
          "Typical Angina",
          "Typical Angina",
          "Typical Angina",
          "Non-Anginal",
          "Atypical Angina",
          "Typical Angina",
          "Typical Angina",
          "Non-Anginal",
          "Non-Anginal",
          "Atypical Angina",
          "Typical Angina",
          "Typical Angina",
          "Typical Angina",
          "Typical Angina",
          "Typical Angina",
          "Asymptomatic",
          "Typical Angina",
          "Typical Angina",
          "Typical Angina",
          "Non-Anginal",
          "Typical Angina",
          "Typical Angina",
          "Typical Angina",
          "Non-Anginal",
          "Typical Angina",
          "Typical Angina",
          "Typical Angina",
          "Typical Angina",
          "Typical Angina",
          "Typical Angina",
          "Typical Angina",
          "Typical Angina",
          "Non-Anginal",
          "Typical Angina",
          "Typical Angina",
          "Non-Anginal",
          "Typical Angina",
          "Typical Angina",
          "Atypical Angina",
          "Atypical Angina",
          "Typical Angina",
          "Typical Angina",
          "Typical Angina",
          "Typical Angina",
          "Typical Angina",
          "Non-Anginal",
          "Typical Angina",
          "Atypical Angina",
          "Typical Angina",
          "Typical Angina",
          "Non-Anginal",
          "Typical Angina",
          "Typical Angina",
          "Atypical Angina",
          "Typical Angina",
          "Typical Angina",
          "Asymptomatic",
          "Atypical Angina",
          "Non-Anginal",
          "Atypical Angina",
          "Typical Angina",
          "Typical Angina",
          "Atypical Angina",
          "Typical Angina",
          "Typical Angina",
          "Non-Anginal",
          "Typical Angina",
          "Typical Angina",
          "Typical Angina",
          "Typical Angina",
          "Typical Angina",
          "Atypical Angina",
          "Asymptomatic",
          "Typical Angina",
          "Typical Angina",
          "Non-Anginal",
          "Typical Angina",
          "Non-Anginal",
          "Typical Angina",
          "Non-Anginal",
          "Typical Angina",
          "Non-Anginal",
          "Typical Angina",
          "Typical Angina",
          "Typical Angina",
          "Asymptomatic",
          "Atypical Angina",
          "Typical Angina",
          "Typical Angina",
          "Typical Angina",
          "Non-Anginal",
          "Non-Anginal",
          "Typical Angina",
          "Typical Angina",
          "Typical Angina",
          "Atypical Angina",
          "Typical Angina",
          "Typical Angina",
          "Typical Angina",
          "Typical Angina",
          "Typical Angina",
          "Typical Angina",
          "Typical Angina",
          "Typical Angina",
          "Non-Anginal",
          "Non-Anginal",
          "Typical Angina",
          "Typical Angina",
          "Atypical Angina",
          "Typical Angina",
          "Non-Anginal",
          "Typical Angina",
          "Typical Angina",
          "Typical Angina",
          "Typical Angina",
          "Typical Angina",
          "Atypical Angina",
          "Typical Angina",
          "Typical Angina",
          "Non-Anginal",
          "Typical Angina",
          "Non-Anginal",
          "Atypical Angina",
          "Non-Anginal",
          "Typical Angina",
          "Typical Angina",
          "Typical Angina",
          "Typical Angina",
          "Typical Angina",
          "Typical Angina",
          "Non-Anginal",
          "Typical Angina",
          "Non-Anginal",
          "Typical Angina",
          "Typical Angina",
          "Typical Angina",
          "Non-Anginal",
          "Typical Angina",
          "Typical Angina",
          "Typical Angina",
          "Typical Angina",
          "Typical Angina",
          "Asymptomatic",
          "Atypical Angina",
          "Typical Angina",
          "Non-Anginal",
          "Typical Angina",
          "Typical Angina",
          "Typical Angina",
          "Typical Angina",
          "Typical Angina",
          "Typical Angina",
          "Typical Angina",
          "Typical Angina",
          "Typical Angina",
          "Typical Angina",
          "Typical Angina",
          "Typical Angina",
          "Typical Angina",
          "Typical Angina",
          "Typical Angina",
          "Non-Anginal",
          "Typical Angina",
          "Typical Angina",
          "Typical Angina",
          "Typical Angina",
          "Non-Anginal",
          "Typical Angina",
          "Typical Angina",
          "Typical Angina",
          "Atypical Angina",
          "Non-Anginal",
          "Typical Angina",
          "Typical Angina",
          "Typical Angina",
          "Typical Angina",
          "Typical Angina",
          "Typical Angina",
          "Typical Angina",
          "Typical Angina",
          "Typical Angina",
          "Typical Angina",
          "Typical Angina",
          "Typical Angina",
          "Typical Angina",
          "Typical Angina",
          "Asymptomatic",
          "Non-Anginal",
          "Non-Anginal",
          "Asymptomatic",
          "Asymptomatic",
          "Asymptomatic",
          "Typical Angina",
          "Typical Angina",
          "Typical Angina",
          "Asymptomatic",
          "Typical Angina",
          "Typical Angina",
          "Non-Anginal",
          "Typical Angina",
          "Typical Angina",
          "Atypical Angina",
          "Non-Anginal",
          "Typical Angina",
          "Typical Angina",
          "Atypical Angina",
          "Atypical Angina",
          "Typical Angina",
          "Typical Angina",
          "Typical Angina",
          "Typical Angina",
          "Typical Angina",
          "Typical Angina",
          "Non-Anginal",
          "Typical Angina",
          "Typical Angina",
          "Typical Angina",
          "Non-Anginal",
          "Typical Angina",
          "Typical Angina",
          "Typical Angina",
          "Typical Angina",
          "Typical Angina",
          "Typical Angina",
          "Typical Angina",
          "Non-Anginal",
          "Typical Angina",
          "Typical Angina",
          "Typical Angina",
          "Typical Angina",
          "Non-Anginal",
          "Asymptomatic",
          "Typical Angina",
          "Typical Angina",
          "Non-Anginal",
          "Non-Anginal",
          "Typical Angina",
          "Typical Angina",
          "Typical Angina",
          "Typical Angina",
          "Typical Angina",
          "Typical Angina",
          "Typical Angina",
          "Typical Angina",
          "Typical Angina",
          "Typical Angina",
          "Non-Anginal",
          "Typical Angina",
          "Typical Angina",
          "Typical Angina",
          "Typical Angina",
          "Typical Angina",
          "Typical Angina",
          "Typical Angina",
          "Typical Angina",
          "Typical Angina",
          "Typical Angina",
          "Typical Angina",
          "Typical Angina",
          "Asymptomatic",
          "Typical Angina",
          "Typical Angina",
          "Typical Angina",
          "Typical Angina",
          "Typical Angina",
          "Typical Angina",
          "Atypical Angina",
          "Typical Angina",
          "Typical Angina",
          "Typical Angina",
          "Asymptomatic",
          "Typical Angina",
          "Asymptomatic",
          "Typical Angina",
          "Typical Angina",
          "Typical Angina",
          "Typical Angina",
          "Typical Angina",
          "Atypical Angina",
          "Typical Angina",
          "Typical Angina",
          "Typical Angina",
          "Typical Angina",
          "Typical Angina",
          "Typical Angina",
          "Typical Angina",
          "Non-Anginal",
          "Typical Angina",
          "Typical Angina",
          "Typical Angina",
          "Non-Anginal",
          "Typical Angina",
          "Non-Anginal",
          "Asymptomatic",
          "Typical Angina",
          "Typical Angina",
          "Typical Angina",
          "Typical Angina",
          "Atypical Angina",
          "Typical Angina",
          "Typical Angina",
          "Asymptomatic",
          "Typical Angina",
          "Typical Angina",
          "Non-Anginal",
          "Asymptomatic",
          "Typical Angina",
          "Asymptomatic",
          "Asymptomatic",
          "Typical Angina",
          "Typical Angina",
          "Typical Angina",
          "Atypical Angina",
          "Typical Angina",
          "Typical Angina",
          "Typical Angina",
          "Typical Angina",
          "Typical Angina",
          "Typical Angina",
          "Typical Angina",
          "Typical Angina",
          "Typical Angina",
          "Typical Angina",
          "Typical Angina",
          "Non-Anginal",
          "Asymptomatic",
          "Typical Angina",
          "Non-Anginal",
          "Typical Angina",
          "Typical Angina",
          "Typical Angina",
          "Non-Anginal",
          "Atypical Angina",
          "Typical Angina",
          "Typical Angina",
          "Typical Angina",
          "Typical Angina",
          "Asymptomatic",
          "Asymptomatic",
          "Typical Angina",
          "Typical Angina",
          "Typical Angina",
          "Typical Angina",
          "Typical Angina",
          "Typical Angina",
          "Typical Angina",
          "Typical Angina",
          "Typical Angina",
          "Asymptomatic",
          "Non-Anginal",
          "Typical Angina",
          "Typical Angina",
          "Typical Angina",
          "Typical Angina",
          "Non-Anginal",
          "Non-Anginal",
          "Typical Angina",
          "Typical Angina",
          "Typical Angina",
          "Typical Angina",
          "Typical Angina",
          "Typical Angina",
          "Typical Angina",
          "Typical Angina",
          "Typical Angina",
          "Atypical Angina",
          "Typical Angina",
          "Typical Angina",
          "Typical Angina",
          "Typical Angina",
          "Typical Angina",
          "Typical Angina",
          "Typical Angina",
          "Typical Angina",
          "Typical Angina",
          "Typical Angina",
          "Typical Angina",
          "Typical Angina",
          "Typical Angina",
          "Atypical Angina",
          "Typical Angina",
          "Typical Angina",
          "Asymptomatic",
          "Typical Angina",
          "Typical Angina",
          "Typical Angina",
          "Typical Angina",
          "Typical Angina"
         ],
         "xaxis": "x",
         "yaxis": "y"
        },
        {
         "alignmentgroup": "True",
         "bingroup": "x",
         "hovertemplate": "Target=Disease<br>Chest Pain=%{x}<br>count=%{y}<extra></extra>",
         "legendgroup": "Disease",
         "marker": {
          "color": "#EF553B",
          "pattern": {
           "shape": ""
          }
         },
         "name": "Disease",
         "offsetgroup": "Disease",
         "orientation": "v",
         "showlegend": true,
         "type": "histogram",
         "x": [
          "Typical Angina",
          "Typical Angina",
          "Atypical Angina",
          "Atypical Angina",
          "Non-Anginal",
          "Atypical Angina",
          "Non-Anginal",
          "Typical Angina",
          "Typical Angina",
          "Non-Anginal",
          "Non-Anginal",
          "Non-Anginal",
          "Atypical Angina",
          "Non-Anginal",
          "Asymptomatic",
          "Typical Angina",
          "Typical Angina",
          "Non-Anginal",
          "Non-Anginal",
          "Atypical Angina",
          "Typical Angina",
          "Atypical Angina",
          "Non-Anginal",
          "Asymptomatic",
          "Non-Anginal",
          "Asymptomatic",
          "Atypical Angina",
          "Atypical Angina",
          "Non-Anginal",
          "Non-Anginal",
          "Atypical Angina",
          "Non-Anginal",
          "Non-Anginal",
          "Non-Anginal",
          "Non-Anginal",
          "Atypical Angina",
          "Atypical Angina",
          "Non-Anginal",
          "Non-Anginal",
          "Atypical Angina",
          "Non-Anginal",
          "Non-Anginal",
          "Typical Angina",
          "Atypical Angina",
          "Typical Angina",
          "Typical Angina",
          "Non-Anginal",
          "Non-Anginal",
          "Non-Anginal",
          "Atypical Angina",
          "Non-Anginal",
          "Asymptomatic",
          "Typical Angina",
          "Atypical Angina",
          "Atypical Angina",
          "Atypical Angina",
          "Non-Anginal",
          "Asymptomatic",
          "Typical Angina",
          "Non-Anginal",
          "Non-Anginal",
          "Typical Angina",
          "Asymptomatic",
          "Non-Anginal",
          "Atypical Angina",
          "Non-Anginal",
          "Atypical Angina",
          "Atypical Angina",
          "Typical Angina",
          "Non-Anginal",
          "Atypical Angina",
          "Asymptomatic",
          "Typical Angina",
          "Non-Anginal",
          "Asymptomatic",
          "Non-Anginal",
          "Non-Anginal",
          "Atypical Angina",
          "Asymptomatic",
          "Non-Anginal",
          "Non-Anginal",
          "Atypical Angina",
          "Non-Anginal",
          "Typical Angina",
          "Non-Anginal",
          "Atypical Angina",
          "Typical Angina",
          "Atypical Angina",
          "Non-Anginal",
          "Asymptomatic",
          "Non-Anginal",
          "Atypical Angina",
          "Non-Anginal",
          "Atypical Angina",
          "Non-Anginal",
          "Asymptomatic",
          "Non-Anginal",
          "Typical Angina",
          "Non-Anginal",
          "Typical Angina",
          "Asymptomatic",
          "Asymptomatic",
          "Asymptomatic",
          "Non-Anginal",
          "Asymptomatic",
          "Non-Anginal",
          "Non-Anginal",
          "Non-Anginal",
          "Non-Anginal",
          "Atypical Angina",
          "Atypical Angina",
          "Atypical Angina",
          "Asymptomatic",
          "Non-Anginal",
          "Typical Angina",
          "Non-Anginal",
          "Non-Anginal",
          "Atypical Angina",
          "Atypical Angina",
          "Atypical Angina",
          "Typical Angina",
          "Asymptomatic",
          "Atypical Angina",
          "Non-Anginal",
          "Non-Anginal",
          "Atypical Angina",
          "Non-Anginal",
          "Non-Anginal",
          "Atypical Angina",
          "Typical Angina",
          "Typical Angina",
          "Typical Angina",
          "Typical Angina",
          "Non-Anginal",
          "Non-Anginal",
          "Typical Angina",
          "Atypical Angina",
          "Typical Angina",
          "Non-Anginal",
          "Typical Angina",
          "Atypical Angina",
          "Non-Anginal",
          "Typical Angina",
          "Typical Angina",
          "Atypical Angina",
          "Atypical Angina",
          "Atypical Angina",
          "Atypical Angina",
          "Atypical Angina",
          "Asymptomatic",
          "Non-Anginal",
          "Non-Anginal",
          "Atypical Angina",
          "Non-Anginal",
          "Non-Anginal",
          "Non-Anginal",
          "Non-Anginal",
          "Atypical Angina",
          "Atypical Angina",
          "Atypical Angina",
          "Non-Anginal",
          "Atypical Angina",
          "Non-Anginal",
          "Non-Anginal",
          "Atypical Angina",
          "Atypical Angina",
          "Atypical Angina",
          "Asymptomatic",
          "Asymptomatic",
          "Non-Anginal",
          "Non-Anginal",
          "Non-Anginal",
          "Typical Angina",
          "Non-Anginal",
          "Atypical Angina",
          "Atypical Angina",
          "Non-Anginal",
          "Non-Anginal",
          "Non-Anginal",
          "Non-Anginal",
          "Non-Anginal",
          "Non-Anginal",
          "Non-Anginal",
          "Non-Anginal",
          "Non-Anginal",
          "Non-Anginal",
          "Atypical Angina",
          "Non-Anginal",
          "Typical Angina",
          "Typical Angina",
          "Typical Angina",
          "Non-Anginal",
          "Typical Angina",
          "Non-Anginal",
          "Non-Anginal",
          "Non-Anginal",
          "Non-Anginal",
          "Non-Anginal",
          "Non-Anginal",
          "Non-Anginal",
          "Non-Anginal",
          "Typical Angina",
          "Atypical Angina",
          "Typical Angina",
          "Asymptomatic",
          "Non-Anginal",
          "Non-Anginal",
          "Asymptomatic",
          "Non-Anginal",
          "Non-Anginal",
          "Typical Angina",
          "Asymptomatic",
          "Typical Angina",
          "Atypical Angina",
          "Atypical Angina",
          "Non-Anginal",
          "Typical Angina",
          "Atypical Angina",
          "Atypical Angina",
          "Non-Anginal",
          "Non-Anginal",
          "Typical Angina",
          "Non-Anginal",
          "Typical Angina",
          "Typical Angina",
          "Typical Angina",
          "Non-Anginal",
          "Non-Anginal",
          "Non-Anginal",
          "Non-Anginal",
          "Non-Anginal",
          "Typical Angina",
          "Non-Anginal",
          "Non-Anginal",
          "Non-Anginal",
          "Atypical Angina",
          "Non-Anginal",
          "Non-Anginal",
          "Atypical Angina",
          "Atypical Angina",
          "Asymptomatic",
          "Non-Anginal",
          "Typical Angina",
          "Typical Angina",
          "Non-Anginal",
          "Asymptomatic",
          "Typical Angina",
          "Non-Anginal",
          "Non-Anginal",
          "Atypical Angina",
          "Non-Anginal",
          "Asymptomatic",
          "Non-Anginal",
          "Typical Angina",
          "Non-Anginal",
          "Non-Anginal",
          "Non-Anginal",
          "Atypical Angina",
          "Atypical Angina",
          "Non-Anginal",
          "Typical Angina",
          "Non-Anginal",
          "Non-Anginal",
          "Typical Angina",
          "Typical Angina",
          "Non-Anginal",
          "Typical Angina",
          "Typical Angina",
          "Non-Anginal",
          "Atypical Angina",
          "Non-Anginal",
          "Atypical Angina",
          "Atypical Angina",
          "Atypical Angina",
          "Atypical Angina",
          "Atypical Angina",
          "Non-Anginal",
          "Non-Anginal",
          "Typical Angina",
          "Asymptomatic",
          "Asymptomatic",
          "Non-Anginal",
          "Typical Angina",
          "Non-Anginal",
          "Non-Anginal",
          "Non-Anginal",
          "Atypical Angina",
          "Asymptomatic",
          "Non-Anginal",
          "Typical Angina",
          "Non-Anginal",
          "Typical Angina",
          "Non-Anginal",
          "Non-Anginal",
          "Non-Anginal",
          "Typical Angina",
          "Non-Anginal",
          "Typical Angina",
          "Non-Anginal",
          "Non-Anginal",
          "Typical Angina",
          "Typical Angina",
          "Non-Anginal",
          "Non-Anginal",
          "Non-Anginal",
          "Non-Anginal",
          "Asymptomatic",
          "Typical Angina",
          "Asymptomatic",
          "Typical Angina",
          "Atypical Angina",
          "Non-Anginal",
          "Atypical Angina",
          "Asymptomatic",
          "Atypical Angina",
          "Atypical Angina",
          "Non-Anginal",
          "Atypical Angina",
          "Non-Anginal",
          "Atypical Angina",
          "Non-Anginal",
          "Non-Anginal",
          "Non-Anginal",
          "Typical Angina",
          "Atypical Angina",
          "Atypical Angina",
          "Asymptomatic",
          "Asymptomatic",
          "Atypical Angina",
          "Atypical Angina",
          "Typical Angina",
          "Non-Anginal",
          "Typical Angina",
          "Typical Angina",
          "Typical Angina",
          "Typical Angina",
          "Non-Anginal",
          "Typical Angina",
          "Typical Angina",
          "Atypical Angina",
          "Atypical Angina",
          "Asymptomatic",
          "Atypical Angina",
          "Atypical Angina",
          "Non-Anginal",
          "Typical Angina",
          "Typical Angina",
          "Typical Angina",
          "Asymptomatic",
          "Non-Anginal",
          "Atypical Angina",
          "Atypical Angina",
          "Non-Anginal",
          "Non-Anginal",
          "Non-Anginal",
          "Atypical Angina",
          "Non-Anginal",
          "Non-Anginal",
          "Atypical Angina",
          "Atypical Angina",
          "Non-Anginal",
          "Non-Anginal",
          "Atypical Angina",
          "Typical Angina",
          "Non-Anginal",
          "Atypical Angina",
          "Non-Anginal",
          "Atypical Angina",
          "Atypical Angina",
          "Asymptomatic",
          "Asymptomatic",
          "Atypical Angina",
          "Atypical Angina",
          "Typical Angina",
          "Typical Angina",
          "Non-Anginal",
          "Non-Anginal",
          "Atypical Angina",
          "Atypical Angina",
          "Atypical Angina",
          "Atypical Angina",
          "Non-Anginal",
          "Non-Anginal",
          "Non-Anginal",
          "Non-Anginal",
          "Non-Anginal",
          "Atypical Angina",
          "Non-Anginal",
          "Non-Anginal",
          "Non-Anginal",
          "Atypical Angina",
          "Atypical Angina",
          "Non-Anginal",
          "Atypical Angina",
          "Typical Angina",
          "Non-Anginal",
          "Non-Anginal",
          "Typical Angina",
          "Atypical Angina",
          "Typical Angina",
          "Atypical Angina",
          "Asymptomatic",
          "Atypical Angina",
          "Non-Anginal",
          "Atypical Angina",
          "Typical Angina",
          "Non-Anginal",
          "Non-Anginal",
          "Atypical Angina",
          "Typical Angina",
          "Atypical Angina",
          "Non-Anginal",
          "Non-Anginal",
          "Atypical Angina",
          "Atypical Angina",
          "Typical Angina",
          "Asymptomatic",
          "Typical Angina",
          "Typical Angina",
          "Non-Anginal",
          "Non-Anginal",
          "Non-Anginal",
          "Atypical Angina",
          "Non-Anginal",
          "Atypical Angina",
          "Typical Angina",
          "Asymptomatic",
          "Typical Angina",
          "Non-Anginal",
          "Non-Anginal",
          "Non-Anginal",
          "Non-Anginal",
          "Atypical Angina",
          "Non-Anginal",
          "Typical Angina",
          "Non-Anginal",
          "Asymptomatic",
          "Typical Angina",
          "Typical Angina",
          "Typical Angina",
          "Asymptomatic",
          "Non-Anginal",
          "Atypical Angina",
          "Non-Anginal",
          "Typical Angina",
          "Non-Anginal",
          "Asymptomatic",
          "Non-Anginal",
          "Atypical Angina",
          "Atypical Angina",
          "Atypical Angina",
          "Non-Anginal",
          "Non-Anginal",
          "Asymptomatic",
          "Typical Angina",
          "Non-Anginal",
          "Typical Angina",
          "Typical Angina",
          "Typical Angina",
          "Typical Angina",
          "Asymptomatic",
          "Atypical Angina",
          "Typical Angina",
          "Typical Angina",
          "Typical Angina",
          "Atypical Angina",
          "Typical Angina",
          "Atypical Angina",
          "Typical Angina",
          "Non-Anginal",
          "Atypical Angina",
          "Typical Angina",
          "Non-Anginal",
          "Non-Anginal",
          "Non-Anginal",
          "Atypical Angina",
          "Non-Anginal",
          "Typical Angina",
          "Atypical Angina",
          "Non-Anginal",
          "Asymptomatic",
          "Typical Angina",
          "Asymptomatic",
          "Non-Anginal",
          "Non-Anginal",
          "Typical Angina",
          "Non-Anginal",
          "Typical Angina",
          "Typical Angina",
          "Non-Anginal",
          "Typical Angina",
          "Non-Anginal",
          "Asymptomatic",
          "Non-Anginal",
          "Typical Angina",
          "Typical Angina",
          "Non-Anginal",
          "Non-Anginal",
          "Non-Anginal",
          "Atypical Angina",
          "Non-Anginal",
          "Non-Anginal",
          "Asymptomatic",
          "Non-Anginal",
          "Typical Angina",
          "Atypical Angina",
          "Typical Angina",
          "Typical Angina",
          "Typical Angina",
          "Typical Angina",
          "Non-Anginal",
          "Atypical Angina",
          "Atypical Angina",
          "Typical Angina",
          "Atypical Angina",
          "Typical Angina",
          "Typical Angina",
          "Non-Anginal",
          "Non-Anginal",
          "Asymptomatic",
          "Atypical Angina",
          "Atypical Angina",
          "Non-Anginal",
          "Typical Angina",
          "Atypical Angina",
          "Typical Angina"
         ],
         "xaxis": "x",
         "yaxis": "y"
        }
       ],
       "layout": {
        "barmode": "group",
        "legend": {
         "title": {
          "text": "Target"
         },
         "tracegroupgap": 0
        },
        "template": {
         "data": {
          "bar": [
           {
            "error_x": {
             "color": "#2a3f5f"
            },
            "error_y": {
             "color": "#2a3f5f"
            },
            "marker": {
             "line": {
              "color": "#E5ECF6",
              "width": 0.5
             },
             "pattern": {
              "fillmode": "overlay",
              "size": 10,
              "solidity": 0.2
             }
            },
            "type": "bar"
           }
          ],
          "barpolar": [
           {
            "marker": {
             "line": {
              "color": "#E5ECF6",
              "width": 0.5
             },
             "pattern": {
              "fillmode": "overlay",
              "size": 10,
              "solidity": 0.2
             }
            },
            "type": "barpolar"
           }
          ],
          "carpet": [
           {
            "aaxis": {
             "endlinecolor": "#2a3f5f",
             "gridcolor": "white",
             "linecolor": "white",
             "minorgridcolor": "white",
             "startlinecolor": "#2a3f5f"
            },
            "baxis": {
             "endlinecolor": "#2a3f5f",
             "gridcolor": "white",
             "linecolor": "white",
             "minorgridcolor": "white",
             "startlinecolor": "#2a3f5f"
            },
            "type": "carpet"
           }
          ],
          "choropleth": [
           {
            "colorbar": {
             "outlinewidth": 0,
             "ticks": ""
            },
            "type": "choropleth"
           }
          ],
          "contour": [
           {
            "colorbar": {
             "outlinewidth": 0,
             "ticks": ""
            },
            "colorscale": [
             [
              0,
              "#0d0887"
             ],
             [
              0.1111111111111111,
              "#46039f"
             ],
             [
              0.2222222222222222,
              "#7201a8"
             ],
             [
              0.3333333333333333,
              "#9c179e"
             ],
             [
              0.4444444444444444,
              "#bd3786"
             ],
             [
              0.5555555555555556,
              "#d8576b"
             ],
             [
              0.6666666666666666,
              "#ed7953"
             ],
             [
              0.7777777777777778,
              "#fb9f3a"
             ],
             [
              0.8888888888888888,
              "#fdca26"
             ],
             [
              1,
              "#f0f921"
             ]
            ],
            "type": "contour"
           }
          ],
          "contourcarpet": [
           {
            "colorbar": {
             "outlinewidth": 0,
             "ticks": ""
            },
            "type": "contourcarpet"
           }
          ],
          "heatmap": [
           {
            "colorbar": {
             "outlinewidth": 0,
             "ticks": ""
            },
            "colorscale": [
             [
              0,
              "#0d0887"
             ],
             [
              0.1111111111111111,
              "#46039f"
             ],
             [
              0.2222222222222222,
              "#7201a8"
             ],
             [
              0.3333333333333333,
              "#9c179e"
             ],
             [
              0.4444444444444444,
              "#bd3786"
             ],
             [
              0.5555555555555556,
              "#d8576b"
             ],
             [
              0.6666666666666666,
              "#ed7953"
             ],
             [
              0.7777777777777778,
              "#fb9f3a"
             ],
             [
              0.8888888888888888,
              "#fdca26"
             ],
             [
              1,
              "#f0f921"
             ]
            ],
            "type": "heatmap"
           }
          ],
          "heatmapgl": [
           {
            "colorbar": {
             "outlinewidth": 0,
             "ticks": ""
            },
            "colorscale": [
             [
              0,
              "#0d0887"
             ],
             [
              0.1111111111111111,
              "#46039f"
             ],
             [
              0.2222222222222222,
              "#7201a8"
             ],
             [
              0.3333333333333333,
              "#9c179e"
             ],
             [
              0.4444444444444444,
              "#bd3786"
             ],
             [
              0.5555555555555556,
              "#d8576b"
             ],
             [
              0.6666666666666666,
              "#ed7953"
             ],
             [
              0.7777777777777778,
              "#fb9f3a"
             ],
             [
              0.8888888888888888,
              "#fdca26"
             ],
             [
              1,
              "#f0f921"
             ]
            ],
            "type": "heatmapgl"
           }
          ],
          "histogram": [
           {
            "marker": {
             "pattern": {
              "fillmode": "overlay",
              "size": 10,
              "solidity": 0.2
             }
            },
            "type": "histogram"
           }
          ],
          "histogram2d": [
           {
            "colorbar": {
             "outlinewidth": 0,
             "ticks": ""
            },
            "colorscale": [
             [
              0,
              "#0d0887"
             ],
             [
              0.1111111111111111,
              "#46039f"
             ],
             [
              0.2222222222222222,
              "#7201a8"
             ],
             [
              0.3333333333333333,
              "#9c179e"
             ],
             [
              0.4444444444444444,
              "#bd3786"
             ],
             [
              0.5555555555555556,
              "#d8576b"
             ],
             [
              0.6666666666666666,
              "#ed7953"
             ],
             [
              0.7777777777777778,
              "#fb9f3a"
             ],
             [
              0.8888888888888888,
              "#fdca26"
             ],
             [
              1,
              "#f0f921"
             ]
            ],
            "type": "histogram2d"
           }
          ],
          "histogram2dcontour": [
           {
            "colorbar": {
             "outlinewidth": 0,
             "ticks": ""
            },
            "colorscale": [
             [
              0,
              "#0d0887"
             ],
             [
              0.1111111111111111,
              "#46039f"
             ],
             [
              0.2222222222222222,
              "#7201a8"
             ],
             [
              0.3333333333333333,
              "#9c179e"
             ],
             [
              0.4444444444444444,
              "#bd3786"
             ],
             [
              0.5555555555555556,
              "#d8576b"
             ],
             [
              0.6666666666666666,
              "#ed7953"
             ],
             [
              0.7777777777777778,
              "#fb9f3a"
             ],
             [
              0.8888888888888888,
              "#fdca26"
             ],
             [
              1,
              "#f0f921"
             ]
            ],
            "type": "histogram2dcontour"
           }
          ],
          "mesh3d": [
           {
            "colorbar": {
             "outlinewidth": 0,
             "ticks": ""
            },
            "type": "mesh3d"
           }
          ],
          "parcoords": [
           {
            "line": {
             "colorbar": {
              "outlinewidth": 0,
              "ticks": ""
             }
            },
            "type": "parcoords"
           }
          ],
          "pie": [
           {
            "automargin": true,
            "type": "pie"
           }
          ],
          "scatter": [
           {
            "fillpattern": {
             "fillmode": "overlay",
             "size": 10,
             "solidity": 0.2
            },
            "type": "scatter"
           }
          ],
          "scatter3d": [
           {
            "line": {
             "colorbar": {
              "outlinewidth": 0,
              "ticks": ""
             }
            },
            "marker": {
             "colorbar": {
              "outlinewidth": 0,
              "ticks": ""
             }
            },
            "type": "scatter3d"
           }
          ],
          "scattercarpet": [
           {
            "marker": {
             "colorbar": {
              "outlinewidth": 0,
              "ticks": ""
             }
            },
            "type": "scattercarpet"
           }
          ],
          "scattergeo": [
           {
            "marker": {
             "colorbar": {
              "outlinewidth": 0,
              "ticks": ""
             }
            },
            "type": "scattergeo"
           }
          ],
          "scattergl": [
           {
            "marker": {
             "colorbar": {
              "outlinewidth": 0,
              "ticks": ""
             }
            },
            "type": "scattergl"
           }
          ],
          "scattermapbox": [
           {
            "marker": {
             "colorbar": {
              "outlinewidth": 0,
              "ticks": ""
             }
            },
            "type": "scattermapbox"
           }
          ],
          "scatterpolar": [
           {
            "marker": {
             "colorbar": {
              "outlinewidth": 0,
              "ticks": ""
             }
            },
            "type": "scatterpolar"
           }
          ],
          "scatterpolargl": [
           {
            "marker": {
             "colorbar": {
              "outlinewidth": 0,
              "ticks": ""
             }
            },
            "type": "scatterpolargl"
           }
          ],
          "scatterternary": [
           {
            "marker": {
             "colorbar": {
              "outlinewidth": 0,
              "ticks": ""
             }
            },
            "type": "scatterternary"
           }
          ],
          "surface": [
           {
            "colorbar": {
             "outlinewidth": 0,
             "ticks": ""
            },
            "colorscale": [
             [
              0,
              "#0d0887"
             ],
             [
              0.1111111111111111,
              "#46039f"
             ],
             [
              0.2222222222222222,
              "#7201a8"
             ],
             [
              0.3333333333333333,
              "#9c179e"
             ],
             [
              0.4444444444444444,
              "#bd3786"
             ],
             [
              0.5555555555555556,
              "#d8576b"
             ],
             [
              0.6666666666666666,
              "#ed7953"
             ],
             [
              0.7777777777777778,
              "#fb9f3a"
             ],
             [
              0.8888888888888888,
              "#fdca26"
             ],
             [
              1,
              "#f0f921"
             ]
            ],
            "type": "surface"
           }
          ],
          "table": [
           {
            "cells": {
             "fill": {
              "color": "#EBF0F8"
             },
             "line": {
              "color": "white"
             }
            },
            "header": {
             "fill": {
              "color": "#C8D4E3"
             },
             "line": {
              "color": "white"
             }
            },
            "type": "table"
           }
          ]
         },
         "layout": {
          "annotationdefaults": {
           "arrowcolor": "#2a3f5f",
           "arrowhead": 0,
           "arrowwidth": 1
          },
          "autotypenumbers": "strict",
          "coloraxis": {
           "colorbar": {
            "outlinewidth": 0,
            "ticks": ""
           }
          },
          "colorscale": {
           "diverging": [
            [
             0,
             "#8e0152"
            ],
            [
             0.1,
             "#c51b7d"
            ],
            [
             0.2,
             "#de77ae"
            ],
            [
             0.3,
             "#f1b6da"
            ],
            [
             0.4,
             "#fde0ef"
            ],
            [
             0.5,
             "#f7f7f7"
            ],
            [
             0.6,
             "#e6f5d0"
            ],
            [
             0.7,
             "#b8e186"
            ],
            [
             0.8,
             "#7fbc41"
            ],
            [
             0.9,
             "#4d9221"
            ],
            [
             1,
             "#276419"
            ]
           ],
           "sequential": [
            [
             0,
             "#0d0887"
            ],
            [
             0.1111111111111111,
             "#46039f"
            ],
            [
             0.2222222222222222,
             "#7201a8"
            ],
            [
             0.3333333333333333,
             "#9c179e"
            ],
            [
             0.4444444444444444,
             "#bd3786"
            ],
            [
             0.5555555555555556,
             "#d8576b"
            ],
            [
             0.6666666666666666,
             "#ed7953"
            ],
            [
             0.7777777777777778,
             "#fb9f3a"
            ],
            [
             0.8888888888888888,
             "#fdca26"
            ],
            [
             1,
             "#f0f921"
            ]
           ],
           "sequentialminus": [
            [
             0,
             "#0d0887"
            ],
            [
             0.1111111111111111,
             "#46039f"
            ],
            [
             0.2222222222222222,
             "#7201a8"
            ],
            [
             0.3333333333333333,
             "#9c179e"
            ],
            [
             0.4444444444444444,
             "#bd3786"
            ],
            [
             0.5555555555555556,
             "#d8576b"
            ],
            [
             0.6666666666666666,
             "#ed7953"
            ],
            [
             0.7777777777777778,
             "#fb9f3a"
            ],
            [
             0.8888888888888888,
             "#fdca26"
            ],
            [
             1,
             "#f0f921"
            ]
           ]
          },
          "colorway": [
           "#636efa",
           "#EF553B",
           "#00cc96",
           "#ab63fa",
           "#FFA15A",
           "#19d3f3",
           "#FF6692",
           "#B6E880",
           "#FF97FF",
           "#FECB52"
          ],
          "font": {
           "color": "#2a3f5f"
          },
          "geo": {
           "bgcolor": "white",
           "lakecolor": "white",
           "landcolor": "#E5ECF6",
           "showlakes": true,
           "showland": true,
           "subunitcolor": "white"
          },
          "hoverlabel": {
           "align": "left"
          },
          "hovermode": "closest",
          "mapbox": {
           "style": "light"
          },
          "paper_bgcolor": "white",
          "plot_bgcolor": "#E5ECF6",
          "polar": {
           "angularaxis": {
            "gridcolor": "white",
            "linecolor": "white",
            "ticks": ""
           },
           "bgcolor": "#E5ECF6",
           "radialaxis": {
            "gridcolor": "white",
            "linecolor": "white",
            "ticks": ""
           }
          },
          "scene": {
           "xaxis": {
            "backgroundcolor": "#E5ECF6",
            "gridcolor": "white",
            "gridwidth": 2,
            "linecolor": "white",
            "showbackground": true,
            "ticks": "",
            "zerolinecolor": "white"
           },
           "yaxis": {
            "backgroundcolor": "#E5ECF6",
            "gridcolor": "white",
            "gridwidth": 2,
            "linecolor": "white",
            "showbackground": true,
            "ticks": "",
            "zerolinecolor": "white"
           },
           "zaxis": {
            "backgroundcolor": "#E5ECF6",
            "gridcolor": "white",
            "gridwidth": 2,
            "linecolor": "white",
            "showbackground": true,
            "ticks": "",
            "zerolinecolor": "white"
           }
          },
          "shapedefaults": {
           "line": {
            "color": "#2a3f5f"
           }
          },
          "ternary": {
           "aaxis": {
            "gridcolor": "white",
            "linecolor": "white",
            "ticks": ""
           },
           "baxis": {
            "gridcolor": "white",
            "linecolor": "white",
            "ticks": ""
           },
           "bgcolor": "#E5ECF6",
           "caxis": {
            "gridcolor": "white",
            "linecolor": "white",
            "ticks": ""
           }
          },
          "title": {
           "x": 0.05
          },
          "xaxis": {
           "automargin": true,
           "gridcolor": "white",
           "linecolor": "white",
           "ticks": "",
           "title": {
            "standoff": 15
           },
           "zerolinecolor": "white",
           "zerolinewidth": 2
          },
          "yaxis": {
           "automargin": true,
           "gridcolor": "white",
           "linecolor": "white",
           "ticks": "",
           "title": {
            "standoff": 15
           },
           "zerolinecolor": "white",
           "zerolinewidth": 2
          }
         }
        },
        "title": {
         "text": "Distribution of Chest Pain Types",
         "x": 0.5
        },
        "xaxis": {
         "anchor": "y",
         "domain": [
          0,
          1
         ],
         "title": {
          "text": "Chest Pain Type"
         }
        },
        "yaxis": {
         "anchor": "x",
         "domain": [
          0,
          1
         ],
         "title": {
          "text": "Count"
         }
        }
       }
      }
     },
     "metadata": {},
     "output_type": "display_data"
    }
   ],
   "source": [
    "# count plot using Plotly Express\n",
    "fig = px.histogram(df, x='Chest Pain', color='Target', barmode='group',\n",
    "                   category_orders={'Target': ['No Disease', 'Disease']},\n",
    "                   title='Distribution of Chest Pain Types')\n",
    "\n",
    "# Update layout for better readability\n",
    "fig.update_layout(\n",
    "    xaxis_title='Chest Pain Type',\n",
    "    yaxis_title='Count',\n",
    "    title_x=0.5,\n",
    "    legend_title='Target'\n",
    "    )\n",
    "fig.show()"
   ]
  },
  {
   "cell_type": "code",
   "execution_count": 86,
   "metadata": {},
   "outputs": [
    {
     "data": {
      "application/vnd.plotly.v1+json": {
       "config": {
        "plotlyServerURL": "https://plot.ly"
       },
       "data": [
        {
         "alignmentgroup": "True",
         "hovertemplate": "Target=%{x}<br>Cholestoral=%{y}<extra></extra>",
         "legendgroup": "",
         "marker": {
          "color": "#636efa"
         },
         "name": "",
         "notched": false,
         "offsetgroup": "",
         "orientation": "v",
         "showlegend": false,
         "type": "box",
         "x": [
          "No Disease",
          "No Disease",
          "No Disease",
          "No Disease",
          "No Disease",
          "Disease",
          "No Disease",
          "No Disease",
          "No Disease",
          "No Disease",
          "Disease",
          "No Disease",
          "Disease",
          "No Disease",
          "No Disease",
          "Disease",
          "Disease",
          "No Disease",
          "Disease",
          "Disease",
          "No Disease",
          "Disease",
          "Disease",
          "Disease",
          "Disease",
          "No Disease",
          "Disease",
          "No Disease",
          "No Disease",
          "No Disease",
          "No Disease",
          "Disease",
          "No Disease",
          "No Disease",
          "Disease",
          "No Disease",
          "Disease",
          "Disease",
          "Disease",
          "No Disease",
          "Disease",
          "Disease",
          "No Disease",
          "No Disease",
          "Disease",
          "Disease",
          "Disease",
          "No Disease",
          "Disease",
          "No Disease",
          "Disease",
          "No Disease",
          "Disease",
          "No Disease",
          "No Disease",
          "No Disease",
          "Disease",
          "Disease",
          "No Disease",
          "No Disease",
          "Disease",
          "Disease",
          "No Disease",
          "Disease",
          "Disease",
          "No Disease",
          "Disease",
          "No Disease",
          "Disease",
          "No Disease",
          "No Disease",
          "No Disease",
          "No Disease",
          "No Disease",
          "No Disease",
          "Disease",
          "Disease",
          "No Disease",
          "Disease",
          "Disease",
          "No Disease",
          "No Disease",
          "No Disease",
          "Disease",
          "Disease",
          "Disease",
          "Disease",
          "No Disease",
          "No Disease",
          "No Disease",
          "Disease",
          "Disease",
          "No Disease",
          "No Disease",
          "Disease",
          "Disease",
          "Disease",
          "No Disease",
          "No Disease",
          "Disease",
          "Disease",
          "Disease",
          "Disease",
          "Disease",
          "Disease",
          "No Disease",
          "No Disease",
          "No Disease",
          "No Disease",
          "No Disease",
          "No Disease",
          "Disease",
          "No Disease",
          "No Disease",
          "No Disease",
          "No Disease",
          "No Disease",
          "No Disease",
          "Disease",
          "Disease",
          "Disease",
          "No Disease",
          "No Disease",
          "Disease",
          "No Disease",
          "Disease",
          "Disease",
          "Disease",
          "Disease",
          "Disease",
          "Disease",
          "Disease",
          "Disease",
          "Disease",
          "Disease",
          "No Disease",
          "Disease",
          "Disease",
          "Disease",
          "Disease",
          "No Disease",
          "No Disease",
          "No Disease",
          "Disease",
          "Disease",
          "No Disease",
          "Disease",
          "No Disease",
          "Disease",
          "Disease",
          "No Disease",
          "No Disease",
          "No Disease",
          "Disease",
          "No Disease",
          "Disease",
          "Disease",
          "Disease",
          "Disease",
          "Disease",
          "No Disease",
          "Disease",
          "No Disease",
          "No Disease",
          "No Disease",
          "No Disease",
          "No Disease",
          "Disease",
          "Disease",
          "Disease",
          "Disease",
          "No Disease",
          "Disease",
          "Disease",
          "No Disease",
          "No Disease",
          "No Disease",
          "No Disease",
          "No Disease",
          "No Disease",
          "No Disease",
          "Disease",
          "No Disease",
          "Disease",
          "Disease",
          "No Disease",
          "No Disease",
          "No Disease",
          "No Disease",
          "No Disease",
          "Disease",
          "Disease",
          "Disease",
          "Disease",
          "No Disease",
          "Disease",
          "No Disease",
          "Disease",
          "Disease",
          "No Disease",
          "Disease",
          "Disease",
          "Disease",
          "Disease",
          "Disease",
          "Disease",
          "No Disease",
          "Disease",
          "Disease",
          "No Disease",
          "Disease",
          "No Disease",
          "No Disease",
          "Disease",
          "Disease",
          "Disease",
          "No Disease",
          "Disease",
          "No Disease",
          "No Disease",
          "No Disease",
          "No Disease",
          "Disease",
          "Disease",
          "Disease",
          "Disease",
          "No Disease",
          "Disease",
          "Disease",
          "No Disease",
          "No Disease",
          "Disease",
          "No Disease",
          "Disease",
          "Disease",
          "Disease",
          "No Disease",
          "No Disease",
          "No Disease",
          "No Disease",
          "Disease",
          "No Disease",
          "Disease",
          "No Disease",
          "Disease",
          "Disease",
          "No Disease",
          "No Disease",
          "Disease",
          "Disease",
          "No Disease",
          "Disease",
          "No Disease",
          "No Disease",
          "No Disease",
          "Disease",
          "Disease",
          "Disease",
          "No Disease",
          "Disease",
          "Disease",
          "Disease",
          "Disease",
          "Disease",
          "No Disease",
          "Disease",
          "No Disease",
          "No Disease",
          "No Disease",
          "Disease",
          "Disease",
          "Disease",
          "Disease",
          "No Disease",
          "Disease",
          "No Disease",
          "Disease",
          "Disease",
          "No Disease",
          "Disease",
          "Disease",
          "Disease",
          "Disease",
          "Disease",
          "No Disease",
          "Disease",
          "Disease",
          "Disease",
          "Disease",
          "No Disease",
          "Disease",
          "No Disease",
          "Disease",
          "Disease",
          "No Disease",
          "No Disease",
          "No Disease",
          "No Disease",
          "Disease",
          "Disease",
          "Disease",
          "Disease",
          "Disease",
          "No Disease",
          "Disease",
          "No Disease",
          "Disease",
          "Disease",
          "No Disease",
          "Disease",
          "No Disease",
          "No Disease",
          "No Disease",
          "Disease",
          "Disease",
          "Disease",
          "Disease",
          "Disease",
          "No Disease",
          "Disease",
          "Disease",
          "Disease",
          "No Disease",
          "No Disease",
          "Disease",
          "Disease",
          "No Disease",
          "No Disease",
          "No Disease",
          "Disease",
          "Disease",
          "No Disease",
          "Disease",
          "Disease",
          "No Disease",
          "No Disease",
          "Disease",
          "Disease",
          "No Disease",
          "No Disease",
          "Disease",
          "Disease",
          "Disease",
          "Disease",
          "Disease",
          "No Disease",
          "No Disease",
          "Disease",
          "No Disease",
          "No Disease",
          "Disease",
          "No Disease",
          "No Disease",
          "Disease",
          "No Disease",
          "Disease",
          "No Disease",
          "No Disease",
          "No Disease",
          "Disease",
          "Disease",
          "Disease",
          "Disease",
          "Disease",
          "No Disease",
          "Disease",
          "No Disease",
          "No Disease",
          "Disease",
          "Disease",
          "No Disease",
          "No Disease",
          "Disease",
          "No Disease",
          "Disease",
          "Disease",
          "Disease",
          "Disease",
          "No Disease",
          "Disease",
          "No Disease",
          "No Disease",
          "No Disease",
          "No Disease",
          "No Disease",
          "Disease",
          "Disease",
          "No Disease",
          "No Disease",
          "Disease",
          "No Disease",
          "No Disease",
          "Disease",
          "No Disease",
          "No Disease",
          "Disease",
          "No Disease",
          "No Disease",
          "Disease",
          "Disease",
          "No Disease",
          "Disease",
          "Disease",
          "Disease",
          "No Disease",
          "No Disease",
          "Disease",
          "No Disease",
          "Disease",
          "No Disease",
          "Disease",
          "No Disease",
          "No Disease",
          "No Disease",
          "No Disease",
          "Disease",
          "Disease",
          "Disease",
          "Disease",
          "Disease",
          "Disease",
          "Disease",
          "Disease",
          "No Disease",
          "No Disease",
          "No Disease",
          "Disease",
          "Disease",
          "No Disease",
          "No Disease",
          "No Disease",
          "No Disease",
          "Disease",
          "Disease",
          "Disease",
          "Disease",
          "No Disease",
          "No Disease",
          "Disease",
          "No Disease",
          "No Disease",
          "No Disease",
          "No Disease",
          "Disease",
          "Disease",
          "Disease",
          "Disease",
          "No Disease",
          "Disease",
          "No Disease",
          "No Disease",
          "Disease",
          "No Disease",
          "Disease",
          "No Disease",
          "Disease",
          "No Disease",
          "Disease",
          "Disease",
          "Disease",
          "No Disease",
          "Disease",
          "Disease",
          "Disease",
          "Disease",
          "Disease",
          "Disease",
          "No Disease",
          "Disease",
          "No Disease",
          "Disease",
          "Disease",
          "Disease",
          "Disease",
          "No Disease",
          "Disease",
          "No Disease",
          "No Disease",
          "Disease",
          "No Disease",
          "No Disease",
          "No Disease",
          "No Disease",
          "Disease",
          "No Disease",
          "No Disease",
          "No Disease",
          "No Disease",
          "Disease",
          "Disease",
          "Disease",
          "Disease",
          "No Disease",
          "No Disease",
          "Disease",
          "Disease",
          "No Disease",
          "No Disease",
          "Disease",
          "Disease",
          "Disease",
          "Disease",
          "Disease",
          "Disease",
          "No Disease",
          "Disease",
          "No Disease",
          "Disease",
          "No Disease",
          "No Disease",
          "Disease",
          "No Disease",
          "No Disease",
          "No Disease",
          "Disease",
          "No Disease",
          "No Disease",
          "Disease",
          "No Disease",
          "No Disease",
          "No Disease",
          "Disease",
          "Disease",
          "No Disease",
          "No Disease",
          "Disease",
          "No Disease",
          "Disease",
          "Disease",
          "Disease",
          "No Disease",
          "Disease",
          "No Disease",
          "Disease",
          "Disease",
          "Disease",
          "Disease",
          "Disease",
          "No Disease",
          "Disease",
          "No Disease",
          "Disease",
          "Disease",
          "No Disease",
          "Disease",
          "No Disease",
          "No Disease",
          "Disease",
          "Disease",
          "Disease",
          "No Disease",
          "No Disease",
          "No Disease",
          "Disease",
          "No Disease",
          "No Disease",
          "No Disease",
          "Disease",
          "Disease",
          "No Disease",
          "Disease",
          "Disease",
          "Disease",
          "No Disease",
          "No Disease",
          "Disease",
          "Disease",
          "Disease",
          "Disease",
          "Disease",
          "Disease",
          "No Disease",
          "Disease",
          "No Disease",
          "No Disease",
          "Disease",
          "Disease",
          "No Disease",
          "Disease",
          "No Disease",
          "Disease",
          "Disease",
          "Disease",
          "No Disease",
          "No Disease",
          "Disease",
          "No Disease",
          "No Disease",
          "No Disease",
          "No Disease",
          "Disease",
          "No Disease",
          "No Disease",
          "No Disease",
          "No Disease",
          "No Disease",
          "Disease",
          "Disease",
          "No Disease",
          "Disease",
          "No Disease",
          "No Disease",
          "Disease",
          "Disease",
          "Disease",
          "Disease",
          "No Disease",
          "No Disease",
          "No Disease",
          "No Disease",
          "No Disease",
          "No Disease",
          "No Disease",
          "No Disease",
          "No Disease",
          "Disease",
          "Disease",
          "Disease",
          "Disease",
          "No Disease",
          "No Disease",
          "No Disease",
          "No Disease",
          "No Disease",
          "Disease",
          "No Disease",
          "No Disease",
          "No Disease",
          "Disease",
          "No Disease",
          "No Disease",
          "Disease",
          "Disease",
          "No Disease",
          "No Disease",
          "Disease",
          "No Disease",
          "Disease",
          "No Disease",
          "Disease",
          "Disease",
          "No Disease",
          "Disease",
          "Disease",
          "Disease",
          "No Disease",
          "No Disease",
          "Disease",
          "Disease",
          "Disease",
          "No Disease",
          "Disease",
          "Disease",
          "No Disease",
          "Disease",
          "Disease",
          "No Disease",
          "Disease",
          "No Disease",
          "Disease",
          "No Disease",
          "No Disease",
          "Disease",
          "Disease",
          "Disease",
          "Disease",
          "Disease",
          "No Disease",
          "Disease",
          "No Disease",
          "No Disease",
          "No Disease",
          "Disease",
          "Disease",
          "No Disease",
          "No Disease",
          "No Disease",
          "No Disease",
          "Disease",
          "No Disease",
          "Disease",
          "No Disease",
          "No Disease",
          "No Disease",
          "No Disease",
          "No Disease",
          "No Disease",
          "No Disease",
          "No Disease",
          "Disease",
          "Disease",
          "Disease",
          "No Disease",
          "Disease",
          "No Disease",
          "No Disease",
          "Disease",
          "No Disease",
          "No Disease",
          "No Disease",
          "Disease",
          "No Disease",
          "Disease",
          "Disease",
          "Disease",
          "No Disease",
          "No Disease",
          "Disease",
          "Disease",
          "No Disease",
          "Disease",
          "No Disease",
          "Disease",
          "Disease",
          "Disease",
          "Disease",
          "No Disease",
          "No Disease",
          "Disease",
          "Disease",
          "No Disease",
          "Disease",
          "Disease",
          "Disease",
          "Disease",
          "No Disease",
          "No Disease",
          "Disease",
          "No Disease",
          "Disease",
          "Disease",
          "No Disease",
          "Disease",
          "Disease",
          "No Disease",
          "Disease",
          "No Disease",
          "No Disease",
          "No Disease",
          "No Disease",
          "Disease",
          "Disease",
          "No Disease",
          "Disease",
          "Disease",
          "Disease",
          "No Disease",
          "No Disease",
          "Disease",
          "Disease",
          "Disease",
          "Disease",
          "Disease",
          "Disease",
          "Disease",
          "Disease",
          "No Disease",
          "Disease",
          "Disease",
          "No Disease",
          "No Disease",
          "Disease",
          "Disease",
          "Disease",
          "No Disease",
          "No Disease",
          "No Disease",
          "No Disease",
          "Disease",
          "Disease",
          "Disease",
          "Disease",
          "No Disease",
          "No Disease",
          "Disease",
          "Disease",
          "No Disease",
          "No Disease",
          "No Disease",
          "Disease",
          "No Disease",
          "No Disease",
          "Disease",
          "Disease",
          "Disease",
          "No Disease",
          "No Disease",
          "No Disease",
          "No Disease",
          "No Disease",
          "No Disease",
          "No Disease",
          "No Disease",
          "Disease",
          "No Disease",
          "Disease",
          "Disease",
          "No Disease",
          "No Disease",
          "Disease",
          "No Disease",
          "Disease",
          "No Disease",
          "No Disease",
          "Disease",
          "Disease",
          "No Disease",
          "Disease",
          "Disease",
          "Disease",
          "No Disease",
          "No Disease",
          "No Disease",
          "No Disease",
          "Disease",
          "Disease",
          "Disease",
          "Disease",
          "Disease",
          "No Disease",
          "No Disease",
          "No Disease",
          "No Disease",
          "Disease",
          "No Disease",
          "Disease",
          "Disease",
          "No Disease",
          "Disease",
          "No Disease",
          "Disease",
          "Disease",
          "Disease",
          "No Disease",
          "No Disease",
          "No Disease",
          "Disease",
          "Disease",
          "Disease",
          "Disease",
          "No Disease",
          "Disease",
          "No Disease",
          "No Disease",
          "No Disease",
          "No Disease",
          "Disease",
          "No Disease",
          "Disease",
          "No Disease",
          "No Disease",
          "Disease",
          "No Disease",
          "No Disease",
          "No Disease",
          "Disease",
          "Disease",
          "Disease",
          "Disease",
          "No Disease",
          "No Disease",
          "No Disease",
          "No Disease",
          "No Disease",
          "No Disease",
          "Disease",
          "Disease",
          "Disease",
          "Disease",
          "Disease",
          "Disease",
          "Disease",
          "Disease",
          "Disease",
          "No Disease",
          "No Disease",
          "No Disease",
          "Disease",
          "No Disease",
          "Disease",
          "Disease",
          "No Disease",
          "No Disease",
          "No Disease",
          "No Disease",
          "No Disease",
          "No Disease",
          "Disease",
          "No Disease",
          "No Disease",
          "No Disease",
          "Disease",
          "No Disease",
          "No Disease",
          "No Disease",
          "No Disease",
          "Disease",
          "Disease",
          "Disease",
          "Disease",
          "No Disease",
          "Disease",
          "No Disease",
          "No Disease",
          "Disease",
          "No Disease",
          "Disease",
          "Disease",
          "No Disease",
          "No Disease",
          "No Disease",
          "No Disease",
          "No Disease",
          "Disease",
          "No Disease",
          "No Disease",
          "No Disease",
          "Disease",
          "No Disease",
          "No Disease",
          "No Disease",
          "No Disease",
          "Disease",
          "Disease",
          "No Disease",
          "No Disease",
          "No Disease",
          "Disease",
          "No Disease",
          "No Disease",
          "No Disease",
          "No Disease",
          "Disease",
          "No Disease",
          "Disease",
          "Disease",
          "Disease",
          "No Disease",
          "Disease",
          "Disease",
          "No Disease",
          "Disease",
          "Disease",
          "Disease",
          "No Disease",
          "Disease",
          "Disease",
          "Disease",
          "No Disease",
          "Disease",
          "No Disease",
          "No Disease",
          "Disease",
          "Disease",
          "Disease",
          "Disease",
          "Disease",
          "No Disease",
          "Disease",
          "Disease",
          "Disease",
          "Disease",
          "Disease",
          "No Disease",
          "Disease",
          "Disease",
          "No Disease",
          "Disease",
          "No Disease",
          "Disease",
          "Disease",
          "Disease",
          "Disease",
          "Disease",
          "Disease",
          "No Disease",
          "No Disease",
          "Disease",
          "No Disease",
          "No Disease",
          "Disease",
          "No Disease",
          "Disease",
          "Disease",
          "Disease",
          "Disease",
          "No Disease",
          "No Disease",
          "No Disease",
          "Disease",
          "Disease",
          "No Disease",
          "Disease",
          "No Disease",
          "No Disease",
          "Disease",
          "No Disease",
          "No Disease",
          "No Disease",
          "No Disease",
          "No Disease",
          "Disease",
          "No Disease",
          "Disease",
          "Disease",
          "No Disease",
          "Disease",
          "Disease",
          "Disease",
          "No Disease",
          "No Disease",
          "Disease",
          "No Disease",
          "No Disease",
          "Disease",
          "No Disease",
          "No Disease",
          "No Disease",
          "No Disease",
          "Disease",
          "Disease",
          "No Disease",
          "No Disease",
          "Disease",
          "No Disease"
         ],
         "x0": " ",
         "xaxis": "x",
         "y": [
          212,
          203,
          174,
          203,
          294,
          248,
          318,
          289,
          249,
          286,
          149,
          341,
          210,
          298,
          204,
          210,
          308,
          266,
          244,
          211,
          185,
          223,
          208,
          252,
          209,
          307,
          233,
          319,
          256,
          327,
          169,
          244,
          131,
          269,
          196,
          231,
          213,
          271,
          263,
          229,
          360,
          258,
          330,
          249,
          342,
          226,
          203,
          228,
          278,
          230,
          283,
          241,
          175,
          188,
          217,
          217,
          193,
          245,
          212,
          232,
          204,
          278,
          299,
          212,
          204,
          288,
          197,
          315,
          215,
          164,
          326,
          207,
          249,
          177,
          256,
          257,
          255,
          187,
          201,
          201,
          233,
          149,
          231,
          175,
          215,
          220,
          211,
          249,
          268,
          193,
          267,
          209,
          187,
          169,
          208,
          236,
          303,
          282,
          248,
          197,
          213,
          126,
          309,
          257,
          186,
          275,
          299,
          281,
          223,
          206,
          197,
          226,
          256,
          335,
          218,
          307,
          254,
          177,
          204,
          295,
          309,
          169,
          282,
          417,
          260,
          240,
          302,
          197,
          223,
          192,
          240,
          256,
          203,
          196,
          309,
          225,
          342,
          325,
          257,
          235,
          274,
          197,
          234,
          182,
          204,
          167,
          295,
          172,
          298,
          321,
          318,
          283,
          300,
          258,
          330,
          309,
          199,
          258,
          564,
          157,
          304,
          222,
          304,
          274,
          249,
          326,
          184,
          354,
          315,
          160,
          247,
          283,
          240,
          199,
          239,
          288,
          283,
          246,
          197,
          409,
          187,
          211,
          293,
          180,
          308,
          289,
          167,
          249,
          254,
          309,
          250,
          221,
          564,
          234,
          286,
          212,
          234,
          260,
          318,
          200,
          209,
          182,
          298,
          227,
          278,
          244,
          218,
          250,
          175,
          281,
          240,
          299,
          243,
          315,
          308,
          266,
          254,
          157,
          311,
          286,
          236,
          254,
          211,
          199,
          261,
          232,
          149,
          242,
          205,
          228,
          300,
          236,
          258,
          306,
          269,
          227,
          149,
          261,
          230,
          244,
          288,
          212,
          175,
          185,
          245,
          219,
          283,
          311,
          220,
          180,
          275,
          160,
          353,
          289,
          198,
          394,
          183,
          325,
          231,
          302,
          226,
          232,
          222,
          342,
          225,
          208,
          282,
          237,
          224,
          265,
          211,
          263,
          220,
          206,
          228,
          283,
          207,
          219,
          289,
          198,
          234,
          192,
          204,
          211,
          224,
          265,
          313,
          302,
          340,
          223,
          223,
          259,
          243,
          212,
          288,
          299,
          237,
          270,
          192,
          325,
          204,
          227,
          342,
          282,
          196,
          267,
          242,
          220,
          218,
          294,
          260,
          256,
          269,
          269,
          199,
          244,
          313,
          252,
          177,
          216,
          264,
          275,
          309,
          246,
          245,
          294,
          283,
          276,
          322,
          216,
          215,
          269,
          250,
          214,
          206,
          270,
          126,
          273,
          256,
          253,
          175,
          226,
          269,
          199,
          157,
          246,
          243,
          267,
          247,
          263,
          302,
          200,
          335,
          201,
          261,
          243,
          176,
          286,
          204,
          216,
          222,
          231,
          213,
          246,
          236,
          246,
          230,
          229,
          240,
          175,
          341,
          353,
          214,
          284,
          177,
          228,
          221,
          303,
          237,
          186,
          218,
          224,
          239,
          270,
          282,
          175,
          209,
          304,
          246,
          233,
          319,
          264,
          175,
          164,
          330,
          278,
          274,
          167,
          228,
          233,
          188,
          149,
          245,
          204,
          207,
          256,
          211,
          234,
          243,
          231,
          198,
          249,
          276,
          322,
          288,
          204,
          273,
          223,
          209,
          360,
          303,
          265,
          354,
          319,
          309,
          305,
          201,
          168,
          247,
          243,
          212,
          225,
          318,
          250,
          268,
          354,
          249,
          229,
          253,
          284,
          244,
          293,
          274,
          168,
          253,
          205,
          246,
          289,
          295,
          230,
          407,
          271,
          228,
          271,
          225,
          234,
          243,
          220,
          247,
          261,
          254,
          255,
          186,
          211,
          564,
          175,
          219,
          275,
          243,
          286,
          240,
          313,
          197,
          214,
          229,
          126,
          289,
          229,
          321,
          216,
          305,
          407,
          298,
          192,
          248,
          281,
          172,
          254,
          288,
          243,
          303,
          168,
          309,
          353,
          245,
          234,
          274,
          232,
          239,
          177,
          149,
          183,
          177,
          234,
          243,
          242,
          260,
          204,
          288,
          327,
          288,
          177,
          290,
          206,
          220,
          188,
          206,
          198,
          188,
          203,
          177,
          220,
          277,
          203,
          230,
          256,
          164,
          209,
          270,
          234,
          258,
          269,
          197,
          234,
          267,
          197,
          219,
          325,
          249,
          227,
          259,
          235,
          394,
          204,
          273,
          229,
          322,
          223,
          295,
          277,
          254,
          286,
          341,
          197,
          234,
          254,
          177,
          222,
          199,
          237,
          197,
          269,
          209,
          290,
          184,
          234,
          254,
          214,
          201,
          240,
          304,
          282,
          182,
          290,
          258,
          247,
          298,
          322,
          394,
          218,
          197,
          235,
          262,
          177,
          353,
          199,
          309,
          176,
          307,
          286,
          269,
          269,
          269,
          269,
          212,
          203,
          221,
          175,
          284,
          195,
          263,
          311,
          340,
          195,
          253,
          265,
          212,
          315,
          212,
          327,
          341,
          205,
          225,
          217,
          305,
          219,
          303,
          306,
          266,
          248,
          274,
          256,
          294,
          234,
          270,
          254,
          224,
          231,
          239,
          282,
          264,
          266,
          234,
          166,
          212,
          264,
          249,
          340,
          282,
          197,
          243,
          409,
          263,
          177,
          226,
          243,
          243,
          303,
          149,
          234,
          267,
          157,
          226,
          283,
          306,
          235,
          236,
          220,
          309,
          271,
          166,
          318,
          204,
          248,
          226,
          417,
          192,
          261,
          204,
          246,
          330,
          212,
          277,
          258,
          330,
          234,
          253,
          254,
          268,
          274,
          295,
          326,
          176,
          177,
          185,
          407,
          204,
          300,
          288,
          304,
          240,
          250,
          203,
          195,
          219,
          282,
          219,
          212,
          212,
          282,
          214,
          198,
          302,
          201,
          227,
          216,
          229,
          294,
          178,
          264,
          221,
          198,
          160,
          226,
          213,
          245,
          205,
          256,
          250,
          233,
          335,
          260,
          277,
          211,
          269,
          258,
          274,
          221,
          311,
          250,
          220,
          230,
          227,
          141,
          204,
          196,
          239,
          229,
          300,
          255,
          235,
          268,
          330,
          220,
          318,
          222,
          335,
          230,
          226,
          220,
          262,
          360,
          245,
          177,
          256,
          255,
          246,
          228,
          204,
          330,
          276,
          269,
          221,
          283,
          187,
          335,
          335,
          193,
          197,
          265,
          203,
          236,
          244,
          225,
          275,
          222,
          307,
          282,
          204,
          210,
          169,
          218,
          303,
          240,
          232,
          289,
          254,
          298,
          294,
          281,
          239,
          239,
          193,
          178,
          234,
          208,
          203,
          225,
          288,
          303,
          229,
          233,
          197,
          230,
          197,
          226,
          276,
          233,
          227,
          214,
          167,
          261,
          268,
          203,
          208,
          240,
          245,
          260,
          244,
          225,
          207,
          268,
          253,
          239,
          166,
          252,
          180,
          229,
          233,
          266,
          222,
          220,
          277,
          217,
          315,
          149,
          234,
          199,
          213,
          261,
          174,
          183,
          230,
          273,
          293,
          184,
          183,
          166,
          283,
          255,
          284,
          250,
          255,
          229,
          282,
          197,
          211,
          303,
          211,
          299,
          230,
          335,
          288,
          212,
          273,
          240,
          250,
          235,
          240,
          236,
          275,
          321,
          227,
          192,
          273,
          206,
          207,
          213,
          188,
          271,
          207,
          232,
          131,
          274,
          174,
          289,
          260,
          201,
          258,
          407,
          205,
          325,
          239,
          204,
          299,
          263,
          270,
          201,
          265,
          234,
          234,
          265,
          268,
          218,
          262,
          246,
          226,
          244,
          267,
          200,
          233,
          319,
          198,
          208,
          212,
          249,
          254,
          253,
          204,
          231,
          219,
          218,
          263,
          239,
          330,
          131,
          206,
          240,
          266,
          206,
          254,
          223,
          308,
          231,
          180,
          240,
          315,
          335,
          226,
          271,
          241,
          196,
          239,
          177,
          228,
          193,
          277,
          201,
          174,
          207,
          286,
          263,
          304,
          236,
          264,
          231,
          269,
          233,
          417,
          239,
          196,
          248,
          233,
          241,
          141,
          197,
          259,
          178,
          203,
          325,
          175,
          199,
          186,
          245,
          211,
          219,
          269,
          205,
          197,
          309,
          192,
          219,
          223,
          263,
          234,
          231,
          327,
          232,
          293,
          302,
          236,
          230,
          254,
          247,
          239,
          263,
          409,
          188,
          315,
          254,
          212,
          226,
          212,
          233,
          308,
          205,
          211,
          193,
          295,
          223,
          299,
          308,
          229,
          318,
          141,
          216,
          282,
          282,
          172,
          204,
          221,
          258,
          275,
          254,
          188
         ],
         "y0": " ",
         "yaxis": "y"
        }
       ],
       "layout": {
        "boxmode": "group",
        "legend": {
         "title": {
          "text": "Target"
         },
         "tracegroupgap": 0
        },
        "template": {
         "data": {
          "bar": [
           {
            "error_x": {
             "color": "#2a3f5f"
            },
            "error_y": {
             "color": "#2a3f5f"
            },
            "marker": {
             "line": {
              "color": "#E5ECF6",
              "width": 0.5
             },
             "pattern": {
              "fillmode": "overlay",
              "size": 10,
              "solidity": 0.2
             }
            },
            "type": "bar"
           }
          ],
          "barpolar": [
           {
            "marker": {
             "line": {
              "color": "#E5ECF6",
              "width": 0.5
             },
             "pattern": {
              "fillmode": "overlay",
              "size": 10,
              "solidity": 0.2
             }
            },
            "type": "barpolar"
           }
          ],
          "carpet": [
           {
            "aaxis": {
             "endlinecolor": "#2a3f5f",
             "gridcolor": "white",
             "linecolor": "white",
             "minorgridcolor": "white",
             "startlinecolor": "#2a3f5f"
            },
            "baxis": {
             "endlinecolor": "#2a3f5f",
             "gridcolor": "white",
             "linecolor": "white",
             "minorgridcolor": "white",
             "startlinecolor": "#2a3f5f"
            },
            "type": "carpet"
           }
          ],
          "choropleth": [
           {
            "colorbar": {
             "outlinewidth": 0,
             "ticks": ""
            },
            "type": "choropleth"
           }
          ],
          "contour": [
           {
            "colorbar": {
             "outlinewidth": 0,
             "ticks": ""
            },
            "colorscale": [
             [
              0,
              "#0d0887"
             ],
             [
              0.1111111111111111,
              "#46039f"
             ],
             [
              0.2222222222222222,
              "#7201a8"
             ],
             [
              0.3333333333333333,
              "#9c179e"
             ],
             [
              0.4444444444444444,
              "#bd3786"
             ],
             [
              0.5555555555555556,
              "#d8576b"
             ],
             [
              0.6666666666666666,
              "#ed7953"
             ],
             [
              0.7777777777777778,
              "#fb9f3a"
             ],
             [
              0.8888888888888888,
              "#fdca26"
             ],
             [
              1,
              "#f0f921"
             ]
            ],
            "type": "contour"
           }
          ],
          "contourcarpet": [
           {
            "colorbar": {
             "outlinewidth": 0,
             "ticks": ""
            },
            "type": "contourcarpet"
           }
          ],
          "heatmap": [
           {
            "colorbar": {
             "outlinewidth": 0,
             "ticks": ""
            },
            "colorscale": [
             [
              0,
              "#0d0887"
             ],
             [
              0.1111111111111111,
              "#46039f"
             ],
             [
              0.2222222222222222,
              "#7201a8"
             ],
             [
              0.3333333333333333,
              "#9c179e"
             ],
             [
              0.4444444444444444,
              "#bd3786"
             ],
             [
              0.5555555555555556,
              "#d8576b"
             ],
             [
              0.6666666666666666,
              "#ed7953"
             ],
             [
              0.7777777777777778,
              "#fb9f3a"
             ],
             [
              0.8888888888888888,
              "#fdca26"
             ],
             [
              1,
              "#f0f921"
             ]
            ],
            "type": "heatmap"
           }
          ],
          "heatmapgl": [
           {
            "colorbar": {
             "outlinewidth": 0,
             "ticks": ""
            },
            "colorscale": [
             [
              0,
              "#0d0887"
             ],
             [
              0.1111111111111111,
              "#46039f"
             ],
             [
              0.2222222222222222,
              "#7201a8"
             ],
             [
              0.3333333333333333,
              "#9c179e"
             ],
             [
              0.4444444444444444,
              "#bd3786"
             ],
             [
              0.5555555555555556,
              "#d8576b"
             ],
             [
              0.6666666666666666,
              "#ed7953"
             ],
             [
              0.7777777777777778,
              "#fb9f3a"
             ],
             [
              0.8888888888888888,
              "#fdca26"
             ],
             [
              1,
              "#f0f921"
             ]
            ],
            "type": "heatmapgl"
           }
          ],
          "histogram": [
           {
            "marker": {
             "pattern": {
              "fillmode": "overlay",
              "size": 10,
              "solidity": 0.2
             }
            },
            "type": "histogram"
           }
          ],
          "histogram2d": [
           {
            "colorbar": {
             "outlinewidth": 0,
             "ticks": ""
            },
            "colorscale": [
             [
              0,
              "#0d0887"
             ],
             [
              0.1111111111111111,
              "#46039f"
             ],
             [
              0.2222222222222222,
              "#7201a8"
             ],
             [
              0.3333333333333333,
              "#9c179e"
             ],
             [
              0.4444444444444444,
              "#bd3786"
             ],
             [
              0.5555555555555556,
              "#d8576b"
             ],
             [
              0.6666666666666666,
              "#ed7953"
             ],
             [
              0.7777777777777778,
              "#fb9f3a"
             ],
             [
              0.8888888888888888,
              "#fdca26"
             ],
             [
              1,
              "#f0f921"
             ]
            ],
            "type": "histogram2d"
           }
          ],
          "histogram2dcontour": [
           {
            "colorbar": {
             "outlinewidth": 0,
             "ticks": ""
            },
            "colorscale": [
             [
              0,
              "#0d0887"
             ],
             [
              0.1111111111111111,
              "#46039f"
             ],
             [
              0.2222222222222222,
              "#7201a8"
             ],
             [
              0.3333333333333333,
              "#9c179e"
             ],
             [
              0.4444444444444444,
              "#bd3786"
             ],
             [
              0.5555555555555556,
              "#d8576b"
             ],
             [
              0.6666666666666666,
              "#ed7953"
             ],
             [
              0.7777777777777778,
              "#fb9f3a"
             ],
             [
              0.8888888888888888,
              "#fdca26"
             ],
             [
              1,
              "#f0f921"
             ]
            ],
            "type": "histogram2dcontour"
           }
          ],
          "mesh3d": [
           {
            "colorbar": {
             "outlinewidth": 0,
             "ticks": ""
            },
            "type": "mesh3d"
           }
          ],
          "parcoords": [
           {
            "line": {
             "colorbar": {
              "outlinewidth": 0,
              "ticks": ""
             }
            },
            "type": "parcoords"
           }
          ],
          "pie": [
           {
            "automargin": true,
            "type": "pie"
           }
          ],
          "scatter": [
           {
            "fillpattern": {
             "fillmode": "overlay",
             "size": 10,
             "solidity": 0.2
            },
            "type": "scatter"
           }
          ],
          "scatter3d": [
           {
            "line": {
             "colorbar": {
              "outlinewidth": 0,
              "ticks": ""
             }
            },
            "marker": {
             "colorbar": {
              "outlinewidth": 0,
              "ticks": ""
             }
            },
            "type": "scatter3d"
           }
          ],
          "scattercarpet": [
           {
            "marker": {
             "colorbar": {
              "outlinewidth": 0,
              "ticks": ""
             }
            },
            "type": "scattercarpet"
           }
          ],
          "scattergeo": [
           {
            "marker": {
             "colorbar": {
              "outlinewidth": 0,
              "ticks": ""
             }
            },
            "type": "scattergeo"
           }
          ],
          "scattergl": [
           {
            "marker": {
             "colorbar": {
              "outlinewidth": 0,
              "ticks": ""
             }
            },
            "type": "scattergl"
           }
          ],
          "scattermapbox": [
           {
            "marker": {
             "colorbar": {
              "outlinewidth": 0,
              "ticks": ""
             }
            },
            "type": "scattermapbox"
           }
          ],
          "scatterpolar": [
           {
            "marker": {
             "colorbar": {
              "outlinewidth": 0,
              "ticks": ""
             }
            },
            "type": "scatterpolar"
           }
          ],
          "scatterpolargl": [
           {
            "marker": {
             "colorbar": {
              "outlinewidth": 0,
              "ticks": ""
             }
            },
            "type": "scatterpolargl"
           }
          ],
          "scatterternary": [
           {
            "marker": {
             "colorbar": {
              "outlinewidth": 0,
              "ticks": ""
             }
            },
            "type": "scatterternary"
           }
          ],
          "surface": [
           {
            "colorbar": {
             "outlinewidth": 0,
             "ticks": ""
            },
            "colorscale": [
             [
              0,
              "#0d0887"
             ],
             [
              0.1111111111111111,
              "#46039f"
             ],
             [
              0.2222222222222222,
              "#7201a8"
             ],
             [
              0.3333333333333333,
              "#9c179e"
             ],
             [
              0.4444444444444444,
              "#bd3786"
             ],
             [
              0.5555555555555556,
              "#d8576b"
             ],
             [
              0.6666666666666666,
              "#ed7953"
             ],
             [
              0.7777777777777778,
              "#fb9f3a"
             ],
             [
              0.8888888888888888,
              "#fdca26"
             ],
             [
              1,
              "#f0f921"
             ]
            ],
            "type": "surface"
           }
          ],
          "table": [
           {
            "cells": {
             "fill": {
              "color": "#EBF0F8"
             },
             "line": {
              "color": "white"
             }
            },
            "header": {
             "fill": {
              "color": "#C8D4E3"
             },
             "line": {
              "color": "white"
             }
            },
            "type": "table"
           }
          ]
         },
         "layout": {
          "annotationdefaults": {
           "arrowcolor": "#2a3f5f",
           "arrowhead": 0,
           "arrowwidth": 1
          },
          "autotypenumbers": "strict",
          "coloraxis": {
           "colorbar": {
            "outlinewidth": 0,
            "ticks": ""
           }
          },
          "colorscale": {
           "diverging": [
            [
             0,
             "#8e0152"
            ],
            [
             0.1,
             "#c51b7d"
            ],
            [
             0.2,
             "#de77ae"
            ],
            [
             0.3,
             "#f1b6da"
            ],
            [
             0.4,
             "#fde0ef"
            ],
            [
             0.5,
             "#f7f7f7"
            ],
            [
             0.6,
             "#e6f5d0"
            ],
            [
             0.7,
             "#b8e186"
            ],
            [
             0.8,
             "#7fbc41"
            ],
            [
             0.9,
             "#4d9221"
            ],
            [
             1,
             "#276419"
            ]
           ],
           "sequential": [
            [
             0,
             "#0d0887"
            ],
            [
             0.1111111111111111,
             "#46039f"
            ],
            [
             0.2222222222222222,
             "#7201a8"
            ],
            [
             0.3333333333333333,
             "#9c179e"
            ],
            [
             0.4444444444444444,
             "#bd3786"
            ],
            [
             0.5555555555555556,
             "#d8576b"
            ],
            [
             0.6666666666666666,
             "#ed7953"
            ],
            [
             0.7777777777777778,
             "#fb9f3a"
            ],
            [
             0.8888888888888888,
             "#fdca26"
            ],
            [
             1,
             "#f0f921"
            ]
           ],
           "sequentialminus": [
            [
             0,
             "#0d0887"
            ],
            [
             0.1111111111111111,
             "#46039f"
            ],
            [
             0.2222222222222222,
             "#7201a8"
            ],
            [
             0.3333333333333333,
             "#9c179e"
            ],
            [
             0.4444444444444444,
             "#bd3786"
            ],
            [
             0.5555555555555556,
             "#d8576b"
            ],
            [
             0.6666666666666666,
             "#ed7953"
            ],
            [
             0.7777777777777778,
             "#fb9f3a"
            ],
            [
             0.8888888888888888,
             "#fdca26"
            ],
            [
             1,
             "#f0f921"
            ]
           ]
          },
          "colorway": [
           "#636efa",
           "#EF553B",
           "#00cc96",
           "#ab63fa",
           "#FFA15A",
           "#19d3f3",
           "#FF6692",
           "#B6E880",
           "#FF97FF",
           "#FECB52"
          ],
          "font": {
           "color": "#2a3f5f"
          },
          "geo": {
           "bgcolor": "white",
           "lakecolor": "white",
           "landcolor": "#E5ECF6",
           "showlakes": true,
           "showland": true,
           "subunitcolor": "white"
          },
          "hoverlabel": {
           "align": "left"
          },
          "hovermode": "closest",
          "mapbox": {
           "style": "light"
          },
          "paper_bgcolor": "white",
          "plot_bgcolor": "#E5ECF6",
          "polar": {
           "angularaxis": {
            "gridcolor": "white",
            "linecolor": "white",
            "ticks": ""
           },
           "bgcolor": "#E5ECF6",
           "radialaxis": {
            "gridcolor": "white",
            "linecolor": "white",
            "ticks": ""
           }
          },
          "scene": {
           "xaxis": {
            "backgroundcolor": "#E5ECF6",
            "gridcolor": "white",
            "gridwidth": 2,
            "linecolor": "white",
            "showbackground": true,
            "ticks": "",
            "zerolinecolor": "white"
           },
           "yaxis": {
            "backgroundcolor": "#E5ECF6",
            "gridcolor": "white",
            "gridwidth": 2,
            "linecolor": "white",
            "showbackground": true,
            "ticks": "",
            "zerolinecolor": "white"
           },
           "zaxis": {
            "backgroundcolor": "#E5ECF6",
            "gridcolor": "white",
            "gridwidth": 2,
            "linecolor": "white",
            "showbackground": true,
            "ticks": "",
            "zerolinecolor": "white"
           }
          },
          "shapedefaults": {
           "line": {
            "color": "#2a3f5f"
           }
          },
          "ternary": {
           "aaxis": {
            "gridcolor": "white",
            "linecolor": "white",
            "ticks": ""
           },
           "baxis": {
            "gridcolor": "white",
            "linecolor": "white",
            "ticks": ""
           },
           "bgcolor": "#E5ECF6",
           "caxis": {
            "gridcolor": "white",
            "linecolor": "white",
            "ticks": ""
           }
          },
          "title": {
           "x": 0.05
          },
          "xaxis": {
           "automargin": true,
           "gridcolor": "white",
           "linecolor": "white",
           "ticks": "",
           "title": {
            "standoff": 15
           },
           "zerolinecolor": "white",
           "zerolinewidth": 2
          },
          "yaxis": {
           "automargin": true,
           "gridcolor": "white",
           "linecolor": "white",
           "ticks": "",
           "title": {
            "standoff": 15
           },
           "zerolinecolor": "white",
           "zerolinewidth": 2
          }
         }
        },
        "title": {
         "text": "Cholestoral Levels by Target",
         "x": 0.5
        },
        "xaxis": {
         "anchor": "y",
         "categoryarray": [
          "No Disease",
          "Disease"
         ],
         "categoryorder": "array",
         "domain": [
          0,
          1
         ],
         "title": {
          "text": "Target"
         }
        },
        "yaxis": {
         "anchor": "x",
         "domain": [
          0,
          1
         ],
         "title": {
          "text": "Cholestoral"
         }
        }
       }
      }
     },
     "metadata": {},
     "output_type": "display_data"
    }
   ],
   "source": [
    "# Create a box plot using Plotly Express\n",
    "fig = px.box(df, x='Target', y='Cholestoral', \n",
    "             category_orders={'Target': ['No Disease', 'Disease']},\n",
    "             title='Cholestoral Levels by Target')\n",
    "\n",
    "# Update layout for better readability\n",
    "fig.update_layout(\n",
    "    xaxis_title='Target',\n",
    "    yaxis_title='Cholestoral',\n",
    "    title_x=0.5,\n",
    "    legend_title='Target')\n",
    "\n",
    "fig.show()"
   ]
  },
  {
   "cell_type": "code",
   "execution_count": 92,
   "metadata": {},
   "outputs": [
    {
     "data": {
      "application/vnd.plotly.v1+json": {
       "config": {
        "plotlyServerURL": "https://plot.ly"
       },
       "data": [
        {
         "alignmentgroup": "True",
         "bingroup": "x",
         "hovertemplate": "Target=No Disease<br>Sex=%{x}<br>count=%{y}<extra></extra>",
         "legendgroup": "No Disease",
         "marker": {
          "color": "#636efa",
          "pattern": {
           "shape": ""
          }
         },
         "name": "No Disease",
         "offsetgroup": "No Disease",
         "orientation": "v",
         "showlegend": true,
         "type": "histogram",
         "x": [
          "Male",
          "Male",
          "Male",
          "Male",
          "Female",
          "Male",
          "Male",
          "Male",
          "Male",
          "Female",
          "Male",
          "Male",
          "Male",
          "Male",
          "Female",
          "Female",
          "Male",
          "Female",
          "Male",
          "Male",
          "Male",
          "Male",
          "Male",
          "Female",
          "Male",
          "Female",
          "Male",
          "Female",
          "Male",
          "Male",
          "Male",
          "Male",
          "Male",
          "Male",
          "Male",
          "Male",
          "Female",
          "Male",
          "Male",
          "Male",
          "Male",
          "Male",
          "Male",
          "Male",
          "Male",
          "Male",
          "Female",
          "Female",
          "Male",
          "Male",
          "Male",
          "Male",
          "Male",
          "Male",
          "Male",
          "Male",
          "Male",
          "Male",
          "Male",
          "Male",
          "Male",
          "Male",
          "Female",
          "Male",
          "Male",
          "Male",
          "Male",
          "Male",
          "Female",
          "Male",
          "Female",
          "Male",
          "Male",
          "Male",
          "Male",
          "Male",
          "Male",
          "Male",
          "Male",
          "Male",
          "Male",
          "Male",
          "Male",
          "Male",
          "Male",
          "Male",
          "Female",
          "Male",
          "Male",
          "Male",
          "Female",
          "Male",
          "Male",
          "Male",
          "Male",
          "Male",
          "Male",
          "Male",
          "Male",
          "Male",
          "Male",
          "Male",
          "Male",
          "Male",
          "Male",
          "Male",
          "Male",
          "Male",
          "Female",
          "Male",
          "Male",
          "Female",
          "Male",
          "Male",
          "Male",
          "Male",
          "Male",
          "Female",
          "Male",
          "Male",
          "Male",
          "Male",
          "Male",
          "Male",
          "Male",
          "Male",
          "Male",
          "Female",
          "Male",
          "Male",
          "Male",
          "Male",
          "Male",
          "Male",
          "Male",
          "Male",
          "Male",
          "Female",
          "Male",
          "Male",
          "Male",
          "Male",
          "Male",
          "Male",
          "Male",
          "Male",
          "Male",
          "Male",
          "Male",
          "Male",
          "Male",
          "Male",
          "Male",
          "Female",
          "Male",
          "Male",
          "Male",
          "Male",
          "Male",
          "Male",
          "Male",
          "Female",
          "Male",
          "Male",
          "Male",
          "Male",
          "Male",
          "Male",
          "Female",
          "Male",
          "Male",
          "Female",
          "Male",
          "Male",
          "Male",
          "Male",
          "Male",
          "Male",
          "Male",
          "Male",
          "Male",
          "Male",
          "Female",
          "Male",
          "Female",
          "Male",
          "Male",
          "Male",
          "Male",
          "Male",
          "Male",
          "Male",
          "Male",
          "Male",
          "Male",
          "Male",
          "Male",
          "Female",
          "Male",
          "Female",
          "Male",
          "Male",
          "Male",
          "Female",
          "Female",
          "Male",
          "Male",
          "Female",
          "Male",
          "Male",
          "Male",
          "Male",
          "Female",
          "Female",
          "Female",
          "Male",
          "Male",
          "Male",
          "Male",
          "Male",
          "Male",
          "Male",
          "Male",
          "Female",
          "Female",
          "Male",
          "Male",
          "Male",
          "Male",
          "Male",
          "Male",
          "Male",
          "Male",
          "Male",
          "Male",
          "Male",
          "Female",
          "Female",
          "Male",
          "Male",
          "Male",
          "Male",
          "Male",
          "Male",
          "Male",
          "Male",
          "Male",
          "Male",
          "Female",
          "Female",
          "Female",
          "Male",
          "Male",
          "Male",
          "Male",
          "Male",
          "Male",
          "Male",
          "Female",
          "Male",
          "Male",
          "Male",
          "Male",
          "Male",
          "Male",
          "Male",
          "Male",
          "Male",
          "Male",
          "Male",
          "Male",
          "Male",
          "Male",
          "Male",
          "Female",
          "Male",
          "Female",
          "Male",
          "Female",
          "Male",
          "Male",
          "Male",
          "Female",
          "Male",
          "Male",
          "Male",
          "Male",
          "Female",
          "Female",
          "Female",
          "Female",
          "Male",
          "Female",
          "Male",
          "Male",
          "Male",
          "Female",
          "Male",
          "Male",
          "Male",
          "Male",
          "Male",
          "Male",
          "Male",
          "Male",
          "Female",
          "Male",
          "Female",
          "Male",
          "Male",
          "Male",
          "Male",
          "Female",
          "Male",
          "Male",
          "Male",
          "Male",
          "Male",
          "Female",
          "Male",
          "Male",
          "Male",
          "Male",
          "Male",
          "Male",
          "Male",
          "Male",
          "Male",
          "Male",
          "Female",
          "Male",
          "Male",
          "Female",
          "Male",
          "Male",
          "Male",
          "Male",
          "Male",
          "Male",
          "Male",
          "Male",
          "Male",
          "Male",
          "Male",
          "Female",
          "Male",
          "Male",
          "Female",
          "Male",
          "Male",
          "Male",
          "Male",
          "Male",
          "Male",
          "Male",
          "Male",
          "Male",
          "Male",
          "Male",
          "Male",
          "Female",
          "Male",
          "Male",
          "Male",
          "Male",
          "Male",
          "Female",
          "Female",
          "Female",
          "Male",
          "Male",
          "Male",
          "Male",
          "Male",
          "Male",
          "Male",
          "Female",
          "Male",
          "Male",
          "Male",
          "Male",
          "Male",
          "Female",
          "Male",
          "Male",
          "Female",
          "Male",
          "Male",
          "Male",
          "Male",
          "Female",
          "Male",
          "Female",
          "Male",
          "Female",
          "Male",
          "Male",
          "Male",
          "Male",
          "Male",
          "Male",
          "Male",
          "Male",
          "Male",
          "Male",
          "Male",
          "Male",
          "Male",
          "Male",
          "Male",
          "Male",
          "Male",
          "Male",
          "Male",
          "Male",
          "Male",
          "Male",
          "Male",
          "Male",
          "Male",
          "Male",
          "Male",
          "Male",
          "Male",
          "Male",
          "Male",
          "Male",
          "Male",
          "Male",
          "Female",
          "Female",
          "Female",
          "Male",
          "Male",
          "Male",
          "Female",
          "Male",
          "Female",
          "Male",
          "Male",
          "Male",
          "Male",
          "Male",
          "Female",
          "Male",
          "Male",
          "Male",
          "Male",
          "Male",
          "Male",
          "Male",
          "Male",
          "Female",
          "Male",
          "Male",
          "Male",
          "Male",
          "Male",
          "Male",
          "Male",
          "Male",
          "Female",
          "Female",
          "Male",
          "Male",
          "Female",
          "Male",
          "Female",
          "Male",
          "Male",
          "Male",
          "Female",
          "Male",
          "Male",
          "Male",
          "Female",
          "Male",
          "Male",
          "Male",
          "Male",
          "Male",
          "Female",
          "Male",
          "Male",
          "Male",
          "Male",
          "Male",
          "Female",
          "Male",
          "Male",
          "Male",
          "Male",
          "Male",
          "Male",
          "Male",
          "Male",
          "Male",
          "Male",
          "Male"
         ],
         "xaxis": "x",
         "yaxis": "y"
        },
        {
         "alignmentgroup": "True",
         "bingroup": "x",
         "hovertemplate": "Target=Disease<br>Sex=%{x}<br>count=%{y}<extra></extra>",
         "legendgroup": "Disease",
         "marker": {
          "color": "#EF553B",
          "pattern": {
           "shape": ""
          }
         },
         "name": "Disease",
         "offsetgroup": "Disease",
         "orientation": "v",
         "showlegend": true,
         "type": "histogram",
         "x": [
          "Female",
          "Female",
          "Female",
          "Female",
          "Female",
          "Female",
          "Male",
          "Female",
          "Male",
          "Female",
          "Female",
          "Male",
          "Female",
          "Male",
          "Male",
          "Male",
          "Male",
          "Female",
          "Male",
          "Female",
          "Male",
          "Male",
          "Female",
          "Female",
          "Male",
          "Male",
          "Male",
          "Male",
          "Female",
          "Male",
          "Male",
          "Male",
          "Female",
          "Male",
          "Male",
          "Male",
          "Male",
          "Male",
          "Female",
          "Male",
          "Male",
          "Female",
          "Female",
          "Male",
          "Female",
          "Female",
          "Female",
          "Female",
          "Male",
          "Male",
          "Male",
          "Male",
          "Male",
          "Male",
          "Male",
          "Male",
          "Female",
          "Female",
          "Male",
          "Male",
          "Male",
          "Male",
          "Female",
          "Female",
          "Male",
          "Male",
          "Male",
          "Female",
          "Female",
          "Male",
          "Male",
          "Male",
          "Male",
          "Female",
          "Male",
          "Male",
          "Male",
          "Male",
          "Male",
          "Male",
          "Female",
          "Male",
          "Male",
          "Female",
          "Male",
          "Female",
          "Male",
          "Male",
          "Female",
          "Male",
          "Male",
          "Male",
          "Male",
          "Male",
          "Female",
          "Male",
          "Male",
          "Male",
          "Female",
          "Female",
          "Male",
          "Male",
          "Male",
          "Female",
          "Male",
          "Male",
          "Male",
          "Male",
          "Male",
          "Male",
          "Male",
          "Male",
          "Male",
          "Female",
          "Male",
          "Male",
          "Female",
          "Male",
          "Male",
          "Female",
          "Female",
          "Male",
          "Female",
          "Male",
          "Male",
          "Male",
          "Female",
          "Male",
          "Female",
          "Female",
          "Female",
          "Female",
          "Male",
          "Male",
          "Male",
          "Male",
          "Female",
          "Male",
          "Female",
          "Male",
          "Male",
          "Female",
          "Male",
          "Male",
          "Male",
          "Female",
          "Female",
          "Male",
          "Female",
          "Male",
          "Female",
          "Female",
          "Female",
          "Female",
          "Male",
          "Male",
          "Male",
          "Male",
          "Male",
          "Female",
          "Male",
          "Female",
          "Female",
          "Female",
          "Male",
          "Female",
          "Female",
          "Male",
          "Male",
          "Female",
          "Female",
          "Female",
          "Female",
          "Female",
          "Male",
          "Female",
          "Female",
          "Female",
          "Male",
          "Female",
          "Male",
          "Male",
          "Male",
          "Male",
          "Female",
          "Male",
          "Male",
          "Female",
          "Male",
          "Male",
          "Female",
          "Female",
          "Male",
          "Male",
          "Female",
          "Male",
          "Male",
          "Male",
          "Male",
          "Female",
          "Female",
          "Male",
          "Male",
          "Female",
          "Male",
          "Male",
          "Female",
          "Male",
          "Male",
          "Female",
          "Male",
          "Male",
          "Female",
          "Male",
          "Female",
          "Male",
          "Female",
          "Female",
          "Female",
          "Male",
          "Male",
          "Female",
          "Female",
          "Female",
          "Female",
          "Female",
          "Female",
          "Male",
          "Female",
          "Male",
          "Female",
          "Female",
          "Male",
          "Male",
          "Male",
          "Male",
          "Male",
          "Female",
          "Female",
          "Female",
          "Male",
          "Female",
          "Male",
          "Male",
          "Male",
          "Male",
          "Male",
          "Female",
          "Male",
          "Male",
          "Male",
          "Female",
          "Female",
          "Female",
          "Male",
          "Male",
          "Male",
          "Male",
          "Female",
          "Male",
          "Female",
          "Male",
          "Male",
          "Male",
          "Male",
          "Female",
          "Female",
          "Female",
          "Female",
          "Female",
          "Female",
          "Female",
          "Female",
          "Male",
          "Female",
          "Male",
          "Female",
          "Female",
          "Female",
          "Male",
          "Male",
          "Female",
          "Female",
          "Female",
          "Female",
          "Female",
          "Male",
          "Male",
          "Male",
          "Female",
          "Male",
          "Female",
          "Female",
          "Male",
          "Male",
          "Male",
          "Female",
          "Female",
          "Female",
          "Female",
          "Female",
          "Female",
          "Male",
          "Female",
          "Male",
          "Female",
          "Male",
          "Male",
          "Male",
          "Female",
          "Male",
          "Male",
          "Male",
          "Male",
          "Female",
          "Male",
          "Male",
          "Female",
          "Female",
          "Female",
          "Male",
          "Female",
          "Female",
          "Male",
          "Female",
          "Male",
          "Male",
          "Female",
          "Male",
          "Female",
          "Female",
          "Female",
          "Female",
          "Female",
          "Male",
          "Male",
          "Male",
          "Female",
          "Female",
          "Female",
          "Male",
          "Female",
          "Female",
          "Male",
          "Female",
          "Male",
          "Male",
          "Female",
          "Female",
          "Female",
          "Male",
          "Male",
          "Male",
          "Male",
          "Female",
          "Male",
          "Female",
          "Male",
          "Female",
          "Female",
          "Female",
          "Male",
          "Female",
          "Male",
          "Male",
          "Female",
          "Female",
          "Male",
          "Female",
          "Female",
          "Male",
          "Male",
          "Female",
          "Male",
          "Male",
          "Female",
          "Female",
          "Female",
          "Male",
          "Female",
          "Male",
          "Male",
          "Female",
          "Male",
          "Male",
          "Female",
          "Male",
          "Female",
          "Male",
          "Male",
          "Male",
          "Male",
          "Female",
          "Male",
          "Male",
          "Female",
          "Male",
          "Male",
          "Female",
          "Female",
          "Male",
          "Female",
          "Male",
          "Female",
          "Male",
          "Female",
          "Female",
          "Male",
          "Female",
          "Female",
          "Male",
          "Male",
          "Female",
          "Male",
          "Male",
          "Male",
          "Male",
          "Female",
          "Male",
          "Male",
          "Male",
          "Female",
          "Male",
          "Male",
          "Male",
          "Male",
          "Male",
          "Male",
          "Female",
          "Male",
          "Male",
          "Male",
          "Male",
          "Male",
          "Female",
          "Male",
          "Male",
          "Male",
          "Female",
          "Female",
          "Female",
          "Male",
          "Male",
          "Female",
          "Male",
          "Female",
          "Female",
          "Male",
          "Male",
          "Male",
          "Male",
          "Female",
          "Male",
          "Male",
          "Male",
          "Female",
          "Male",
          "Male",
          "Male",
          "Female",
          "Male",
          "Male",
          "Female",
          "Male",
          "Female",
          "Male",
          "Male",
          "Female",
          "Male",
          "Male",
          "Male",
          "Male",
          "Male",
          "Female",
          "Male",
          "Male",
          "Male",
          "Male",
          "Female",
          "Female",
          "Female",
          "Male",
          "Male",
          "Female",
          "Female",
          "Male",
          "Female",
          "Female",
          "Female",
          "Male",
          "Female",
          "Female",
          "Female",
          "Female",
          "Female",
          "Male",
          "Female",
          "Female",
          "Female",
          "Male",
          "Male",
          "Male",
          "Male",
          "Male",
          "Male",
          "Male",
          "Male",
          "Female",
          "Male",
          "Male",
          "Male",
          "Female",
          "Male",
          "Female",
          "Male",
          "Male",
          "Male",
          "Female",
          "Male",
          "Male",
          "Male",
          "Male",
          "Female",
          "Male",
          "Male",
          "Female"
         ],
         "xaxis": "x",
         "yaxis": "y"
        }
       ],
       "layout": {
        "barmode": "group",
        "legend": {
         "title": {
          "text": "Target"
         },
         "tracegroupgap": 0
        },
        "template": {
         "data": {
          "bar": [
           {
            "error_x": {
             "color": "#2a3f5f"
            },
            "error_y": {
             "color": "#2a3f5f"
            },
            "marker": {
             "line": {
              "color": "#E5ECF6",
              "width": 0.5
             },
             "pattern": {
              "fillmode": "overlay",
              "size": 10,
              "solidity": 0.2
             }
            },
            "type": "bar"
           }
          ],
          "barpolar": [
           {
            "marker": {
             "line": {
              "color": "#E5ECF6",
              "width": 0.5
             },
             "pattern": {
              "fillmode": "overlay",
              "size": 10,
              "solidity": 0.2
             }
            },
            "type": "barpolar"
           }
          ],
          "carpet": [
           {
            "aaxis": {
             "endlinecolor": "#2a3f5f",
             "gridcolor": "white",
             "linecolor": "white",
             "minorgridcolor": "white",
             "startlinecolor": "#2a3f5f"
            },
            "baxis": {
             "endlinecolor": "#2a3f5f",
             "gridcolor": "white",
             "linecolor": "white",
             "minorgridcolor": "white",
             "startlinecolor": "#2a3f5f"
            },
            "type": "carpet"
           }
          ],
          "choropleth": [
           {
            "colorbar": {
             "outlinewidth": 0,
             "ticks": ""
            },
            "type": "choropleth"
           }
          ],
          "contour": [
           {
            "colorbar": {
             "outlinewidth": 0,
             "ticks": ""
            },
            "colorscale": [
             [
              0,
              "#0d0887"
             ],
             [
              0.1111111111111111,
              "#46039f"
             ],
             [
              0.2222222222222222,
              "#7201a8"
             ],
             [
              0.3333333333333333,
              "#9c179e"
             ],
             [
              0.4444444444444444,
              "#bd3786"
             ],
             [
              0.5555555555555556,
              "#d8576b"
             ],
             [
              0.6666666666666666,
              "#ed7953"
             ],
             [
              0.7777777777777778,
              "#fb9f3a"
             ],
             [
              0.8888888888888888,
              "#fdca26"
             ],
             [
              1,
              "#f0f921"
             ]
            ],
            "type": "contour"
           }
          ],
          "contourcarpet": [
           {
            "colorbar": {
             "outlinewidth": 0,
             "ticks": ""
            },
            "type": "contourcarpet"
           }
          ],
          "heatmap": [
           {
            "colorbar": {
             "outlinewidth": 0,
             "ticks": ""
            },
            "colorscale": [
             [
              0,
              "#0d0887"
             ],
             [
              0.1111111111111111,
              "#46039f"
             ],
             [
              0.2222222222222222,
              "#7201a8"
             ],
             [
              0.3333333333333333,
              "#9c179e"
             ],
             [
              0.4444444444444444,
              "#bd3786"
             ],
             [
              0.5555555555555556,
              "#d8576b"
             ],
             [
              0.6666666666666666,
              "#ed7953"
             ],
             [
              0.7777777777777778,
              "#fb9f3a"
             ],
             [
              0.8888888888888888,
              "#fdca26"
             ],
             [
              1,
              "#f0f921"
             ]
            ],
            "type": "heatmap"
           }
          ],
          "heatmapgl": [
           {
            "colorbar": {
             "outlinewidth": 0,
             "ticks": ""
            },
            "colorscale": [
             [
              0,
              "#0d0887"
             ],
             [
              0.1111111111111111,
              "#46039f"
             ],
             [
              0.2222222222222222,
              "#7201a8"
             ],
             [
              0.3333333333333333,
              "#9c179e"
             ],
             [
              0.4444444444444444,
              "#bd3786"
             ],
             [
              0.5555555555555556,
              "#d8576b"
             ],
             [
              0.6666666666666666,
              "#ed7953"
             ],
             [
              0.7777777777777778,
              "#fb9f3a"
             ],
             [
              0.8888888888888888,
              "#fdca26"
             ],
             [
              1,
              "#f0f921"
             ]
            ],
            "type": "heatmapgl"
           }
          ],
          "histogram": [
           {
            "marker": {
             "pattern": {
              "fillmode": "overlay",
              "size": 10,
              "solidity": 0.2
             }
            },
            "type": "histogram"
           }
          ],
          "histogram2d": [
           {
            "colorbar": {
             "outlinewidth": 0,
             "ticks": ""
            },
            "colorscale": [
             [
              0,
              "#0d0887"
             ],
             [
              0.1111111111111111,
              "#46039f"
             ],
             [
              0.2222222222222222,
              "#7201a8"
             ],
             [
              0.3333333333333333,
              "#9c179e"
             ],
             [
              0.4444444444444444,
              "#bd3786"
             ],
             [
              0.5555555555555556,
              "#d8576b"
             ],
             [
              0.6666666666666666,
              "#ed7953"
             ],
             [
              0.7777777777777778,
              "#fb9f3a"
             ],
             [
              0.8888888888888888,
              "#fdca26"
             ],
             [
              1,
              "#f0f921"
             ]
            ],
            "type": "histogram2d"
           }
          ],
          "histogram2dcontour": [
           {
            "colorbar": {
             "outlinewidth": 0,
             "ticks": ""
            },
            "colorscale": [
             [
              0,
              "#0d0887"
             ],
             [
              0.1111111111111111,
              "#46039f"
             ],
             [
              0.2222222222222222,
              "#7201a8"
             ],
             [
              0.3333333333333333,
              "#9c179e"
             ],
             [
              0.4444444444444444,
              "#bd3786"
             ],
             [
              0.5555555555555556,
              "#d8576b"
             ],
             [
              0.6666666666666666,
              "#ed7953"
             ],
             [
              0.7777777777777778,
              "#fb9f3a"
             ],
             [
              0.8888888888888888,
              "#fdca26"
             ],
             [
              1,
              "#f0f921"
             ]
            ],
            "type": "histogram2dcontour"
           }
          ],
          "mesh3d": [
           {
            "colorbar": {
             "outlinewidth": 0,
             "ticks": ""
            },
            "type": "mesh3d"
           }
          ],
          "parcoords": [
           {
            "line": {
             "colorbar": {
              "outlinewidth": 0,
              "ticks": ""
             }
            },
            "type": "parcoords"
           }
          ],
          "pie": [
           {
            "automargin": true,
            "type": "pie"
           }
          ],
          "scatter": [
           {
            "fillpattern": {
             "fillmode": "overlay",
             "size": 10,
             "solidity": 0.2
            },
            "type": "scatter"
           }
          ],
          "scatter3d": [
           {
            "line": {
             "colorbar": {
              "outlinewidth": 0,
              "ticks": ""
             }
            },
            "marker": {
             "colorbar": {
              "outlinewidth": 0,
              "ticks": ""
             }
            },
            "type": "scatter3d"
           }
          ],
          "scattercarpet": [
           {
            "marker": {
             "colorbar": {
              "outlinewidth": 0,
              "ticks": ""
             }
            },
            "type": "scattercarpet"
           }
          ],
          "scattergeo": [
           {
            "marker": {
             "colorbar": {
              "outlinewidth": 0,
              "ticks": ""
             }
            },
            "type": "scattergeo"
           }
          ],
          "scattergl": [
           {
            "marker": {
             "colorbar": {
              "outlinewidth": 0,
              "ticks": ""
             }
            },
            "type": "scattergl"
           }
          ],
          "scattermapbox": [
           {
            "marker": {
             "colorbar": {
              "outlinewidth": 0,
              "ticks": ""
             }
            },
            "type": "scattermapbox"
           }
          ],
          "scatterpolar": [
           {
            "marker": {
             "colorbar": {
              "outlinewidth": 0,
              "ticks": ""
             }
            },
            "type": "scatterpolar"
           }
          ],
          "scatterpolargl": [
           {
            "marker": {
             "colorbar": {
              "outlinewidth": 0,
              "ticks": ""
             }
            },
            "type": "scatterpolargl"
           }
          ],
          "scatterternary": [
           {
            "marker": {
             "colorbar": {
              "outlinewidth": 0,
              "ticks": ""
             }
            },
            "type": "scatterternary"
           }
          ],
          "surface": [
           {
            "colorbar": {
             "outlinewidth": 0,
             "ticks": ""
            },
            "colorscale": [
             [
              0,
              "#0d0887"
             ],
             [
              0.1111111111111111,
              "#46039f"
             ],
             [
              0.2222222222222222,
              "#7201a8"
             ],
             [
              0.3333333333333333,
              "#9c179e"
             ],
             [
              0.4444444444444444,
              "#bd3786"
             ],
             [
              0.5555555555555556,
              "#d8576b"
             ],
             [
              0.6666666666666666,
              "#ed7953"
             ],
             [
              0.7777777777777778,
              "#fb9f3a"
             ],
             [
              0.8888888888888888,
              "#fdca26"
             ],
             [
              1,
              "#f0f921"
             ]
            ],
            "type": "surface"
           }
          ],
          "table": [
           {
            "cells": {
             "fill": {
              "color": "#EBF0F8"
             },
             "line": {
              "color": "white"
             }
            },
            "header": {
             "fill": {
              "color": "#C8D4E3"
             },
             "line": {
              "color": "white"
             }
            },
            "type": "table"
           }
          ]
         },
         "layout": {
          "annotationdefaults": {
           "arrowcolor": "#2a3f5f",
           "arrowhead": 0,
           "arrowwidth": 1
          },
          "autotypenumbers": "strict",
          "coloraxis": {
           "colorbar": {
            "outlinewidth": 0,
            "ticks": ""
           }
          },
          "colorscale": {
           "diverging": [
            [
             0,
             "#8e0152"
            ],
            [
             0.1,
             "#c51b7d"
            ],
            [
             0.2,
             "#de77ae"
            ],
            [
             0.3,
             "#f1b6da"
            ],
            [
             0.4,
             "#fde0ef"
            ],
            [
             0.5,
             "#f7f7f7"
            ],
            [
             0.6,
             "#e6f5d0"
            ],
            [
             0.7,
             "#b8e186"
            ],
            [
             0.8,
             "#7fbc41"
            ],
            [
             0.9,
             "#4d9221"
            ],
            [
             1,
             "#276419"
            ]
           ],
           "sequential": [
            [
             0,
             "#0d0887"
            ],
            [
             0.1111111111111111,
             "#46039f"
            ],
            [
             0.2222222222222222,
             "#7201a8"
            ],
            [
             0.3333333333333333,
             "#9c179e"
            ],
            [
             0.4444444444444444,
             "#bd3786"
            ],
            [
             0.5555555555555556,
             "#d8576b"
            ],
            [
             0.6666666666666666,
             "#ed7953"
            ],
            [
             0.7777777777777778,
             "#fb9f3a"
            ],
            [
             0.8888888888888888,
             "#fdca26"
            ],
            [
             1,
             "#f0f921"
            ]
           ],
           "sequentialminus": [
            [
             0,
             "#0d0887"
            ],
            [
             0.1111111111111111,
             "#46039f"
            ],
            [
             0.2222222222222222,
             "#7201a8"
            ],
            [
             0.3333333333333333,
             "#9c179e"
            ],
            [
             0.4444444444444444,
             "#bd3786"
            ],
            [
             0.5555555555555556,
             "#d8576b"
            ],
            [
             0.6666666666666666,
             "#ed7953"
            ],
            [
             0.7777777777777778,
             "#fb9f3a"
            ],
            [
             0.8888888888888888,
             "#fdca26"
            ],
            [
             1,
             "#f0f921"
            ]
           ]
          },
          "colorway": [
           "#636efa",
           "#EF553B",
           "#00cc96",
           "#ab63fa",
           "#FFA15A",
           "#19d3f3",
           "#FF6692",
           "#B6E880",
           "#FF97FF",
           "#FECB52"
          ],
          "font": {
           "color": "#2a3f5f"
          },
          "geo": {
           "bgcolor": "white",
           "lakecolor": "white",
           "landcolor": "#E5ECF6",
           "showlakes": true,
           "showland": true,
           "subunitcolor": "white"
          },
          "hoverlabel": {
           "align": "left"
          },
          "hovermode": "closest",
          "mapbox": {
           "style": "light"
          },
          "paper_bgcolor": "white",
          "plot_bgcolor": "#E5ECF6",
          "polar": {
           "angularaxis": {
            "gridcolor": "white",
            "linecolor": "white",
            "ticks": ""
           },
           "bgcolor": "#E5ECF6",
           "radialaxis": {
            "gridcolor": "white",
            "linecolor": "white",
            "ticks": ""
           }
          },
          "scene": {
           "xaxis": {
            "backgroundcolor": "#E5ECF6",
            "gridcolor": "white",
            "gridwidth": 2,
            "linecolor": "white",
            "showbackground": true,
            "ticks": "",
            "zerolinecolor": "white"
           },
           "yaxis": {
            "backgroundcolor": "#E5ECF6",
            "gridcolor": "white",
            "gridwidth": 2,
            "linecolor": "white",
            "showbackground": true,
            "ticks": "",
            "zerolinecolor": "white"
           },
           "zaxis": {
            "backgroundcolor": "#E5ECF6",
            "gridcolor": "white",
            "gridwidth": 2,
            "linecolor": "white",
            "showbackground": true,
            "ticks": "",
            "zerolinecolor": "white"
           }
          },
          "shapedefaults": {
           "line": {
            "color": "#2a3f5f"
           }
          },
          "ternary": {
           "aaxis": {
            "gridcolor": "white",
            "linecolor": "white",
            "ticks": ""
           },
           "baxis": {
            "gridcolor": "white",
            "linecolor": "white",
            "ticks": ""
           },
           "bgcolor": "#E5ECF6",
           "caxis": {
            "gridcolor": "white",
            "linecolor": "white",
            "ticks": ""
           }
          },
          "title": {
           "x": 0.05
          },
          "xaxis": {
           "automargin": true,
           "gridcolor": "white",
           "linecolor": "white",
           "ticks": "",
           "title": {
            "standoff": 15
           },
           "zerolinecolor": "white",
           "zerolinewidth": 2
          },
          "yaxis": {
           "automargin": true,
           "gridcolor": "white",
           "linecolor": "white",
           "ticks": "",
           "title": {
            "standoff": 15
           },
           "zerolinecolor": "white",
           "zerolinewidth": 2
          }
         }
        },
        "title": {
         "text": "Heart Disease by Sex",
         "x": 0.5
        },
        "xaxis": {
         "anchor": "y",
         "domain": [
          0,
          1
         ],
         "title": {
          "text": "Sex"
         }
        },
        "yaxis": {
         "anchor": "x",
         "domain": [
          0,
          1
         ],
         "title": {
          "text": "Count"
         }
        }
       }
      }
     },
     "metadata": {},
     "output_type": "display_data"
    }
   ],
   "source": [
    "# Create a count plot using Plotly Express\n",
    "fig = px.histogram(df, x='Sex', color='Target', barmode='group',\n",
    "                   category_orders={'Target': ['No Disease', 'Disease']},\n",
    "                   title='Heart Disease by Sex')\n",
    "\n",
    "# Update layout for better readability\n",
    "fig.update_layout(\n",
    "    xaxis_title='Sex',\n",
    "    yaxis_title='Count',\n",
    "    title_x=0.5,\n",
    "    legend_title='Target')\n",
    "\n",
    "fig.show()"
   ]
  },
  {
   "cell_type": "code",
   "execution_count": 103,
   "metadata": {},
   "outputs": [
    {
     "data": {
      "text/html": [
       "<div>\n",
       "<style scoped>\n",
       "    .dataframe tbody tr th:only-of-type {\n",
       "        vertical-align: middle;\n",
       "    }\n",
       "\n",
       "    .dataframe tbody tr th {\n",
       "        vertical-align: top;\n",
       "    }\n",
       "\n",
       "    .dataframe thead th {\n",
       "        text-align: right;\n",
       "    }\n",
       "</style>\n",
       "<table border=\"1\" class=\"dataframe\">\n",
       "  <thead>\n",
       "    <tr style=\"text-align: right;\">\n",
       "      <th></th>\n",
       "      <th>count</th>\n",
       "      <th>mean</th>\n",
       "      <th>std</th>\n",
       "      <th>min</th>\n",
       "      <th>25%</th>\n",
       "      <th>50%</th>\n",
       "      <th>75%</th>\n",
       "      <th>max</th>\n",
       "    </tr>\n",
       "  </thead>\n",
       "  <tbody>\n",
       "    <tr>\n",
       "      <th>Age</th>\n",
       "      <td>1025.0</td>\n",
       "      <td>54.434146</td>\n",
       "      <td>9.072290</td>\n",
       "      <td>29.0</td>\n",
       "      <td>48.0</td>\n",
       "      <td>56.0</td>\n",
       "      <td>61.0</td>\n",
       "      <td>77.0</td>\n",
       "    </tr>\n",
       "    <tr>\n",
       "      <th>Resting BPs</th>\n",
       "      <td>1025.0</td>\n",
       "      <td>131.611707</td>\n",
       "      <td>17.516718</td>\n",
       "      <td>94.0</td>\n",
       "      <td>120.0</td>\n",
       "      <td>130.0</td>\n",
       "      <td>140.0</td>\n",
       "      <td>200.0</td>\n",
       "    </tr>\n",
       "    <tr>\n",
       "      <th>Cholestoral</th>\n",
       "      <td>1025.0</td>\n",
       "      <td>246.000000</td>\n",
       "      <td>51.592510</td>\n",
       "      <td>126.0</td>\n",
       "      <td>211.0</td>\n",
       "      <td>240.0</td>\n",
       "      <td>275.0</td>\n",
       "      <td>564.0</td>\n",
       "    </tr>\n",
       "    <tr>\n",
       "      <th>Mx Heart Rate</th>\n",
       "      <td>1025.0</td>\n",
       "      <td>149.114146</td>\n",
       "      <td>23.005724</td>\n",
       "      <td>71.0</td>\n",
       "      <td>132.0</td>\n",
       "      <td>152.0</td>\n",
       "      <td>166.0</td>\n",
       "      <td>202.0</td>\n",
       "    </tr>\n",
       "    <tr>\n",
       "      <th>Oldpeak</th>\n",
       "      <td>1025.0</td>\n",
       "      <td>1.071512</td>\n",
       "      <td>1.175053</td>\n",
       "      <td>0.0</td>\n",
       "      <td>0.0</td>\n",
       "      <td>0.8</td>\n",
       "      <td>1.8</td>\n",
       "      <td>6.2</td>\n",
       "    </tr>\n",
       "    <tr>\n",
       "      <th>No. of Major Vessels Coloured by Flourosopy</th>\n",
       "      <td>1025.0</td>\n",
       "      <td>0.754146</td>\n",
       "      <td>1.030798</td>\n",
       "      <td>0.0</td>\n",
       "      <td>0.0</td>\n",
       "      <td>0.0</td>\n",
       "      <td>1.0</td>\n",
       "      <td>4.0</td>\n",
       "    </tr>\n",
       "  </tbody>\n",
       "</table>\n",
       "</div>"
      ],
      "text/plain": [
       "                                              count        mean        std  \\\n",
       "Age                                          1025.0   54.434146   9.072290   \n",
       "Resting BPs                                  1025.0  131.611707  17.516718   \n",
       "Cholestoral                                  1025.0  246.000000  51.592510   \n",
       "Mx Heart Rate                                1025.0  149.114146  23.005724   \n",
       "Oldpeak                                      1025.0    1.071512   1.175053   \n",
       "No. of Major Vessels Coloured by Flourosopy  1025.0    0.754146   1.030798   \n",
       "\n",
       "                                               min    25%    50%    75%    max  \n",
       "Age                                           29.0   48.0   56.0   61.0   77.0  \n",
       "Resting BPs                                   94.0  120.0  130.0  140.0  200.0  \n",
       "Cholestoral                                  126.0  211.0  240.0  275.0  564.0  \n",
       "Mx Heart Rate                                 71.0  132.0  152.0  166.0  202.0  \n",
       "Oldpeak                                        0.0    0.0    0.8    1.8    6.2  \n",
       "No. of Major Vessels Coloured by Flourosopy    0.0    0.0    0.0    1.0    4.0  "
      ]
     },
     "execution_count": 103,
     "metadata": {},
     "output_type": "execute_result"
    }
   ],
   "source": [
    "# Key Metrics: Display summary statistics\n",
    "summary_stats = df.describe().transpose()\n",
    "summary_stats"
   ]
  },
  {
   "cell_type": "code",
   "execution_count": 105,
   "metadata": {},
   "outputs": [],
   "source": [
    "# Save the cleaned data\n",
    "df.to_csv('cleaned_heart_disease_data.csv', index=False)"
   ]
  },
  {
   "cell_type": "code",
   "execution_count": null,
   "metadata": {},
   "outputs": [],
   "source": []
  },
  {
   "cell_type": "code",
   "execution_count": null,
   "metadata": {},
   "outputs": [],
   "source": []
  }
 ],
 "metadata": {
  "kernelspec": {
   "display_name": "Python 3",
   "language": "python",
   "name": "python3"
  },
  "language_info": {
   "codemirror_mode": {
    "name": "ipython",
    "version": 3
   },
   "file_extension": ".py",
   "mimetype": "text/x-python",
   "name": "python",
   "nbconvert_exporter": "python",
   "pygments_lexer": "ipython3",
   "version": "3.11.7"
  }
 },
 "nbformat": 4,
 "nbformat_minor": 2
}
